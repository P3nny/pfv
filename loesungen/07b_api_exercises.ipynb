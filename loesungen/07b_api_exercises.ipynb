{
 "cells": [
  {
   "cell_type": "markdown",
   "metadata": {},
   "source": [
    "Hier kommen weitere hilfreiche Infos zum Umgang mit APIs."
   ]
  },
  {
   "cell_type": "markdown",
   "metadata": {},
   "source": [
    "## URL Encoding\n",
    "Manchmal möchte man Zeichen in URLs unterbringen, die problematisch sein können - entweder, weil sie schon ihre eigene Bedeutung in URLs zugeordnet haben, wie zum Beispiel `/`, `?`, weil sie nicht im ASCII-Zeichensatz enthalten sind, oder weil sie aus anderen Gründen unzulässig sind (z. B. Leerzeichen). Dazu gehören auch immer Umlaute.\n",
    "\n",
    "Um diese Zeichen trotzdem übertragen zu können, wird in der Regel das sogenannte Prozent-Encoding verwendet. Die `requests`-Bibliothek macht das in der Regel automatisch für dich, Pandas jedoch nicht. Wenn du auf einen solchen Fehler triffst, kannst du die Funktion Quote verwenden. Die übersetzt Strings, die man ihr gibt in Prozent-Encoding."
   ]
  },
  {
   "cell_type": "code",
   "execution_count": 10,
   "metadata": {},
   "outputs": [],
   "source": [
    "import pandas as pd\n",
    "import requests"
   ]
  },
  {
   "cell_type": "code",
   "execution_count": 11,
   "metadata": {
    "tags": []
   },
   "outputs": [
    {
     "data": {
      "text/plain": [
       "'K%C3%96LN'"
      ]
     },
     "execution_count": 11,
     "metadata": {},
     "output_type": "execute_result"
    }
   ],
   "source": [
    "from urllib.parse import quote\n",
    "\n",
    "quote('KÖLN')"
   ]
  },
  {
   "cell_type": "markdown",
   "metadata": {},
   "source": [
    "Den übersetzten String kannst du dann rauskopieren und in der URL verwenden. \n",
    "\n"
   ]
  },
  {
   "cell_type": "markdown",
   "metadata": {},
   "source": [
    "## Übung"
   ]
  },
  {
   "cell_type": "markdown",
   "metadata": {},
   "source": [
    "Wenn du dein Verständnis prüfen willst, versuche doch mal, den aktuellen Wasserstand eines anderen Flusses von der API abzurufen."
   ]
  },
  {
   "cell_type": "code",
   "execution_count": 12,
   "metadata": {},
   "outputs": [
    {
     "data": {
      "text/html": [
       "<div>\n",
       "<style scoped>\n",
       "    .dataframe tbody tr th:only-of-type {\n",
       "        vertical-align: middle;\n",
       "    }\n",
       "\n",
       "    .dataframe tbody tr th {\n",
       "        vertical-align: top;\n",
       "    }\n",
       "\n",
       "    .dataframe thead th {\n",
       "        text-align: right;\n",
       "    }\n",
       "</style>\n",
       "<table border=\"1\" class=\"dataframe\">\n",
       "  <thead>\n",
       "    <tr style=\"text-align: right;\">\n",
       "      <th></th>\n",
       "      <th>uuid</th>\n",
       "      <th>number</th>\n",
       "      <th>shortname</th>\n",
       "      <th>longname</th>\n",
       "      <th>km</th>\n",
       "      <th>agency</th>\n",
       "      <th>water</th>\n",
       "      <th>longitude</th>\n",
       "      <th>latitude</th>\n",
       "    </tr>\n",
       "  </thead>\n",
       "  <tbody>\n",
       "    <tr>\n",
       "      <th>0</th>\n",
       "      <td>e0d7d4b2-7a72-429f-a858-f1e6f5ff40ae</td>\n",
       "      <td>9460041</td>\n",
       "      <td>LT ALTE WESER (RADAR)</td>\n",
       "      <td>LT ALTE WESER (RADAR)</td>\n",
       "      <td>0.000</td>\n",
       "      <td>WSA BREMERHAVEN</td>\n",
       "      <td>{'shortname': 'WESER', 'longname': 'WESER'}</td>\n",
       "      <td>NaN</td>\n",
       "      <td>NaN</td>\n",
       "    </tr>\n",
       "    <tr>\n",
       "      <th>1</th>\n",
       "      <td>b26bfc88-eb8a-45b9-9dd0-0e41949a2648</td>\n",
       "      <td>4910050</td>\n",
       "      <td>GROSSE WESERBRÜCKE</td>\n",
       "      <td>GROSSE WESERBRÜCKE</td>\n",
       "      <td>0.040</td>\n",
       "      <td>WSA BREMEN</td>\n",
       "      <td>{'shortname': 'WESER', 'longname': 'WESER'}</td>\n",
       "      <td>8.803636</td>\n",
       "      <td>53.073097</td>\n",
       "    </tr>\n",
       "    <tr>\n",
       "      <th>2</th>\n",
       "      <td>227e53ca-4dd9-482b-be62-52fdc62a4b4e</td>\n",
       "      <td>43100109</td>\n",
       "      <td>HANN.MUENDEN</td>\n",
       "      <td>HANN.MUENDEN</td>\n",
       "      <td>0.650</td>\n",
       "      <td>WSA HANNOVERSCH MÜNDEN</td>\n",
       "      <td>{'shortname': 'WESER', 'longname': 'WESER'}</td>\n",
       "      <td>9.640917</td>\n",
       "      <td>51.425789</td>\n",
       "    </tr>\n",
       "    <tr>\n",
       "      <th>3</th>\n",
       "      <td>7e530482-0a13-4728-99db-a376304398b8</td>\n",
       "      <td>4970035</td>\n",
       "      <td>STROHAUSER PLATE OST</td>\n",
       "      <td>STROHAUSER PLATE OST</td>\n",
       "      <td>1.000</td>\n",
       "      <td>WSA BREMERHAVEN</td>\n",
       "      <td>{'shortname': 'WESER', 'longname': 'WESER'}</td>\n",
       "      <td>NaN</td>\n",
       "      <td>NaN</td>\n",
       "    </tr>\n",
       "    <tr>\n",
       "      <th>4</th>\n",
       "      <td>c1f059dd-5063-468a-9dfa-0360fe0b030d</td>\n",
       "      <td>4910060</td>\n",
       "      <td>OSLEBSHAUSEN</td>\n",
       "      <td>OSLEBSHAUSEN</td>\n",
       "      <td>8.367</td>\n",
       "      <td>WSA BREMEN</td>\n",
       "      <td>{'shortname': 'WESER', 'longname': 'WESER'}</td>\n",
       "      <td>8.712215</td>\n",
       "      <td>53.119797</td>\n",
       "    </tr>\n",
       "    <tr>\n",
       "      <th>5</th>\n",
       "      <td>b8b8c069-0993-4a45-a226-a6c8c18185ab</td>\n",
       "      <td>211431</td>\n",
       "      <td>LEMWERDER UNTERFEUER</td>\n",
       "      <td>LEMWERDER UNTERFEUER</td>\n",
       "      <td>17.500</td>\n",
       "      <td>WSA BREMEN</td>\n",
       "      <td>{'shortname': 'WESER', 'longname': 'WESER'}</td>\n",
       "      <td>NaN</td>\n",
       "      <td>NaN</td>\n",
       "    </tr>\n",
       "    <tr>\n",
       "      <th>6</th>\n",
       "      <td>3f3b4445-9a6a-44c3-8575-d86ce30e2de0</td>\n",
       "      <td>4950010</td>\n",
       "      <td>VEGESACK</td>\n",
       "      <td>VEGESACK</td>\n",
       "      <td>17.843</td>\n",
       "      <td>WSA BREMEN</td>\n",
       "      <td>{'shortname': 'WESER', 'longname': 'WESER'}</td>\n",
       "      <td>8.619533</td>\n",
       "      <td>53.169406</td>\n",
       "    </tr>\n",
       "    <tr>\n",
       "      <th>7</th>\n",
       "      <td>cca92e6d-e2c3-4c5f-be56-5b8682b353eb</td>\n",
       "      <td>4950020</td>\n",
       "      <td>FARGE</td>\n",
       "      <td>FARGE</td>\n",
       "      <td>26.261</td>\n",
       "      <td>WSA BREMEN</td>\n",
       "      <td>{'shortname': 'WESER', 'longname': 'WESER'}</td>\n",
       "      <td>8.510193</td>\n",
       "      <td>53.204709</td>\n",
       "    </tr>\n",
       "    <tr>\n",
       "      <th>8</th>\n",
       "      <td>eba772d4-509e-4fe7-ba51-d9a29b190432</td>\n",
       "      <td>4970010</td>\n",
       "      <td>ELSFLETH</td>\n",
       "      <td>ELSFLETH</td>\n",
       "      <td>33.325</td>\n",
       "      <td>WSA BREMEN</td>\n",
       "      <td>{'shortname': 'WESER', 'longname': 'WESER'}</td>\n",
       "      <td>8.481417</td>\n",
       "      <td>53.263946</td>\n",
       "    </tr>\n",
       "    <tr>\n",
       "      <th>9</th>\n",
       "      <td>314ef522-a060-4033-ba14-8169dd26bb8d</td>\n",
       "      <td>43900105</td>\n",
       "      <td>WAHMBECK</td>\n",
       "      <td>WAHMBECK</td>\n",
       "      <td>35.970</td>\n",
       "      <td>WSA HANNOVERSCH MÜNDEN</td>\n",
       "      <td>{'shortname': 'WESER', 'longname': 'WESER'}</td>\n",
       "      <td>9.519728</td>\n",
       "      <td>51.625616</td>\n",
       "    </tr>\n",
       "    <tr>\n",
       "      <th>10</th>\n",
       "      <td>7febef93-09ce-49e9-9643-ecb3076ce9a7</td>\n",
       "      <td>4970020</td>\n",
       "      <td>BRAKE</td>\n",
       "      <td>BRAKE</td>\n",
       "      <td>39.184</td>\n",
       "      <td>WSA BREMEN</td>\n",
       "      <td>{'shortname': 'WESER', 'longname': 'WESER'}</td>\n",
       "      <td>8.486685</td>\n",
       "      <td>53.315995</td>\n",
       "    </tr>\n",
       "    <tr>\n",
       "      <th>11</th>\n",
       "      <td>1e51195c-f9d7-4cff-9db1-d92bb855005c</td>\n",
       "      <td>45100100</td>\n",
       "      <td>KARLSHAFEN</td>\n",
       "      <td>KARLSHAFEN</td>\n",
       "      <td>45.520</td>\n",
       "      <td>WSA HANNOVERSCH MÜNDEN</td>\n",
       "      <td>{'shortname': 'WESER', 'longname': 'WESER'}</td>\n",
       "      <td>9.438681</td>\n",
       "      <td>51.647986</td>\n",
       "    </tr>\n",
       "    <tr>\n",
       "      <th>12</th>\n",
       "      <td>116572da-c036-4486-ac18-a92932424e30</td>\n",
       "      <td>4970030</td>\n",
       "      <td>RECHTENFLETH</td>\n",
       "      <td>RECHTENFLETH</td>\n",
       "      <td>46.464</td>\n",
       "      <td>WSA BREMERHAVEN</td>\n",
       "      <td>{'shortname': 'WESER', 'longname': 'WESER'}</td>\n",
       "      <td>8.500554</td>\n",
       "      <td>53.381162</td>\n",
       "    </tr>\n",
       "    <tr>\n",
       "      <th>13</th>\n",
       "      <td>06e6b715-eb03-46ce-adf4-6cafca6368eb</td>\n",
       "      <td>4970040</td>\n",
       "      <td>NORDENHAM</td>\n",
       "      <td>NORDENHAM</td>\n",
       "      <td>55.811</td>\n",
       "      <td>WSA BREMERHAVEN</td>\n",
       "      <td>{'shortname': 'WESER', 'longname': 'WESER'}</td>\n",
       "      <td>8.488052</td>\n",
       "      <td>53.464497</td>\n",
       "    </tr>\n",
       "    <tr>\n",
       "      <th>14</th>\n",
       "      <td>99dd338d-ef7d-43fd-a4e0-a9103406f0ad</td>\n",
       "      <td>4970090</td>\n",
       "      <td>BLEXEN ABZ</td>\n",
       "      <td>BLEXEN ABZ</td>\n",
       "      <td>62.460</td>\n",
       "      <td>WSA BREMERHAVEN</td>\n",
       "      <td>{'shortname': 'WESER', 'longname': 'WESER'}</td>\n",
       "      <td>8.537412</td>\n",
       "      <td>53.517580</td>\n",
       "    </tr>\n",
       "    <tr>\n",
       "      <th>15</th>\n",
       "      <td>d3f822a0-e201-4a61-8913-589c74818ae0</td>\n",
       "      <td>4990010</td>\n",
       "      <td>BHV ALTER LEUCHTTURM</td>\n",
       "      <td>BHV ALTER LEUCHTTURM</td>\n",
       "      <td>66.638</td>\n",
       "      <td>WSA BREMERHAVEN</td>\n",
       "      <td>{'shortname': 'WESER', 'longname': 'WESER'}</td>\n",
       "      <td>8.568175</td>\n",
       "      <td>53.544956</td>\n",
       "    </tr>\n",
       "    <tr>\n",
       "      <th>16</th>\n",
       "      <td>763633e7-3b4b-470a-978e-f9e456e4df7c</td>\n",
       "      <td>45300109</td>\n",
       "      <td>HÖXTER</td>\n",
       "      <td>HÖXTER</td>\n",
       "      <td>69.620</td>\n",
       "      <td>WSA HANNOVERSCH MÜNDEN</td>\n",
       "      <td>{'shortname': 'WESER', 'longname': 'WESER'}</td>\n",
       "      <td>9.400470</td>\n",
       "      <td>51.775801</td>\n",
       "    </tr>\n",
       "    <tr>\n",
       "      <th>17</th>\n",
       "      <td>78029185-9dfc-4b1b-8695-45ebc2a09cf4</td>\n",
       "      <td>9460010</td>\n",
       "      <td>ROBBENSÜDSTEERT</td>\n",
       "      <td>ROBBENSÜDSTEERT</td>\n",
       "      <td>79.942</td>\n",
       "      <td>WSA BREMERHAVEN</td>\n",
       "      <td>{'shortname': 'WESER', 'longname': 'WESER'}</td>\n",
       "      <td>8.445202</td>\n",
       "      <td>53.639224</td>\n",
       "    </tr>\n",
       "    <tr>\n",
       "      <th>18</th>\n",
       "      <td>ad3b53f8-8c1b-439f-a0df-9f24827026d5</td>\n",
       "      <td>9460020</td>\n",
       "      <td>DWARSGAT</td>\n",
       "      <td>DWARSGAT</td>\n",
       "      <td>92.656</td>\n",
       "      <td>WSA BREMERHAVEN</td>\n",
       "      <td>{'shortname': 'WESER', 'longname': 'WESER'}</td>\n",
       "      <td>8.307616</td>\n",
       "      <td>53.718636</td>\n",
       "    </tr>\n",
       "    <tr>\n",
       "      <th>19</th>\n",
       "      <td>5310aed3-784c-4290-bfff-806c75b831d9</td>\n",
       "      <td>45300200</td>\n",
       "      <td>BODENWERDER</td>\n",
       "      <td>BODENWERDER</td>\n",
       "      <td>110.720</td>\n",
       "      <td>WSA HANNOVERSCH MÜNDEN</td>\n",
       "      <td>{'shortname': 'WESER', 'longname': 'WESER'}</td>\n",
       "      <td>9.515736</td>\n",
       "      <td>51.973727</td>\n",
       "    </tr>\n",
       "    <tr>\n",
       "      <th>20</th>\n",
       "      <td>c6772c3c-a6bb-4728-9250-a408ab3856bd</td>\n",
       "      <td>9460040</td>\n",
       "      <td>LEUCHTTURM ALTE WESER</td>\n",
       "      <td>LEUCHTTURM ALTE WESER</td>\n",
       "      <td>115.000</td>\n",
       "      <td>WSA BREMERHAVEN</td>\n",
       "      <td>{'shortname': 'WESER', 'longname': 'WESER'}</td>\n",
       "      <td>8.127572</td>\n",
       "      <td>53.863269</td>\n",
       "    </tr>\n",
       "    <tr>\n",
       "      <th>21</th>\n",
       "      <td>fa886080-4271-4684-9999-1b6862a20ac1</td>\n",
       "      <td>45700207</td>\n",
       "      <td>HAMELN WEHRBERGEN</td>\n",
       "      <td>HAMELN WEHRBERGEN</td>\n",
       "      <td>139.680</td>\n",
       "      <td>WSA HANNOVERSCH MÜNDEN</td>\n",
       "      <td>{'shortname': 'WESER', 'longname': 'WESER'}</td>\n",
       "      <td>9.306544</td>\n",
       "      <td>52.123731</td>\n",
       "    </tr>\n",
       "    <tr>\n",
       "      <th>22</th>\n",
       "      <td>005dfdae-efcc-410a-bf1c-24096e0c2866</td>\n",
       "      <td>45900109</td>\n",
       "      <td>RINTELN</td>\n",
       "      <td>RINTELN</td>\n",
       "      <td>163.240</td>\n",
       "      <td>WSA MINDEN</td>\n",
       "      <td>{'shortname': 'WESER', 'longname': 'WESER'}</td>\n",
       "      <td>9.081705</td>\n",
       "      <td>52.189747</td>\n",
       "    </tr>\n",
       "    <tr>\n",
       "      <th>23</th>\n",
       "      <td>2f56e265-cd67-4ea1-8529-549b6ccf273a</td>\n",
       "      <td>45900208</td>\n",
       "      <td>VLOTHO</td>\n",
       "      <td>VLOTHO</td>\n",
       "      <td>184.010</td>\n",
       "      <td>WSA MINDEN</td>\n",
       "      <td>{'shortname': 'WESER', 'longname': 'WESER'}</td>\n",
       "      <td>8.862407</td>\n",
       "      <td>52.176396</td>\n",
       "    </tr>\n",
       "    <tr>\n",
       "      <th>24</th>\n",
       "      <td>6b1b5c70-a23f-46de-954d-02bdc5bf2ecc</td>\n",
       "      <td>47100100</td>\n",
       "      <td>PORTA</td>\n",
       "      <td>PORTA</td>\n",
       "      <td>198.360</td>\n",
       "      <td>WSA MINDEN</td>\n",
       "      <td>{'shortname': 'WESER', 'longname': 'WESER'}</td>\n",
       "      <td>8.922041</td>\n",
       "      <td>52.248709</td>\n",
       "    </tr>\n",
       "    <tr>\n",
       "      <th>25</th>\n",
       "      <td>9aae4921-bda4-4081-b67b-2e0c5ab8bc54</td>\n",
       "      <td>47300100</td>\n",
       "      <td>PETERSHAGEN</td>\n",
       "      <td>PETERSHAGEN</td>\n",
       "      <td>215.770</td>\n",
       "      <td>WSA VERDEN</td>\n",
       "      <td>{'shortname': 'WESER', 'longname': 'WESER'}</td>\n",
       "      <td>8.970778</td>\n",
       "      <td>52.382338</td>\n",
       "    </tr>\n",
       "    <tr>\n",
       "      <th>26</th>\n",
       "      <td>edfa125a-1e46-4c7e-9f3a-568ae013a4df</td>\n",
       "      <td>47500110</td>\n",
       "      <td>STOLZENAU</td>\n",
       "      <td>STOLZENAU</td>\n",
       "      <td>243.390</td>\n",
       "      <td>WSA VERDEN</td>\n",
       "      <td>{'shortname': 'WESER', 'longname': 'WESER'}</td>\n",
       "      <td>9.077735</td>\n",
       "      <td>52.518250</td>\n",
       "    </tr>\n",
       "    <tr>\n",
       "      <th>27</th>\n",
       "      <td>3a24863b-fdec-455c-82da-ea8c7ae6f97a</td>\n",
       "      <td>47500200</td>\n",
       "      <td>LIEBENAU</td>\n",
       "      <td>LIEBENAU</td>\n",
       "      <td>256.150</td>\n",
       "      <td>WSA VERDEN</td>\n",
       "      <td>{'shortname': 'WESER', 'longname': 'WESER'}</td>\n",
       "      <td>9.112772</td>\n",
       "      <td>52.594206</td>\n",
       "    </tr>\n",
       "    <tr>\n",
       "      <th>28</th>\n",
       "      <td>38497786-6c29-47f4-93de-d96001629496</td>\n",
       "      <td>47900118</td>\n",
       "      <td>NIENBURG</td>\n",
       "      <td>NIENBURG</td>\n",
       "      <td>268.180</td>\n",
       "      <td>WSA VERDEN</td>\n",
       "      <td>{'shortname': 'WESER', 'longname': 'WESER'}</td>\n",
       "      <td>9.204659</td>\n",
       "      <td>52.644153</td>\n",
       "    </tr>\n",
       "    <tr>\n",
       "      <th>29</th>\n",
       "      <td>5b83cad2-ed64-42cf-87dd-98e27988c31a</td>\n",
       "      <td>47900107</td>\n",
       "      <td>DRAKENBURG</td>\n",
       "      <td>DRAKENBURG</td>\n",
       "      <td>278.880</td>\n",
       "      <td>WSA VERDEN</td>\n",
       "      <td>{'shortname': 'WESER', 'longname': 'WESER'}</td>\n",
       "      <td>9.225581</td>\n",
       "      <td>52.693099</td>\n",
       "    </tr>\n",
       "    <tr>\n",
       "      <th>30</th>\n",
       "      <td>86f66699-29b6-4b94-85cb-d241e832230a</td>\n",
       "      <td>47900129</td>\n",
       "      <td>HOYA</td>\n",
       "      <td>HOYA</td>\n",
       "      <td>298.400</td>\n",
       "      <td>WSA VERDEN</td>\n",
       "      <td>{'shortname': 'WESER', 'longname': 'WESER'}</td>\n",
       "      <td>9.146924</td>\n",
       "      <td>52.800984</td>\n",
       "    </tr>\n",
       "    <tr>\n",
       "      <th>31</th>\n",
       "      <td>e7c7cbaa-9a85-4033-be0f-b5bebcce0760</td>\n",
       "      <td>47900209</td>\n",
       "      <td>DÖRVERDEN</td>\n",
       "      <td>DÖRVERDEN</td>\n",
       "      <td>308.950</td>\n",
       "      <td>WSA VERDEN</td>\n",
       "      <td>{'shortname': 'WESER', 'longname': 'WESER'}</td>\n",
       "      <td>9.210322</td>\n",
       "      <td>52.852272</td>\n",
       "    </tr>\n",
       "    <tr>\n",
       "      <th>32</th>\n",
       "      <td>78d69798-f956-4222-8d2b-f9f630fb9e36</td>\n",
       "      <td>49100101</td>\n",
       "      <td>INTSCHEDE</td>\n",
       "      <td>INTSCHEDE</td>\n",
       "      <td>331.280</td>\n",
       "      <td>WSA VERDEN</td>\n",
       "      <td>{'shortname': 'WESER', 'longname': 'WESER'}</td>\n",
       "      <td>9.125799</td>\n",
       "      <td>52.964169</td>\n",
       "    </tr>\n",
       "    <tr>\n",
       "      <th>33</th>\n",
       "      <td>cbfdddd1-9e32-4de2-adca-7b32241c265d</td>\n",
       "      <td>4910020</td>\n",
       "      <td>DREYE</td>\n",
       "      <td>DREYE</td>\n",
       "      <td>355.800</td>\n",
       "      <td>WSA BREMEN</td>\n",
       "      <td>{'shortname': 'WESER', 'longname': 'WESER'}</td>\n",
       "      <td>8.891252</td>\n",
       "      <td>53.014359</td>\n",
       "    </tr>\n",
       "    <tr>\n",
       "      <th>34</th>\n",
       "      <td>c42ff4c7-f4c6-4568-8b5c-0b556bd55926</td>\n",
       "      <td>4910030</td>\n",
       "      <td>WESERWEHR OW</td>\n",
       "      <td>WESERWEHR OW</td>\n",
       "      <td>361.800</td>\n",
       "      <td>WSA BREMEN</td>\n",
       "      <td>{'shortname': 'WESER', 'longname': 'WESER'}</td>\n",
       "      <td>8.869127</td>\n",
       "      <td>53.058583</td>\n",
       "    </tr>\n",
       "    <tr>\n",
       "      <th>35</th>\n",
       "      <td>aeb9ed1c-6c01-4829-94e4-e530dbf79821</td>\n",
       "      <td>4910040</td>\n",
       "      <td>WESERWEHR UW</td>\n",
       "      <td>WESERWEHR UW</td>\n",
       "      <td>362.790</td>\n",
       "      <td>WSA BREMEN</td>\n",
       "      <td>{'shortname': 'WESER', 'longname': 'WESER'}</td>\n",
       "      <td>8.854803</td>\n",
       "      <td>53.060246</td>\n",
       "    </tr>\n",
       "  </tbody>\n",
       "</table>\n",
       "</div>"
      ],
      "text/plain": [
       "                                    uuid    number              shortname  \\\n",
       "0   e0d7d4b2-7a72-429f-a858-f1e6f5ff40ae   9460041  LT ALTE WESER (RADAR)   \n",
       "1   b26bfc88-eb8a-45b9-9dd0-0e41949a2648   4910050     GROSSE WESERBRÜCKE   \n",
       "2   227e53ca-4dd9-482b-be62-52fdc62a4b4e  43100109           HANN.MUENDEN   \n",
       "3   7e530482-0a13-4728-99db-a376304398b8   4970035   STROHAUSER PLATE OST   \n",
       "4   c1f059dd-5063-468a-9dfa-0360fe0b030d   4910060           OSLEBSHAUSEN   \n",
       "5   b8b8c069-0993-4a45-a226-a6c8c18185ab    211431   LEMWERDER UNTERFEUER   \n",
       "6   3f3b4445-9a6a-44c3-8575-d86ce30e2de0   4950010               VEGESACK   \n",
       "7   cca92e6d-e2c3-4c5f-be56-5b8682b353eb   4950020                  FARGE   \n",
       "8   eba772d4-509e-4fe7-ba51-d9a29b190432   4970010               ELSFLETH   \n",
       "9   314ef522-a060-4033-ba14-8169dd26bb8d  43900105               WAHMBECK   \n",
       "10  7febef93-09ce-49e9-9643-ecb3076ce9a7   4970020                  BRAKE   \n",
       "11  1e51195c-f9d7-4cff-9db1-d92bb855005c  45100100             KARLSHAFEN   \n",
       "12  116572da-c036-4486-ac18-a92932424e30   4970030           RECHTENFLETH   \n",
       "13  06e6b715-eb03-46ce-adf4-6cafca6368eb   4970040              NORDENHAM   \n",
       "14  99dd338d-ef7d-43fd-a4e0-a9103406f0ad   4970090             BLEXEN ABZ   \n",
       "15  d3f822a0-e201-4a61-8913-589c74818ae0   4990010   BHV ALTER LEUCHTTURM   \n",
       "16  763633e7-3b4b-470a-978e-f9e456e4df7c  45300109                 HÖXTER   \n",
       "17  78029185-9dfc-4b1b-8695-45ebc2a09cf4   9460010        ROBBENSÜDSTEERT   \n",
       "18  ad3b53f8-8c1b-439f-a0df-9f24827026d5   9460020               DWARSGAT   \n",
       "19  5310aed3-784c-4290-bfff-806c75b831d9  45300200            BODENWERDER   \n",
       "20  c6772c3c-a6bb-4728-9250-a408ab3856bd   9460040  LEUCHTTURM ALTE WESER   \n",
       "21  fa886080-4271-4684-9999-1b6862a20ac1  45700207      HAMELN WEHRBERGEN   \n",
       "22  005dfdae-efcc-410a-bf1c-24096e0c2866  45900109                RINTELN   \n",
       "23  2f56e265-cd67-4ea1-8529-549b6ccf273a  45900208                 VLOTHO   \n",
       "24  6b1b5c70-a23f-46de-954d-02bdc5bf2ecc  47100100                  PORTA   \n",
       "25  9aae4921-bda4-4081-b67b-2e0c5ab8bc54  47300100            PETERSHAGEN   \n",
       "26  edfa125a-1e46-4c7e-9f3a-568ae013a4df  47500110              STOLZENAU   \n",
       "27  3a24863b-fdec-455c-82da-ea8c7ae6f97a  47500200               LIEBENAU   \n",
       "28  38497786-6c29-47f4-93de-d96001629496  47900118               NIENBURG   \n",
       "29  5b83cad2-ed64-42cf-87dd-98e27988c31a  47900107             DRAKENBURG   \n",
       "30  86f66699-29b6-4b94-85cb-d241e832230a  47900129                   HOYA   \n",
       "31  e7c7cbaa-9a85-4033-be0f-b5bebcce0760  47900209              DÖRVERDEN   \n",
       "32  78d69798-f956-4222-8d2b-f9f630fb9e36  49100101              INTSCHEDE   \n",
       "33  cbfdddd1-9e32-4de2-adca-7b32241c265d   4910020                  DREYE   \n",
       "34  c42ff4c7-f4c6-4568-8b5c-0b556bd55926   4910030           WESERWEHR OW   \n",
       "35  aeb9ed1c-6c01-4829-94e4-e530dbf79821   4910040           WESERWEHR UW   \n",
       "\n",
       "                 longname       km                  agency  \\\n",
       "0   LT ALTE WESER (RADAR)    0.000         WSA BREMERHAVEN   \n",
       "1      GROSSE WESERBRÜCKE    0.040              WSA BREMEN   \n",
       "2            HANN.MUENDEN    0.650  WSA HANNOVERSCH MÜNDEN   \n",
       "3    STROHAUSER PLATE OST    1.000         WSA BREMERHAVEN   \n",
       "4            OSLEBSHAUSEN    8.367              WSA BREMEN   \n",
       "5    LEMWERDER UNTERFEUER   17.500              WSA BREMEN   \n",
       "6                VEGESACK   17.843              WSA BREMEN   \n",
       "7                   FARGE   26.261              WSA BREMEN   \n",
       "8                ELSFLETH   33.325              WSA BREMEN   \n",
       "9                WAHMBECK   35.970  WSA HANNOVERSCH MÜNDEN   \n",
       "10                  BRAKE   39.184              WSA BREMEN   \n",
       "11             KARLSHAFEN   45.520  WSA HANNOVERSCH MÜNDEN   \n",
       "12           RECHTENFLETH   46.464         WSA BREMERHAVEN   \n",
       "13              NORDENHAM   55.811         WSA BREMERHAVEN   \n",
       "14             BLEXEN ABZ   62.460         WSA BREMERHAVEN   \n",
       "15   BHV ALTER LEUCHTTURM   66.638         WSA BREMERHAVEN   \n",
       "16                 HÖXTER   69.620  WSA HANNOVERSCH MÜNDEN   \n",
       "17        ROBBENSÜDSTEERT   79.942         WSA BREMERHAVEN   \n",
       "18               DWARSGAT   92.656         WSA BREMERHAVEN   \n",
       "19            BODENWERDER  110.720  WSA HANNOVERSCH MÜNDEN   \n",
       "20  LEUCHTTURM ALTE WESER  115.000         WSA BREMERHAVEN   \n",
       "21      HAMELN WEHRBERGEN  139.680  WSA HANNOVERSCH MÜNDEN   \n",
       "22                RINTELN  163.240              WSA MINDEN   \n",
       "23                 VLOTHO  184.010              WSA MINDEN   \n",
       "24                  PORTA  198.360              WSA MINDEN   \n",
       "25            PETERSHAGEN  215.770              WSA VERDEN   \n",
       "26              STOLZENAU  243.390              WSA VERDEN   \n",
       "27               LIEBENAU  256.150              WSA VERDEN   \n",
       "28               NIENBURG  268.180              WSA VERDEN   \n",
       "29             DRAKENBURG  278.880              WSA VERDEN   \n",
       "30                   HOYA  298.400              WSA VERDEN   \n",
       "31              DÖRVERDEN  308.950              WSA VERDEN   \n",
       "32              INTSCHEDE  331.280              WSA VERDEN   \n",
       "33                  DREYE  355.800              WSA BREMEN   \n",
       "34           WESERWEHR OW  361.800              WSA BREMEN   \n",
       "35           WESERWEHR UW  362.790              WSA BREMEN   \n",
       "\n",
       "                                          water  longitude   latitude  \n",
       "0   {'shortname': 'WESER', 'longname': 'WESER'}        NaN        NaN  \n",
       "1   {'shortname': 'WESER', 'longname': 'WESER'}   8.803636  53.073097  \n",
       "2   {'shortname': 'WESER', 'longname': 'WESER'}   9.640917  51.425789  \n",
       "3   {'shortname': 'WESER', 'longname': 'WESER'}        NaN        NaN  \n",
       "4   {'shortname': 'WESER', 'longname': 'WESER'}   8.712215  53.119797  \n",
       "5   {'shortname': 'WESER', 'longname': 'WESER'}        NaN        NaN  \n",
       "6   {'shortname': 'WESER', 'longname': 'WESER'}   8.619533  53.169406  \n",
       "7   {'shortname': 'WESER', 'longname': 'WESER'}   8.510193  53.204709  \n",
       "8   {'shortname': 'WESER', 'longname': 'WESER'}   8.481417  53.263946  \n",
       "9   {'shortname': 'WESER', 'longname': 'WESER'}   9.519728  51.625616  \n",
       "10  {'shortname': 'WESER', 'longname': 'WESER'}   8.486685  53.315995  \n",
       "11  {'shortname': 'WESER', 'longname': 'WESER'}   9.438681  51.647986  \n",
       "12  {'shortname': 'WESER', 'longname': 'WESER'}   8.500554  53.381162  \n",
       "13  {'shortname': 'WESER', 'longname': 'WESER'}   8.488052  53.464497  \n",
       "14  {'shortname': 'WESER', 'longname': 'WESER'}   8.537412  53.517580  \n",
       "15  {'shortname': 'WESER', 'longname': 'WESER'}   8.568175  53.544956  \n",
       "16  {'shortname': 'WESER', 'longname': 'WESER'}   9.400470  51.775801  \n",
       "17  {'shortname': 'WESER', 'longname': 'WESER'}   8.445202  53.639224  \n",
       "18  {'shortname': 'WESER', 'longname': 'WESER'}   8.307616  53.718636  \n",
       "19  {'shortname': 'WESER', 'longname': 'WESER'}   9.515736  51.973727  \n",
       "20  {'shortname': 'WESER', 'longname': 'WESER'}   8.127572  53.863269  \n",
       "21  {'shortname': 'WESER', 'longname': 'WESER'}   9.306544  52.123731  \n",
       "22  {'shortname': 'WESER', 'longname': 'WESER'}   9.081705  52.189747  \n",
       "23  {'shortname': 'WESER', 'longname': 'WESER'}   8.862407  52.176396  \n",
       "24  {'shortname': 'WESER', 'longname': 'WESER'}   8.922041  52.248709  \n",
       "25  {'shortname': 'WESER', 'longname': 'WESER'}   8.970778  52.382338  \n",
       "26  {'shortname': 'WESER', 'longname': 'WESER'}   9.077735  52.518250  \n",
       "27  {'shortname': 'WESER', 'longname': 'WESER'}   9.112772  52.594206  \n",
       "28  {'shortname': 'WESER', 'longname': 'WESER'}   9.204659  52.644153  \n",
       "29  {'shortname': 'WESER', 'longname': 'WESER'}   9.225581  52.693099  \n",
       "30  {'shortname': 'WESER', 'longname': 'WESER'}   9.146924  52.800984  \n",
       "31  {'shortname': 'WESER', 'longname': 'WESER'}   9.210322  52.852272  \n",
       "32  {'shortname': 'WESER', 'longname': 'WESER'}   9.125799  52.964169  \n",
       "33  {'shortname': 'WESER', 'longname': 'WESER'}   8.891252  53.014359  \n",
       "34  {'shortname': 'WESER', 'longname': 'WESER'}   8.869127  53.058583  \n",
       "35  {'shortname': 'WESER', 'longname': 'WESER'}   8.854803  53.060246  "
      ]
     },
     "execution_count": 12,
     "metadata": {},
     "output_type": "execute_result"
    }
   ],
   "source": [
    "weser = pd.read_json('https://www.pegelonline.wsv.de/webservices/rest-api/v2/stations.json?waters=WESER')\n",
    "weser"
   ]
  },
  {
   "cell_type": "code",
   "execution_count": 13,
   "metadata": {},
   "outputs": [
    {
     "data": {
      "text/plain": [
       "'GROSSE%20WESERBR%C3%9CCKE'"
      ]
     },
     "execution_count": 13,
     "metadata": {},
     "output_type": "execute_result"
    }
   ],
   "source": [
    "quote('GROSSE WESERBRÜCKE')"
   ]
  },
  {
   "cell_type": "code",
   "execution_count": 14,
   "metadata": {},
   "outputs": [
    {
     "data": {
      "text/plain": [
       "{'timestamp': '2020-09-06T21:16:00+02:00',\n",
       " 'value': 577.0,\n",
       " 'trend': -1,\n",
       " 'stateMnwMhw': 'unknown',\n",
       " 'stateNswHsw': 'unknown'}"
      ]
     },
     "execution_count": 14,
     "metadata": {},
     "output_type": "execute_result"
    }
   ],
   "source": [
    "response = requests.get('https://www.pegelonline.wsv.de/webservices/rest-api/v2/stations/GROSSE%20WESERBR%C3%9CCKE/W/currentmeasurement.json')\n",
    "\n",
    "water_level = response.json()  # requests kann uns sogar direkt das JSON parsen!\n",
    "water_level"
   ]
  },
  {
   "cell_type": "markdown",
   "metadata": {},
   "source": [
    "## Übung"
   ]
  },
  {
   "cell_type": "markdown",
   "metadata": {},
   "source": [
    "Wenn du eine Herausvorderung suchst, kannst du versuchen, eine Zeitreihe einer Station deiner Wahl mit Pandas abzurufen und zu plotten: "
   ]
  },
  {
   "cell_type": "code",
   "execution_count": 15,
   "metadata": {
    "tags": []
   },
   "outputs": [
    {
     "data": {
      "text/plain": [
       "<AxesSubplot:xlabel='Datum', ylabel='cm'>"
      ]
     },
     "execution_count": 15,
     "metadata": {},
     "output_type": "execute_result"
    },
    {
     "data": {
      "image/png": "[encoded data removed]",
      "text/plain": [
       "<Figure size 432x288 with 1 Axes>"
      ]
     },
     "metadata": {
      "needs_background": "light"
     },
     "output_type": "display_data"
    }
   ],
   "source": [
    "import pandas as pd\n",
    "\n",
    "df = pd.read_json('https://www.pegelonline.wsv.de/webservices/rest-api/v2/stations/K%C3%96LN/W/measurements.json?start=P14D')\n",
    "\n",
    "df = df.rename(columns={'value': 'Wasserstand', 'timestamp': 'Datum'})\n",
    "\n",
    "df.plot(x='Datum', ylabel='cm')"
   ]
  },
  {
   "cell_type": "markdown",
   "metadata": {},
   "source": [
    "## Parameter mit Requests\n",
    "Wenn man mit APIs arbeitet, will man oft verschieden Kombinationen von Parametern ausprobieren oder vielleicht sogar programmatisch die Werte der Parameter zuweisen können. Um das einfacher zu machen, hier ein kleiner Trick:"
   ]
  },
  {
   "cell_type": "code",
   "execution_count": 16,
   "metadata": {
    "tags": []
   },
   "outputs": [
    {
     "name": "stdout",
     "output_type": "stream",
     "text": [
      "Resultierende URL: https://httpbin.org/get?foo=bar&flavor=vanilla\n"
     ]
    }
   ],
   "source": [
    "import requests\n",
    "\n",
    "# Parameter können vorher als 'dict' angelegt werden\n",
    "parameters = {\n",
    "    'foo': 'bar',\n",
    "    'flavor': 'vanilla',\n",
    "}\n",
    "\n",
    "# httpbin.org ist ein Test-Service für Web-Anfragen\n",
    "# Er antwortet mit Informationen über die Anfrage, z. B. die URL\n",
    "response = requests.get('https://httpbin.org/get', params=parameters).json()\n",
    "print('Resultierende URL:', response['url'])"
   ]
  },
  {
   "cell_type": "markdown",
   "metadata": {},
   "source": [
    "Wir sehen: Parameter werden korrekt mit `?` und `&` an die URL angehängt."
   ]
  },
  {
   "cell_type": "markdown",
   "metadata": {},
   "source": [
    "## Übung"
   ]
  },
  {
   "cell_type": "markdown",
   "metadata": {},
   "source": [
    "Du kannst auch mal eine der folgenden APIs zu erkunden: https://github.com/public-apis/public-apis"
   ]
  },
  {
   "cell_type": "code",
   "execution_count": 17,
   "metadata": {},
   "outputs": [
    {
     "data": {
      "text/plain": [
       "'Cat is cat.'"
      ]
     },
     "execution_count": 17,
     "metadata": {},
     "output_type": "execute_result"
    }
   ],
   "source": [
    "# Cat facts!\n",
    "\n",
    "import random\n",
    "\n",
    "import requests\n",
    "\n",
    "facts = requests.get('https://cat-fact.herokuapp.com/facts').json()\n",
    "random.choice(facts['all'])['text']"
   ]
  },
  {
   "cell_type": "markdown",
   "metadata": {},
   "source": [
    "## Datenstrukturen in Python"
   ]
  },
  {
   "cell_type": "markdown",
   "metadata": {},
   "source": [
    "Nicht immer können oder wollen wir Pandas nutzen, um mit unseren Daten zu arbeiten. Hier wollen wir ein paar Möglichkeiten kennenlernen, um mit Datenstrukturen wie `dict` und `list` in Python umzugehen. Wenn du eine JSON-API erforschen willst, kann dir diese Sektion dabei helfen.\n",
    "\n",
    "Listen und Dictionaries sind die beiden häufigsten Wege, mehrere Werte in einer Sammlung zusammenzufassen. Daher gibt es auch viele Möglichkeiten, sie zu verarbeiten und auf die Werte, die sich darin befinden, zuzugreifen. Genau so kann man neue Listen und Dictionaries auf vielen Wegen erzeugen und mit Werten befüllen. Wir wollen uns hier aber hauptsächlich auf das Auslesen konzentrieren.\n",
    "\n",
    "Beginnen wir mit ein paar Dingen, die wir mit Listen tun können:"
   ]
  },
  {
   "cell_type": "code",
   "execution_count": 18,
   "metadata": {},
   "outputs": [],
   "source": [
    "words = [\n",
    "    \"eine\",\n",
    "    \"liste\",\n",
    "    \"fantastischer\",\n",
    "    \"wörtern\",\n",
    "    \"zum\",\n",
    "    \"testen\"\n",
    "]\n",
    "\n",
    "numbers = [\n",
    "    3,\n",
    "    -14,\n",
    "    800,\n",
    "    44,\n",
    "]"
   ]
  },
  {
   "cell_type": "code",
   "execution_count": 19,
   "metadata": {},
   "outputs": [
    {
     "name": "stdout",
     "output_type": "stream",
     "text": [
      "Anzahl der Wörter: 6\n",
      "Länge des Worts 'Wort': 4\n",
      "Das erste Wort: eine\n",
      "Das letzte Wort: testen\n",
      "Summe der Zahlen: 833\n",
      "Kleinste Zahl: -14\n",
      "Letztes Wort nach Alphabet sortiert: zum\n",
      "Längstes Wort: fantastischer\n",
      "['eine', 'fantastischer', 'liste', 'testen', 'wörtern', 'zum']\n",
      "['zum', 'eine', 'liste', 'testen', 'wörtern', 'fantastischer']\n",
      "Zahl am nächsten zu 10: 3\n"
     ]
    }
   ],
   "source": [
    "# Die 'len'-Funktion gibt die Größe von Sammlungen wie list und dict zurück\n",
    "print(\"Anzahl der Wörter:\", len(words))\n",
    "\n",
    "# Übrigens: Auch die Länge von Strings können wir damit herausfinden\n",
    "print(\"Länge des Worts 'Wort':\", len(\"Wort\"))\n",
    "\n",
    "# Um einen bestimmten Eintrag aus einer Liste abzurufen, werden wie bei dict eckige Klammern benutzt\n",
    "# Computer fangen immer bei 0 an zu zählen!\n",
    "print(\"Das erste Wort:\", words[0])\n",
    "\n",
    "# Wir können auch anders herum\n",
    "print(\"Das letzte Wort:\", words[-1])\n",
    "\n",
    "# Mit 'sum' können wir eine Liste von Zahlen summieren\n",
    "print(\"Summe der Zahlen:\", sum(numbers))\n",
    "\n",
    "# Was ist die kleinste/größte Zahl? 'min' und 'max' geben Auskunft\n",
    "print(\"Kleinste Zahl:\", min(numbers))\n",
    "\n",
    "# Pro-Tip: Wir können 'min' und 'max' auch eine Funktion geben, die es für die Kalkulation benutzen soll\n",
    "# Die Funktion wird auf jeden Wert in der Liste angewandt und das Ergebnis für den Vergleich benutzt\n",
    "print(\"Letztes Wort nach Alphabet sortiert:\", max(words))\n",
    "print(\"Längstes Wort:\", max(words, key=len))\n",
    "\n",
    "# Das gleiche funktioniert übrigens auch mit 'sorted', was zum sortieren von Listen genutzt wird\n",
    "print(sorted(words))\n",
    "print(sorted(words, key=len))\n",
    "\n",
    "# Wir können auch unsere eigenen Funktionen übergeben\n",
    "\n",
    "def distance_from_10(number):\n",
    "    return abs(10 - number)  # 'abs' berechnet den Betrag einer Zahl\n",
    "\n",
    "print(\"Zahl am nächsten zu 10:\", min(numbers, key=distance_from_10))\n",
    "\n",
    "# Spiele gerne ein bisschen mit diesen Funktionen herum. Du kannst dir eigene Listen anlegen."
   ]
  },
  {
   "cell_type": "markdown",
   "metadata": {},
   "source": [
    "Puh. Das ist schon ziemlich kompliziert... Wenn du nicht alles im Detail verstanden hast, ist das nicht so schlimm. \n",
    "\n",
    "Wichtig ist: \n",
    "- Wir können diese Funktionen nutzen, um aus Listen Informationen zu ziehen\n",
    "- Wir können Funktionen als Parameter an diese (und andere) Funktionen übergeben, um deren Verhalten zu modifizieren\n",
    "\n",
    "Bevor wir mehr daraus machen, sollten wir uns noch ein bisschen mit der Navigation durch verschachtelte Strukturen bekannt machen.\n",
    "\n",
    "Betrachten wir die Station in Bonn mal etwas genauer. Die API-Dokumentation sagt, dass wir einige Informationen zu der Station mit abrufen können, wenn wir entsprechende Parameter mit angeben:"
   ]
  },
  {
   "cell_type": "code",
   "execution_count": 20,
   "metadata": {
    "tags": []
   },
   "outputs": [
    {
     "name": "stdout",
     "output_type": "stream",
     "text": [
      "{\n",
      "    \"uuid\": \"593647aa-9fea-43ec-a7d6-6476a76ae868\",\n",
      "    \"number\": \"2710080\",\n",
      "    \"shortname\": \"BONN\",\n",
      "    \"longname\": \"BONN\",\n",
      "    \"km\": 654.8,\n",
      "    \"agency\": \"WSA RHEIN\",\n",
      "    \"longitude\": 7.108045442593696,\n",
      "    \"latitude\": 50.7363979694278,\n",
      "    \"water\": {\n",
      "        \"shortname\": \"RHEIN\",\n",
      "        \"longname\": \"RHEIN\"\n",
      "    },\n",
      "    \"timeseries\": [\n",
      "        {\n",
      "            \"shortname\": \"W\",\n",
      "            \"longname\": \"WASSERSTAND ROHDATEN\",\n",
      "            \"unit\": \"cm\",\n",
      "            \"equidistance\": 15,\n",
      "            \"currentMeasurement\": {\n",
      "                \"timestamp\": \"2020-09-06T21:15:00+02:00\",\n",
      "                \"value\": 228.0,\n",
      "                \"trend\": -1,\n",
      "                \"stateMnwMhw\": \"normal\",\n",
      "                \"stateNswHsw\": \"unknown\"\n",
      "            },\n",
      "            \"gaugeZero\": {\n",
      "                \"unit\": \"m. ü. NHN\",\n",
      "                \"value\": 42.713,\n",
      "                \"validFrom\": \"2019-11-01\"\n",
      "            }\n",
      "        },\n",
      "        {\n",
      "            \"shortname\": \"Q\",\n",
      "            \"longname\": \"ABFLUSS_ROHDATEN\",\n",
      "            \"unit\": \"m³/s\",\n",
      "            \"equidistance\": 15,\n",
      "            \"currentMeasurement\": {\n",
      "                \"timestamp\": \"2020-09-06T20:45:00+02:00\",\n",
      "                \"value\": 1430.0,\n",
      "                \"trend\": 0\n",
      "            }\n",
      "        }\n",
      "    ]\n",
      "}\n"
     ]
    }
   ],
   "source": [
    "import requests\n",
    "import json\n",
    "\n",
    "url = 'https://www.pegelonline.wsv.de/webservices/rest-api/v2/stations/BONN.json'\n",
    "\n",
    "parameters = {\n",
    "    'includeTimeseries': 'true',\n",
    "    'includeCurrentMeasurement': 'true',\n",
    "}\n",
    "\n",
    "bonn = requests.get(url, params=parameters).json()\n",
    "\n",
    "# Kleiner Trick, um die Ausgabe von komplexen dicts etwas lesbarer zu machen\n",
    "print(json.dumps(bonn, indent=4, ensure_ascii=False))"
   ]
  },
  {
   "cell_type": "markdown",
   "metadata": {},
   "source": [
    "Angenommen uns interessiert der aktuelle Wasserstand. Wie kommen wir da überhaupt ran?"
   ]
  },
  {
   "cell_type": "code",
   "execution_count": 21,
   "metadata": {
    "tags": []
   },
   "outputs": [
    {
     "name": "stdout",
     "output_type": "stream",
     "text": [
      "Wasserstand: 228.0\n",
      "Wasserstand: 228.0\n"
     ]
    }
   ],
   "source": [
    "timeseries = bonn['timeseries']  # Zugriff auf das 'bonn'-dict Anhand des Schlüssels\n",
    "water_level = timeseries[0]  # 'timeseries' ist eine Liste, daher rufen wir Werte per Index ab\n",
    "current_measurement = water_level['currentMeasurement']  # Der erste Eintrag aus der timeseries ist wieder ein dict\n",
    "value = current_measurement['value']  # Und schließlich haben wir den Wert, den wir suchen\n",
    "\n",
    "print(\"Wasserstand:\", value)\n",
    "\n",
    "# Das ganze geht auch in einer Zeile\n",
    "print(\"Wasserstand:\", bonn['timeseries'][0]['currentMeasurement']['value'])\n",
    "\n",
    "# Übung: Finde die Abflussrate und Null-Stand auf ähnlichem Wege heraus"
   ]
  },
  {
   "cell_type": "markdown",
   "metadata": {},
   "source": [
    "## Übung"
   ]
  },
  {
   "cell_type": "markdown",
   "metadata": {},
   "source": [
    "Wir haben jetzt bereits die Werkzeuge in der Hand, um die Rhein-Station mit dem höchsten und niedrigsten aktuell gemessenen Wasserstand herauszufinden!\n",
    "\n",
    "Der Abruf https://www.pegelonline.wsv.de/webservices/rest-api/v2/stations.json?waters=RHEIN&includeTimeseries=true&includeCurrentMeasurement=true enhält eine Liste aller Stationen im Format des letzten Beispiels."
   ]
  },
  {
   "cell_type": "code",
   "execution_count": 22,
   "metadata": {
    "tags": []
   },
   "outputs": [
    {
     "name": "stdout",
     "output_type": "stream",
     "text": [
      "Basel-Rheinhalle 566.0\n"
     ]
    }
   ],
   "source": [
    "import requests\n",
    "\n",
    "url = 'https://www.pegelonline.wsv.de/webservices/rest-api/v2/stations.json'\n",
    "\n",
    "parameters = {\n",
    "    'waters': 'RHEIN',\n",
    "    'includeTimeseries': 'true',\n",
    "    'includeCurrentMeasurement': 'true',\n",
    "}\n",
    "\n",
    "stations = requests.get(url, params=parameters).json()\n",
    "\n",
    "def get_waterlevel(station):\n",
    "    # Der Wasserstand scheint immer der erste Eintrag in den timeseries zu sein\n",
    "    return station['timeseries'][0]['currentMeasurement']['value']\n",
    "\n",
    "highest_station = max(stations, key=get_waterlevel)\n",
    "#print(json.dumps(highest_station, indent=4, ensure_ascii=False))\n",
    "\n",
    "name = highest_station['shortname']\n",
    "water_level = get_waterlevel(highest_station)\n",
    "print(name, water_level)"
   ]
  },
  {
   "cell_type": "markdown",
   "metadata": {},
   "source": [
    "Tapfer, dass du bis hierhin durchgehalten hast.\n",
    "\n",
    "Als Zugabe kannst du dir noch angucken, wie du mit Python eine interaktive Choroplethen-Karte baust\n",
    "\n",
    "**[ >> Folium Notebook](08_map_datenguide_folium.ipynb)**"
   ]
  }
 ],
 "metadata": {
  "kernelspec": {
   "display_name": "Python 3",
   "language": "python",
   "name": "python3"
  },
  "language_info": {
   "codemirror_mode": {
    "name": "ipython",
    "version": 3
   },
   "file_extension": ".py",
   "mimetype": "text/x-python",
   "name": "python",
   "nbconvert_exporter": "python",
   "pygments_lexer": "ipython3",
   "version": "3.6.9"
  }
 },
 "nbformat": 4,
 "nbformat_minor": 4
}
