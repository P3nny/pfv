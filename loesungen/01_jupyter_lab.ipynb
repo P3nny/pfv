{
 "cells": [
  {
   "cell_type": "markdown",
   "metadata": {},
   "source": [
    "# Herzlich Willkommen im Jupyter Lab!"
   ]
  },
  {
   "cell_type": "markdown",
   "metadata": {},
   "source": [
    "Jupyter Notebooks kombinieren Code, Datenanalyse, erklärende Texte und erste Visualisierungen.\n",
    "\n",
    "Zudem lernt ihr in Jupyter Notebooks Markdown kennen, einen einfacheren Weg als HTML, um Texte im Internet zu formatieren. Und das kann man immer mal gebrauchen :)"
   ]
  },
  {
   "cell_type": "markdown",
   "metadata": {},
   "source": [
    "## Markdown"
   ]
  },
  {
   "cell_type": "markdown",
   "metadata": {},
   "source": [
    "So sieht ein Markdown-Text hinter den Kulissen aus:"
   ]
  },
  {
   "cell_type": "raw",
   "metadata": {},
   "source": [
    "# Das ist die größte Überschrift (H1)\n",
    "\n",
    "## Das ist eine Unterüberschrift (H2)\n",
    "\n",
    "### Und so weiter (H3)\n",
    "\n",
    "Hier steht einfach nur ein Absatz Text. Du kannst den Text auch **fett** oder *kursiv* darstellen. \n",
    "\n",
    "Absätze erstellst du mit einer leeren Zeile. \n",
    "\n",
    "* Es gibt Aufzählungen \n",
    "* die mit einem * ein Sternchen voran erstellt werden \n",
    "\n",
    "1. Listen können auch mit einer Nummer starten \n",
    "2. Wenn sie geordnet sein sollen\n",
    "\n",
    "[Du kannst Links setzen](https:wdr.de)\n",
    "\n",
    "Einzelne Code-Ausdrücke werden mit einfachen Backticks dargestellt `foo()`, und Code-Blöcke mit dreifachen Backticks: \n",
    "```\n",
    "bar()\n",
    "``` \n",
    "    \n",
    "Und auch das Einfügen von Bildern ist einfach: \n",
    "\n",
    "![Alt text](./img/HalloWelt.png)"
   ]
  },
  {
   "cell_type": "markdown",
   "metadata": {},
   "source": [
    "Und so wenn er vom Browser interpretiert wird:"
   ]
  },
  {
   "cell_type": "markdown",
   "metadata": {},
   "source": [
    "# Das ist die größte Überschrift (H1)\n",
    "\n",
    "## Das ist eine Unterüberschrift (H2)\n",
    "\n",
    "### Und so weiter (H3)\n",
    "\n",
    "Hier steht einfach nur ein Absatz Text. Du kannst den Text auch **fett** oder *kursiv* darstellen. \n",
    "\n",
    "Absätze erstellst du mit einer leeren Zeile. \n",
    "\n",
    "* Es gibt Aufzählungen \n",
    "* die mit einem * ein Sternchen voran erstellt werden \n",
    "\n",
    "1. Listen können auch mit einer Nummer starten \n",
    "2. Wenn sie geordnet sein sollen\n",
    "\n",
    "[Du kannst Links setzen](https:wdr.de)\n",
    "\n",
    "Einzelne Code-Ausdrücke werden mit einfachen Backticks dargestellt `foo()`, und Code-Blöcke mit dreifachen Backticks: \n",
    "```\n",
    "bar()\n",
    "``` \n",
    "    \n",
    "Und auch das Einfügen von Bildern ist einfach: \n",
    "\n",
    "![Alt text](./img/HalloWelt.png)"
   ]
  },
  {
   "cell_type": "markdown",
   "metadata": {},
   "source": [
    "## Code"
   ]
  },
  {
   "cell_type": "markdown",
   "metadata": {},
   "source": [
    "Im Jupyter Notebook kannst Du Python Befehle ausführen.\n",
    "\n",
    "Gib in der Zeile unten hinter dem `[ ]:` bitte folgenden Code ein:  \n",
    "`print(\"Hello World\")`\n",
    "\n",
    "Dann drücke Gleichzeitig `SHIFT+ENTER`, um die Zelle auszuführen:"
   ]
  },
  {
   "cell_type": "code",
   "execution_count": null,
   "metadata": {},
   "outputs": [],
   "source": []
  },
  {
   "cell_type": "markdown",
   "metadata": {},
   "source": [
    "![](./img/glitter.gif)"
   ]
  },
  {
   "cell_type": "markdown",
   "metadata": {},
   "source": [
    "## Nützliche Jupyter Notebook Shortcuts"
   ]
  },
  {
   "cell_type": "markdown",
   "metadata": {},
   "source": [
    "`ESC + m` : Zeile wird Markdown\n",
    "\n",
    "`ESC + a` : Zeile davor einfügen\n",
    "\n",
    "`ESC + b` : Zeile danch einfügen\n",
    "\n",
    "`ESC + dd` : Zeile löschen\n",
    "\n",
    "Probiere bitte diese Shortscuts mal aus, indem du sie auf deiner Tatstatur eingibst: "
   ]
  },
  {
   "cell_type": "markdown",
   "metadata": {},
   "source": []
  },
  {
   "cell_type": "markdown",
   "metadata": {},
   "source": [
    "## Fertig? Lasst die Pandas los!\n",
    "\n",
    "**[>> zum Pandas Notebook](02_pandas.ipynb)**"
   ]
  }
 ],
 "metadata": {
  "kernelspec": {
   "display_name": "Python 3",
   "language": "python",
   "name": "python3"
  },
  "language_info": {
   "codemirror_mode": {
    "name": "ipython",
    "version": 3
   },
   "file_extension": ".py",
   "mimetype": "text/x-python",
   "name": "python",
   "nbconvert_exporter": "python",
   "pygments_lexer": "ipython3",
   "version": "3.6.9"
  }
 },
 "nbformat": 4,
 "nbformat_minor": 4
}
