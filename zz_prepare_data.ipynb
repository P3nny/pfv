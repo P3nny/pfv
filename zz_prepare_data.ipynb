{
 "cells": [
  {
   "cell_type": "markdown",
   "metadata": {},
   "source": [
    "## Eheschließungen"
   ]
  },
  {
   "cell_type": "code",
   "execution_count": 1,
   "metadata": {},
   "outputs": [],
   "source": [
    "import pandas as pd\n",
    "\n",
    "pd.options.display.max_rows = 999"
   ]
  },
  {
   "cell_type": "code",
   "execution_count": 2,
   "metadata": {},
   "outputs": [],
   "source": [
    "df = pd.read_csv('./data/12611-0001_flat.csv', encoding='latin-1', sep=';', decimal=',')"
   ]
  },
  {
   "cell_type": "code",
   "execution_count": 3,
   "metadata": {},
   "outputs": [
    {
     "data": {
      "text/html": [
       "<div>\n",
       "<style scoped>\n",
       "    .dataframe tbody tr th:only-of-type {\n",
       "        vertical-align: middle;\n",
       "    }\n",
       "\n",
       "    .dataframe tbody tr th {\n",
       "        vertical-align: top;\n",
       "    }\n",
       "\n",
       "    .dataframe thead th {\n",
       "        text-align: right;\n",
       "    }\n",
       "</style>\n",
       "<table border=\"1\" class=\"dataframe\">\n",
       "  <thead>\n",
       "    <tr style=\"text-align: right;\">\n",
       "      <th></th>\n",
       "      <th>Statistik_Code</th>\n",
       "      <th>Statistik_Label</th>\n",
       "      <th>Zeit_Code</th>\n",
       "      <th>Zeit_Label</th>\n",
       "      <th>Zeit</th>\n",
       "      <th>1_Merkmal_Code</th>\n",
       "      <th>1_Merkmal_Label</th>\n",
       "      <th>1_Auspraegung_Code</th>\n",
       "      <th>1_Auspraegung_Label</th>\n",
       "      <th>BEV003__Eheschliessungen__Anzahl</th>\n",
       "      <th>BEV075__Eheschliessungen_je_1000_Einwohner__Anzahl</th>\n",
       "    </tr>\n",
       "  </thead>\n",
       "  <tbody>\n",
       "    <tr>\n",
       "      <th>65</th>\n",
       "      <td>12611</td>\n",
       "      <td>Statistik der Eheschließungen</td>\n",
       "      <td>JAHR</td>\n",
       "      <td>Jahr</td>\n",
       "      <td>2015</td>\n",
       "      <td>DINSG</td>\n",
       "      <td>Deutschland insgesamt</td>\n",
       "      <td>DG</td>\n",
       "      <td>Deutschland</td>\n",
       "      <td>400115</td>\n",
       "      <td>4.9</td>\n",
       "    </tr>\n",
       "  </tbody>\n",
       "</table>\n",
       "</div>"
      ],
      "text/plain": [
       "    Statistik_Code                Statistik_Label Zeit_Code Zeit_Label  Zeit  \\\n",
       "65           12611  Statistik der Eheschließungen      JAHR       Jahr  2015   \n",
       "\n",
       "   1_Merkmal_Code        1_Merkmal_Label 1_Auspraegung_Code  \\\n",
       "65          DINSG  Deutschland insgesamt                 DG   \n",
       "\n",
       "   1_Auspraegung_Label  BEV003__Eheschliessungen__Anzahl  \\\n",
       "65         Deutschland                            400115   \n",
       "\n",
       "    BEV075__Eheschliessungen_je_1000_Einwohner__Anzahl  \n",
       "65                                                4.9   "
      ]
     },
     "execution_count": 3,
     "metadata": {},
     "output_type": "execute_result"
    }
   ],
   "source": [
    "df.sample()"
   ]
  },
  {
   "cell_type": "code",
   "execution_count": 4,
   "metadata": {},
   "outputs": [
    {
     "data": {
      "text/plain": [
       "Index(['Statistik_Code', 'Statistik_Label', 'Zeit_Code', 'Zeit_Label', 'Zeit',\n",
       "       '1_Merkmal_Code', '1_Merkmal_Label', '1_Auspraegung_Code',\n",
       "       '1_Auspraegung_Label', 'BEV003__Eheschliessungen__Anzahl',\n",
       "       'BEV075__Eheschliessungen_je_1000_Einwohner__Anzahl'],\n",
       "      dtype='object')"
      ]
     },
     "execution_count": 4,
     "metadata": {},
     "output_type": "execute_result"
    }
   ],
   "source": [
    "df.columns"
   ]
  },
  {
   "cell_type": "code",
   "execution_count": 5,
   "metadata": {},
   "outputs": [],
   "source": [
    "df = df[['Zeit', 'BEV075__Eheschliessungen_je_1000_Einwohner__Anzahl']]"
   ]
  },
  {
   "cell_type": "code",
   "execution_count": 6,
   "metadata": {},
   "outputs": [],
   "source": [
    "df = df.rename(columns={'BEV075__Eheschliessungen_je_1000_Einwohner__Anzahl': 'Anzahl_Eheschliessungen_je_1000_Einwohner'})"
   ]
  },
  {
   "cell_type": "code",
   "execution_count": 7,
   "metadata": {},
   "outputs": [],
   "source": [
    "df = df.set_index('Zeit')\n"
   ]
  },
  {
   "cell_type": "code",
   "execution_count": 8,
   "metadata": {},
   "outputs": [
    {
     "data": {
      "text/html": [
       "<div>\n",
       "<style scoped>\n",
       "    .dataframe tbody tr th:only-of-type {\n",
       "        vertical-align: middle;\n",
       "    }\n",
       "\n",
       "    .dataframe tbody tr th {\n",
       "        vertical-align: top;\n",
       "    }\n",
       "\n",
       "    .dataframe thead th {\n",
       "        text-align: right;\n",
       "    }\n",
       "</style>\n",
       "<table border=\"1\" class=\"dataframe\">\n",
       "  <thead>\n",
       "    <tr style=\"text-align: right;\">\n",
       "      <th></th>\n",
       "      <th>Anzahl_Eheschliessungen_je_1000_Einwohner</th>\n",
       "    </tr>\n",
       "    <tr>\n",
       "      <th>Zeit</th>\n",
       "      <th></th>\n",
       "    </tr>\n",
       "  </thead>\n",
       "  <tbody>\n",
       "    <tr>\n",
       "      <th>1950</th>\n",
       "      <td>11.0</td>\n",
       "    </tr>\n",
       "    <tr>\n",
       "      <th>1951</th>\n",
       "      <td>10.4</td>\n",
       "    </tr>\n",
       "    <tr>\n",
       "      <th>1952</th>\n",
       "      <td>9.5</td>\n",
       "    </tr>\n",
       "    <tr>\n",
       "      <th>1953</th>\n",
       "      <td>8.9</td>\n",
       "    </tr>\n",
       "    <tr>\n",
       "      <th>1954</th>\n",
       "      <td>8.7</td>\n",
       "    </tr>\n",
       "  </tbody>\n",
       "</table>\n",
       "</div>"
      ],
      "text/plain": [
       "      Anzahl_Eheschliessungen_je_1000_Einwohner\n",
       "Zeit                                           \n",
       "1950                                       11.0\n",
       "1951                                       10.4\n",
       "1952                                        9.5\n",
       "1953                                        8.9\n",
       "1954                                        8.7"
      ]
     },
     "execution_count": 8,
     "metadata": {},
     "output_type": "execute_result"
    }
   ],
   "source": [
    "df.head()"
   ]
  },
  {
   "cell_type": "code",
   "execution_count": 9,
   "metadata": {},
   "outputs": [],
   "source": [
    "df.to_csv('./data/eheschliessungen.csv', index='Zeit')"
   ]
  },
  {
   "cell_type": "markdown",
   "metadata": {},
   "source": [
    "## Habil"
   ]
  },
  {
   "cell_type": "code",
   "execution_count": 62,
   "metadata": {},
   "outputs": [],
   "source": [
    "df = pd.read_csv('./data/21351-0002_flat.csv', encoding='latin-1', sep=';', decimal=',' )"
   ]
  },
  {
   "cell_type": "code",
   "execution_count": 63,
   "metadata": {},
   "outputs": [
    {
     "data": {
      "text/html": [
       "<div>\n",
       "<style scoped>\n",
       "    .dataframe tbody tr th:only-of-type {\n",
       "        vertical-align: middle;\n",
       "    }\n",
       "\n",
       "    .dataframe tbody tr th {\n",
       "        vertical-align: top;\n",
       "    }\n",
       "\n",
       "    .dataframe thead th {\n",
       "        text-align: right;\n",
       "    }\n",
       "</style>\n",
       "<table border=\"1\" class=\"dataframe\">\n",
       "  <thead>\n",
       "    <tr style=\"text-align: right;\">\n",
       "      <th></th>\n",
       "      <th>Statistik_Code</th>\n",
       "      <th>Statistik_Label</th>\n",
       "      <th>Zeit_Code</th>\n",
       "      <th>Zeit_Label</th>\n",
       "      <th>Zeit</th>\n",
       "      <th>1_Merkmal_Code</th>\n",
       "      <th>1_Merkmal_Label</th>\n",
       "      <th>1_Auspraegung_Code</th>\n",
       "      <th>1_Auspraegung_Label</th>\n",
       "      <th>2_Merkmal_Code</th>\n",
       "      <th>2_Merkmal_Label</th>\n",
       "      <th>2_Auspraegung_Code</th>\n",
       "      <th>2_Auspraegung_Label</th>\n",
       "      <th>3_Merkmal_Code</th>\n",
       "      <th>3_Merkmal_Label</th>\n",
       "      <th>3_Auspraegung_Code</th>\n",
       "      <th>3_Auspraegung_Label</th>\n",
       "      <th>BIL051__Durchschnittsalter_der_habilitierten_Personen__Jahre</th>\n",
       "    </tr>\n",
       "  </thead>\n",
       "  <tbody>\n",
       "    <tr>\n",
       "      <th>0</th>\n",
       "      <td>21351</td>\n",
       "      <td>Statistik der Habilitationen</td>\n",
       "      <td>JAHR</td>\n",
       "      <td>Jahr</td>\n",
       "      <td>2010</td>\n",
       "      <td>DINSG</td>\n",
       "      <td>Deutschland insgesamt</td>\n",
       "      <td>DG</td>\n",
       "      <td>Deutschland</td>\n",
       "      <td>BILFG1</td>\n",
       "      <td>Fächergruppen</td>\n",
       "      <td>FACHGR-SKW</td>\n",
       "      <td>Geisteswissenschaften</td>\n",
       "      <td>GES</td>\n",
       "      <td>Geschlecht</td>\n",
       "      <td>GESM</td>\n",
       "      <td>männlich</td>\n",
       "      <td>42,9</td>\n",
       "    </tr>\n",
       "    <tr>\n",
       "      <th>1</th>\n",
       "      <td>21351</td>\n",
       "      <td>Statistik der Habilitationen</td>\n",
       "      <td>JAHR</td>\n",
       "      <td>Jahr</td>\n",
       "      <td>2010</td>\n",
       "      <td>DINSG</td>\n",
       "      <td>Deutschland insgesamt</td>\n",
       "      <td>DG</td>\n",
       "      <td>Deutschland</td>\n",
       "      <td>BILFG1</td>\n",
       "      <td>Fächergruppen</td>\n",
       "      <td>FACHGR-SKW</td>\n",
       "      <td>Geisteswissenschaften</td>\n",
       "      <td>GES</td>\n",
       "      <td>Geschlecht</td>\n",
       "      <td>GESW</td>\n",
       "      <td>weiblich</td>\n",
       "      <td>41,6</td>\n",
       "    </tr>\n",
       "    <tr>\n",
       "      <th>2</th>\n",
       "      <td>21351</td>\n",
       "      <td>Statistik der Habilitationen</td>\n",
       "      <td>JAHR</td>\n",
       "      <td>Jahr</td>\n",
       "      <td>2010</td>\n",
       "      <td>DINSG</td>\n",
       "      <td>Deutschland insgesamt</td>\n",
       "      <td>DG</td>\n",
       "      <td>Deutschland</td>\n",
       "      <td>BILFG1</td>\n",
       "      <td>Fächergruppen</td>\n",
       "      <td>FACHGR-SKW</td>\n",
       "      <td>Geisteswissenschaften</td>\n",
       "      <td>GES</td>\n",
       "      <td>Geschlecht</td>\n",
       "      <td>NaN</td>\n",
       "      <td>Insgesamt</td>\n",
       "      <td>42,4</td>\n",
       "    </tr>\n",
       "    <tr>\n",
       "      <th>3</th>\n",
       "      <td>21351</td>\n",
       "      <td>Statistik der Habilitationen</td>\n",
       "      <td>JAHR</td>\n",
       "      <td>Jahr</td>\n",
       "      <td>2010</td>\n",
       "      <td>DINSG</td>\n",
       "      <td>Deutschland insgesamt</td>\n",
       "      <td>DG</td>\n",
       "      <td>Deutschland</td>\n",
       "      <td>BILFG1</td>\n",
       "      <td>Fächergruppen</td>\n",
       "      <td>FACHGR-SPR</td>\n",
       "      <td>Sport</td>\n",
       "      <td>GES</td>\n",
       "      <td>Geschlecht</td>\n",
       "      <td>GESM</td>\n",
       "      <td>männlich</td>\n",
       "      <td>41,5</td>\n",
       "    </tr>\n",
       "    <tr>\n",
       "      <th>4</th>\n",
       "      <td>21351</td>\n",
       "      <td>Statistik der Habilitationen</td>\n",
       "      <td>JAHR</td>\n",
       "      <td>Jahr</td>\n",
       "      <td>2010</td>\n",
       "      <td>DINSG</td>\n",
       "      <td>Deutschland insgesamt</td>\n",
       "      <td>DG</td>\n",
       "      <td>Deutschland</td>\n",
       "      <td>BILFG1</td>\n",
       "      <td>Fächergruppen</td>\n",
       "      <td>FACHGR-SPR</td>\n",
       "      <td>Sport</td>\n",
       "      <td>GES</td>\n",
       "      <td>Geschlecht</td>\n",
       "      <td>GESW</td>\n",
       "      <td>weiblich</td>\n",
       "      <td>39,3</td>\n",
       "    </tr>\n",
       "  </tbody>\n",
       "</table>\n",
       "</div>"
      ],
      "text/plain": [
       "   Statistik_Code               Statistik_Label Zeit_Code Zeit_Label  Zeit  \\\n",
       "0           21351  Statistik der Habilitationen      JAHR       Jahr  2010   \n",
       "1           21351  Statistik der Habilitationen      JAHR       Jahr  2010   \n",
       "2           21351  Statistik der Habilitationen      JAHR       Jahr  2010   \n",
       "3           21351  Statistik der Habilitationen      JAHR       Jahr  2010   \n",
       "4           21351  Statistik der Habilitationen      JAHR       Jahr  2010   \n",
       "\n",
       "  1_Merkmal_Code        1_Merkmal_Label 1_Auspraegung_Code  \\\n",
       "0          DINSG  Deutschland insgesamt                 DG   \n",
       "1          DINSG  Deutschland insgesamt                 DG   \n",
       "2          DINSG  Deutschland insgesamt                 DG   \n",
       "3          DINSG  Deutschland insgesamt                 DG   \n",
       "4          DINSG  Deutschland insgesamt                 DG   \n",
       "\n",
       "  1_Auspraegung_Label 2_Merkmal_Code 2_Merkmal_Label 2_Auspraegung_Code  \\\n",
       "0         Deutschland         BILFG1   Fächergruppen         FACHGR-SKW   \n",
       "1         Deutschland         BILFG1   Fächergruppen         FACHGR-SKW   \n",
       "2         Deutschland         BILFG1   Fächergruppen         FACHGR-SKW   \n",
       "3         Deutschland         BILFG1   Fächergruppen         FACHGR-SPR   \n",
       "4         Deutschland         BILFG1   Fächergruppen         FACHGR-SPR   \n",
       "\n",
       "     2_Auspraegung_Label 3_Merkmal_Code 3_Merkmal_Label 3_Auspraegung_Code  \\\n",
       "0  Geisteswissenschaften            GES      Geschlecht               GESM   \n",
       "1  Geisteswissenschaften            GES      Geschlecht               GESW   \n",
       "2  Geisteswissenschaften            GES      Geschlecht                NaN   \n",
       "3                  Sport            GES      Geschlecht               GESM   \n",
       "4                  Sport            GES      Geschlecht               GESW   \n",
       "\n",
       "  3_Auspraegung_Label  \\\n",
       "0            männlich   \n",
       "1            weiblich   \n",
       "2           Insgesamt   \n",
       "3            männlich   \n",
       "4            weiblich   \n",
       "\n",
       "  BIL051__Durchschnittsalter_der_habilitierten_Personen__Jahre  \n",
       "0                                               42,9            \n",
       "1                                               41,6            \n",
       "2                                               42,4            \n",
       "3                                               41,5            \n",
       "4                                               39,3            "
      ]
     },
     "execution_count": 63,
     "metadata": {},
     "output_type": "execute_result"
    }
   ],
   "source": [
    "df.head()"
   ]
  },
  {
   "cell_type": "code",
   "execution_count": 64,
   "metadata": {},
   "outputs": [],
   "source": [
    "df = df[(df[\"2_Auspraegung_Label\"] == 'Geisteswissenschaften') & (df[\"3_Auspraegung_Label\"] == 'Insgesamt') ]"
   ]
  },
  {
   "cell_type": "code",
   "execution_count": 65,
   "metadata": {},
   "outputs": [
    {
     "data": {
      "text/plain": [
       "Index(['Statistik_Code', 'Statistik_Label', 'Zeit_Code', 'Zeit_Label', 'Zeit',\n",
       "       '1_Merkmal_Code', '1_Merkmal_Label', '1_Auspraegung_Code',\n",
       "       '1_Auspraegung_Label', '2_Merkmal_Code', '2_Merkmal_Label',\n",
       "       '2_Auspraegung_Code', '2_Auspraegung_Label', '3_Merkmal_Code',\n",
       "       '3_Merkmal_Label', '3_Auspraegung_Code', '3_Auspraegung_Label',\n",
       "       'BIL051__Durchschnittsalter_der_habilitierten_Personen__Jahre'],\n",
       "      dtype='object')"
      ]
     },
     "execution_count": 65,
     "metadata": {},
     "output_type": "execute_result"
    }
   ],
   "source": [
    "df.columns"
   ]
  },
  {
   "cell_type": "code",
   "execution_count": 66,
   "metadata": {},
   "outputs": [],
   "source": [
    "df = df[['Zeit', 'BIL051__Durchschnittsalter_der_habilitierten_Personen__Jahre']]"
   ]
  },
  {
   "cell_type": "code",
   "execution_count": 67,
   "metadata": {},
   "outputs": [],
   "source": [
    "df = df.rename(columns={'BIL051__Durchschnittsalter_der_habilitierten_Personen__Jahre': 'Durchschnittsalter_der_habilitierten_Personen__Jahre'})"
   ]
  },
  {
   "cell_type": "code",
   "execution_count": 68,
   "metadata": {},
   "outputs": [],
   "source": [
    "df = df.reset_index()"
   ]
  },
  {
   "cell_type": "code",
   "execution_count": 69,
   "metadata": {},
   "outputs": [
    {
     "data": {
      "text/html": [
       "<div>\n",
       "<style scoped>\n",
       "    .dataframe tbody tr th:only-of-type {\n",
       "        vertical-align: middle;\n",
       "    }\n",
       "\n",
       "    .dataframe tbody tr th {\n",
       "        vertical-align: top;\n",
       "    }\n",
       "\n",
       "    .dataframe thead th {\n",
       "        text-align: right;\n",
       "    }\n",
       "</style>\n",
       "<table border=\"1\" class=\"dataframe\">\n",
       "  <thead>\n",
       "    <tr style=\"text-align: right;\">\n",
       "      <th></th>\n",
       "      <th>index</th>\n",
       "      <th>Zeit</th>\n",
       "      <th>Durchschnittsalter_der_habilitierten_Personen__Jahre</th>\n",
       "    </tr>\n",
       "  </thead>\n",
       "  <tbody>\n",
       "    <tr>\n",
       "      <th>0</th>\n",
       "      <td>2</td>\n",
       "      <td>2010</td>\n",
       "      <td>42,4</td>\n",
       "    </tr>\n",
       "    <tr>\n",
       "      <th>1</th>\n",
       "      <td>35</td>\n",
       "      <td>2011</td>\n",
       "      <td>42,7</td>\n",
       "    </tr>\n",
       "    <tr>\n",
       "      <th>2</th>\n",
       "      <td>68</td>\n",
       "      <td>2012</td>\n",
       "      <td>42,1</td>\n",
       "    </tr>\n",
       "    <tr>\n",
       "      <th>3</th>\n",
       "      <td>101</td>\n",
       "      <td>2013</td>\n",
       "      <td>42,5</td>\n",
       "    </tr>\n",
       "    <tr>\n",
       "      <th>4</th>\n",
       "      <td>134</td>\n",
       "      <td>2014</td>\n",
       "      <td>42,3</td>\n",
       "    </tr>\n",
       "    <tr>\n",
       "      <th>5</th>\n",
       "      <td>167</td>\n",
       "      <td>2015</td>\n",
       "      <td>43,5</td>\n",
       "    </tr>\n",
       "    <tr>\n",
       "      <th>6</th>\n",
       "      <td>200</td>\n",
       "      <td>2016</td>\n",
       "      <td>43,7</td>\n",
       "    </tr>\n",
       "    <tr>\n",
       "      <th>7</th>\n",
       "      <td>233</td>\n",
       "      <td>2017</td>\n",
       "      <td>43,4</td>\n",
       "    </tr>\n",
       "    <tr>\n",
       "      <th>8</th>\n",
       "      <td>266</td>\n",
       "      <td>2018</td>\n",
       "      <td>43,6</td>\n",
       "    </tr>\n",
       "    <tr>\n",
       "      <th>9</th>\n",
       "      <td>299</td>\n",
       "      <td>2019</td>\n",
       "      <td>43,7</td>\n",
       "    </tr>\n",
       "  </tbody>\n",
       "</table>\n",
       "</div>"
      ],
      "text/plain": [
       "   index  Zeit Durchschnittsalter_der_habilitierten_Personen__Jahre\n",
       "0      2  2010                                               42,4  \n",
       "1     35  2011                                               42,7  \n",
       "2     68  2012                                               42,1  \n",
       "3    101  2013                                               42,5  \n",
       "4    134  2014                                               42,3  \n",
       "5    167  2015                                               43,5  \n",
       "6    200  2016                                               43,7  \n",
       "7    233  2017                                               43,4  \n",
       "8    266  2018                                               43,6  \n",
       "9    299  2019                                               43,7  "
      ]
     },
     "execution_count": 69,
     "metadata": {},
     "output_type": "execute_result"
    }
   ],
   "source": [
    "df"
   ]
  },
  {
   "cell_type": "code",
   "execution_count": 70,
   "metadata": {},
   "outputs": [
    {
     "data": {
      "text/plain": [
       "Index(['index', 'Zeit',\n",
       "       'Durchschnittsalter_der_habilitierten_Personen__Jahre'],\n",
       "      dtype='object')"
      ]
     },
     "execution_count": 70,
     "metadata": {},
     "output_type": "execute_result"
    }
   ],
   "source": [
    "df.columns"
   ]
  },
  {
   "cell_type": "code",
   "execution_count": 71,
   "metadata": {},
   "outputs": [],
   "source": [
    "df = df[['Zeit','Durchschnittsalter_der_habilitierten_Personen__Jahre']]"
   ]
  },
  {
   "cell_type": "code",
   "execution_count": 72,
   "metadata": {},
   "outputs": [],
   "source": [
    "df = df.set_index('Zeit')"
   ]
  },
  {
   "cell_type": "code",
   "execution_count": 73,
   "metadata": {},
   "outputs": [],
   "source": [
    "df.Durchschnittsalter_der_habilitierten_Personen__Jahre = df.Durchschnittsalter_der_habilitierten_Personen__Jahre.str.replace(',', '.').astype('float')"
   ]
  },
  {
   "cell_type": "code",
   "execution_count": 74,
   "metadata": {},
   "outputs": [
    {
     "data": {
      "text/html": [
       "<div>\n",
       "<style scoped>\n",
       "    .dataframe tbody tr th:only-of-type {\n",
       "        vertical-align: middle;\n",
       "    }\n",
       "\n",
       "    .dataframe tbody tr th {\n",
       "        vertical-align: top;\n",
       "    }\n",
       "\n",
       "    .dataframe thead th {\n",
       "        text-align: right;\n",
       "    }\n",
       "</style>\n",
       "<table border=\"1\" class=\"dataframe\">\n",
       "  <thead>\n",
       "    <tr style=\"text-align: right;\">\n",
       "      <th></th>\n",
       "      <th>Durchschnittsalter_der_habilitierten_Personen__Jahre</th>\n",
       "    </tr>\n",
       "    <tr>\n",
       "      <th>Zeit</th>\n",
       "      <th></th>\n",
       "    </tr>\n",
       "  </thead>\n",
       "  <tbody>\n",
       "    <tr>\n",
       "      <th>2010</th>\n",
       "      <td>42.4</td>\n",
       "    </tr>\n",
       "    <tr>\n",
       "      <th>2011</th>\n",
       "      <td>42.7</td>\n",
       "    </tr>\n",
       "    <tr>\n",
       "      <th>2012</th>\n",
       "      <td>42.1</td>\n",
       "    </tr>\n",
       "    <tr>\n",
       "      <th>2013</th>\n",
       "      <td>42.5</td>\n",
       "    </tr>\n",
       "    <tr>\n",
       "      <th>2014</th>\n",
       "      <td>42.3</td>\n",
       "    </tr>\n",
       "    <tr>\n",
       "      <th>2015</th>\n",
       "      <td>43.5</td>\n",
       "    </tr>\n",
       "    <tr>\n",
       "      <th>2016</th>\n",
       "      <td>43.7</td>\n",
       "    </tr>\n",
       "    <tr>\n",
       "      <th>2017</th>\n",
       "      <td>43.4</td>\n",
       "    </tr>\n",
       "    <tr>\n",
       "      <th>2018</th>\n",
       "      <td>43.6</td>\n",
       "    </tr>\n",
       "    <tr>\n",
       "      <th>2019</th>\n",
       "      <td>43.7</td>\n",
       "    </tr>\n",
       "  </tbody>\n",
       "</table>\n",
       "</div>"
      ],
      "text/plain": [
       "      Durchschnittsalter_der_habilitierten_Personen__Jahre\n",
       "Zeit                                                      \n",
       "2010                                               42.4   \n",
       "2011                                               42.7   \n",
       "2012                                               42.1   \n",
       "2013                                               42.5   \n",
       "2014                                               42.3   \n",
       "2015                                               43.5   \n",
       "2016                                               43.7   \n",
       "2017                                               43.4   \n",
       "2018                                               43.6   \n",
       "2019                                               43.7   "
      ]
     },
     "execution_count": 74,
     "metadata": {},
     "output_type": "execute_result"
    }
   ],
   "source": [
    "df"
   ]
  },
  {
   "cell_type": "code",
   "execution_count": 75,
   "metadata": {},
   "outputs": [],
   "source": [
    "df.to_csv('./data/habil.csv', index='Zeit')"
   ]
  },
  {
   "cell_type": "code",
   "execution_count": 61,
   "metadata": {},
   "outputs": [
    {
     "data": {
      "text/html": [
       "<div>\n",
       "<style scoped>\n",
       "    .dataframe tbody tr th:only-of-type {\n",
       "        vertical-align: middle;\n",
       "    }\n",
       "\n",
       "    .dataframe tbody tr th {\n",
       "        vertical-align: top;\n",
       "    }\n",
       "\n",
       "    .dataframe thead th {\n",
       "        text-align: right;\n",
       "    }\n",
       "</style>\n",
       "<table border=\"1\" class=\"dataframe\">\n",
       "  <thead>\n",
       "    <tr style=\"text-align: right;\">\n",
       "      <th></th>\n",
       "      <th>Durchschnittsalter_der_habilitierten_Personen__Jahre</th>\n",
       "    </tr>\n",
       "    <tr>\n",
       "      <th>Zeit</th>\n",
       "      <th></th>\n",
       "    </tr>\n",
       "  </thead>\n",
       "  <tbody>\n",
       "    <tr>\n",
       "      <th>2010</th>\n",
       "      <td>42.4</td>\n",
       "    </tr>\n",
       "    <tr>\n",
       "      <th>2011</th>\n",
       "      <td>42.7</td>\n",
       "    </tr>\n",
       "    <tr>\n",
       "      <th>2012</th>\n",
       "      <td>42.1</td>\n",
       "    </tr>\n",
       "    <tr>\n",
       "      <th>2013</th>\n",
       "      <td>42.5</td>\n",
       "    </tr>\n",
       "    <tr>\n",
       "      <th>2014</th>\n",
       "      <td>42.3</td>\n",
       "    </tr>\n",
       "    <tr>\n",
       "      <th>2015</th>\n",
       "      <td>43.5</td>\n",
       "    </tr>\n",
       "    <tr>\n",
       "      <th>2016</th>\n",
       "      <td>43.7</td>\n",
       "    </tr>\n",
       "    <tr>\n",
       "      <th>2017</th>\n",
       "      <td>43.4</td>\n",
       "    </tr>\n",
       "    <tr>\n",
       "      <th>2018</th>\n",
       "      <td>43.6</td>\n",
       "    </tr>\n",
       "    <tr>\n",
       "      <th>2019</th>\n",
       "      <td>43.7</td>\n",
       "    </tr>\n",
       "  </tbody>\n",
       "</table>\n",
       "</div>"
      ],
      "text/plain": [
       "      Durchschnittsalter_der_habilitierten_Personen__Jahre\n",
       "Zeit                                                      \n",
       "2010                                               42.4   \n",
       "2011                                               42.7   \n",
       "2012                                               42.1   \n",
       "2013                                               42.5   \n",
       "2014                                               42.3   \n",
       "2015                                               43.5   \n",
       "2016                                               43.7   \n",
       "2017                                               43.4   \n",
       "2018                                               43.6   \n",
       "2019                                               43.7   "
      ]
     },
     "execution_count": 61,
     "metadata": {},
     "output_type": "execute_result"
    }
   ],
   "source": [
    "df"
   ]
  },
  {
   "cell_type": "code",
   "execution_count": null,
   "metadata": {},
   "outputs": [],
   "source": []
  },
  {
   "cell_type": "code",
   "execution_count": null,
   "metadata": {},
   "outputs": [],
   "source": []
  }
 ],
 "metadata": {
  "kernelspec": {
   "display_name": "Python 3",
   "language": "python",
   "name": "python3"
  },
  "language_info": {
   "codemirror_mode": {
    "name": "ipython",
    "version": 3
   },
   "file_extension": ".py",
   "mimetype": "text/x-python",
   "name": "python",
   "nbconvert_exporter": "python",
   "pygments_lexer": "ipython3",
   "version": "3.6.9"
  }
 },
 "nbformat": 4,
 "nbformat_minor": 4
}
