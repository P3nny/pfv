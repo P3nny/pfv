{
 "cells": [
  {
   "cell_type": "code",
   "execution_count": 100,
   "metadata": {},
   "outputs": [],
   "source": [
    "import requests \n",
    "from bs4 import BeautifulSoup\n",
    "import pandas as pd\n",
    "import re\n",
    "import camelot"
   ]
  },
  {
   "cell_type": "code",
   "execution_count": 101,
   "metadata": {},
   "outputs": [],
   "source": [
    "r = requests.get('https://www.rki.de/DE/Content/InfAZ/N/Neuartiges_Coronavirus/Situationsberichte/Gesamt.html')"
   ]
  },
  {
   "cell_type": "code",
   "execution_count": 102,
   "metadata": {},
   "outputs": [
    {
     "data": {
      "text/plain": [
       "<Response [200]>"
      ]
     },
     "execution_count": 102,
     "metadata": {},
     "output_type": "execute_result"
    }
   ],
   "source": [
    "r"
   ]
  },
  {
   "cell_type": "code",
   "execution_count": 103,
   "metadata": {},
   "outputs": [],
   "source": [
    "soup = BeautifulSoup(r.text, 'lxml')"
   ]
  },
  {
   "cell_type": "markdown",
   "metadata": {},
   "source": [
    "### Link finden "
   ]
  },
  {
   "cell_type": "code",
   "execution_count": 104,
   "metadata": {},
   "outputs": [
    {
     "data": {
      "text/plain": [
       "'/DE/Content/InfAZ/N/Neuartiges_Coronavirus/Situationsberichte/Sept_2020/2020-09-22-de.pdf?__blob=publicationFile'"
      ]
     },
     "execution_count": 104,
     "metadata": {},
     "output_type": "execute_result"
    }
   ],
   "source": [
    "links = soup.findAll('a', {'class': 'themenLink'})\n",
    "link = links[0].get('href')\n",
    "link"
   ]
  },
  {
   "cell_type": "code",
   "execution_count": 105,
   "metadata": {},
   "outputs": [
    {
     "data": {
      "text/plain": [
       "'https://www.rki.de//DE/Content/InfAZ/N/Neuartiges_Coronavirus/Situationsberichte/Sept_2020/2020-09-22-de.pdf?__blob=publicationFile'"
      ]
     },
     "execution_count": 105,
     "metadata": {},
     "output_type": "execute_result"
    }
   ],
   "source": [
    "base = 'https://www.rki.de/'\n",
    "url = base + link\n",
    "url"
   ]
  },
  {
   "cell_type": "code",
   "execution_count": 106,
   "metadata": {},
   "outputs": [],
   "source": [
    "import pdftotext\n",
    "import io"
   ]
  },
  {
   "cell_type": "code",
   "execution_count": 107,
   "metadata": {},
   "outputs": [],
   "source": [
    "r = requests.get(url)\n",
    "f = io.BytesIO(r.content)"
   ]
  },
  {
   "cell_type": "code",
   "execution_count": 108,
   "metadata": {},
   "outputs": [],
   "source": [
    "# Load your PDF\n",
    "pdf = pdftotext.PDF(f)"
   ]
  },
  {
   "cell_type": "code",
   "execution_count": 109,
   "metadata": {},
   "outputs": [
    {
     "name": "stdout",
     "output_type": "stream",
     "text": [
      "16\n"
     ]
    }
   ],
   "source": [
    "# How many pages?\n",
    "print(len(pdf))"
   ]
  },
  {
   "cell_type": "code",
   "execution_count": 110,
   "metadata": {},
   "outputs": [],
   "source": [
    "# Iterate over all the pages\n",
    "for page in pdf:\n",
    "    page_search = re.search('4-Tage-R-Wert', page)\n",
    "    if page_search:\n",
    "        text = page"
   ]
  },
  {
   "cell_type": "code",
   "execution_count": 111,
   "metadata": {},
   "outputs": [
    {
     "data": {
      "text/plain": [
       "'13                                                                                                  COVID-19-Lagebericht vom 22.09.2020       13\\n   Im SK München, wo mehrere Ausbruchsgeschehen in verschiedenen Settings für die erhöhte Inzidenz\\n   ursächlich sind, liegt die Inzidenz heute wieder knapp unter 50/100.000 Einwohner. In den nächsten\\n   Tagen sollen weitere Eindämmungsmaßnahmen verpflichtend werden.\\n   COVID-19-Fälle treten besonders in Zusammenhang mit Feiern im Familien- und Freundeskreis auf. Der\\n   Anteil der Reiserückkehrer unter den Fällen geht zurück.\\n   Es werden wieder vermehrt COVID-19-bedingte Ausbrüche in Alten- und Pflegeheimen gemeldet; weitere\\n   Ausbrüche gibt es in Krankenhäusern, Einrichtungen für Asylbewerber und Geflüchtete,\\n   Gemeinschaftseinrichtungen, verschiedenen beruflichen Settings sowie in Zusammenhang mit religiösen\\n   Veranstaltungen.\\n   Schätzung der Fallzahlen unter Berücksichtigung des Verzugs (Nowcasting) und der\\n   Reproduktionszahl (R)\\n   Die Reproduktionszahl R bezeichnet die Anzahl der Personen, die im Durchschnitt von einem Fall\\n   angesteckt werden. Diese lässt sich nicht aus den Meldedaten ablesen, sondern nur durch statistische\\n   Verfahren schätzen, zum Beispiel auf der Basis des Nowcastings (s. Abbildung 9).\\n                         4-Tage-R-Wert                                                       7-Tage-R-Wert\\n                               0,92                                                                 0,99\\n         (95%-Prädiktionsintervall: 0,73 - 1,12)                                 (95%- Prädiktionsintervall: 0,89 – 1,10)\\n   Abbildung 9: Darstellung der an das RKI übermittelten COVID-19-Fälle mit bekanntem Erkrankungsbeginn (dunkelblau), geschätztem\\n   Erkrankungsbeginn für Fälle mit fehlender Eingabe des Erkrankungsbeginns (grau) und geschätzter Verlauf der noch nicht übermittelten Fälle\\n   (hellblau) (Stand 22.09.2020, 0:00 Uhr, unter Berücksichtigung der Fälle bis 18.09.2020).\\n   Die berichteten R-Werte lagen seit Mitte August 2020 unter bzw. um 1 und seit der zweiten\\n   Septemberwoche wieder überwiegend über 1. Die erhöhten R-Werte lassen sich zunehmend auf\\n   Übertragungen innerhalb Deutschlands zurückführen.\\n   Unter www.rki.de/covid-19-nowcasting werden Beispielrechnungen und beide täglich aktualisierten R-\\n   Werte als Excel-Tabelle zur Verfügung gestellt. Eine detaillierte Beschreibung der Methodik ist verfügbar\\n   unter https://www.rki.de/DE/Content/Infekt/EpidBull/Archiv/2020/17/Art_02.html (Epid. Bull. 17 | 2020\\n   vom 23.04.2020).\\n   Hinweise zur Datenerfassung und -bewertung\\n   Im Lagebericht werden die bundesweit einheitlich erfassten und an das RKI übermittelten Daten zu\\n   laborbestätigten COVID-19-Fällen (COVID-19-Erkrankungen und akute SARS-CoV-2-Infektionen)\\n   dargestellt. COVID-19-Verdachtsfälle und -Erkrankungen sowie Nachweise von SARS-CoV-2 werden gemäß\\n   Der Bericht stellt eine Momentaufnahme dar und wird täglich aktualisiert.\\n'"
      ]
     },
     "execution_count": 111,
     "metadata": {},
     "output_type": "execute_result"
    }
   ],
   "source": [
    "text"
   ]
  },
  {
   "cell_type": "code",
   "execution_count": 112,
   "metadata": {},
   "outputs": [],
   "source": [
    "r = re.compile('\\d,\\d{2}')"
   ]
  },
  {
   "cell_type": "code",
   "execution_count": 113,
   "metadata": {},
   "outputs": [],
   "source": [
    "text = text.replace(' ', '')"
   ]
  },
  {
   "cell_type": "code",
   "execution_count": 114,
   "metadata": {},
   "outputs": [
    {
     "data": {
      "text/plain": [
       "'13COVID-19-Lageberichtvom22.09.202013\\nImSKMünchen,womehrereAusbruchsgescheheninverschiedenenSettingsfürdieerhöhteInzidenz\\nursächlichsind,liegtdieInzidenzheutewiederknappunter50/100.000Einwohner.Indennächsten\\nTagensollenweitereEindämmungsmaßnahmenverpflichtendwerden.\\nCOVID-19-FälletretenbesondersinZusammenhangmitFeiernimFamilien-undFreundeskreisauf.Der\\nAnteilderReiserückkehrerunterdenFällengehtzurück.\\nEswerdenwiedervermehrtCOVID-19-bedingteAusbrücheinAlten-undPflegeheimengemeldet;weitere\\nAusbrüchegibtesinKrankenhäusern,EinrichtungenfürAsylbewerberundGeflüchtete,\\nGemeinschaftseinrichtungen,verschiedenenberuflichenSettingssowieinZusammenhangmitreligiösen\\nVeranstaltungen.\\nSchätzungderFallzahlenunterBerücksichtigungdesVerzugs(Nowcasting)undder\\nReproduktionszahl(R)\\nDieReproduktionszahlRbezeichnetdieAnzahlderPersonen,dieimDurchschnittvoneinemFall\\nangestecktwerden.DieselässtsichnichtausdenMeldedatenablesen,sondernnurdurchstatistische\\nVerfahrenschätzen,zumBeispielaufderBasisdesNowcastings(s.Abbildung9).\\n4-Tage-R-Wert7-Tage-R-Wert\\n0,920,99\\n(95%-Prädiktionsintervall:0,73-1,12)(95%-Prädiktionsintervall:0,89–1,10)\\nAbbildung9:DarstellungderandasRKIübermitteltenCOVID-19-FällemitbekanntemErkrankungsbeginn(dunkelblau),geschätztem\\nErkrankungsbeginnfürFällemitfehlenderEingabedesErkrankungsbeginns(grau)undgeschätzterVerlaufdernochnichtübermitteltenFälle\\n(hellblau)(Stand22.09.2020,0:00Uhr,unterBerücksichtigungderFällebis18.09.2020).\\nDieberichtetenR-WertelagenseitMitteAugust2020unterbzw.um1undseitderzweiten\\nSeptemberwochewiederüberwiegendüber1.DieerhöhtenR-Wertelassensichzunehmendauf\\nÜbertragungeninnerhalbDeutschlandszurückführen.\\nUnterwww.rki.de/covid-19-nowcastingwerdenBeispielrechnungenundbeidetäglichaktualisiertenR-\\nWertealsExcel-TabellezurVerfügunggestellt.EinedetaillierteBeschreibungderMethodikistverfügbar\\nunterhttps://www.rki.de/DE/Content/Infekt/EpidBull/Archiv/2020/17/Art_02.html(Epid.Bull.17|2020\\nvom23.04.2020).\\nHinweisezurDatenerfassungund-bewertung\\nImLageberichtwerdendiebundesweiteinheitlicherfasstenundandasRKIübermitteltenDatenzu\\nlaborbestätigtenCOVID-19-Fällen(COVID-19-ErkrankungenundakuteSARS-CoV-2-Infektionen)\\ndargestellt.COVID-19-Verdachtsfälleund-ErkrankungensowieNachweisevonSARS-CoV-2werdengemäß\\nDerBerichtstellteineMomentaufnahmedarundwirdtäglichaktualisiert.\\n'"
      ]
     },
     "execution_count": 114,
     "metadata": {},
     "output_type": "execute_result"
    }
   ],
   "source": [
    "text"
   ]
  },
  {
   "cell_type": "code",
   "execution_count": 115,
   "metadata": {},
   "outputs": [
    {
     "data": {
      "text/plain": [
       "['0,92', '0,99', '0,73', '1,12', '0,89', '1,10']"
      ]
     },
     "execution_count": 115,
     "metadata": {},
     "output_type": "execute_result"
    }
   ],
   "source": [
    "matches = list(r.findall(text))\n",
    "matches"
   ]
  },
  {
   "cell_type": "code",
   "execution_count": 116,
   "metadata": {},
   "outputs": [],
   "source": [
    "get_date = re.compile('(COVID-19-Lageberichtvom)(\\d{2}\\.\\d{2}\\.\\d{4})')"
   ]
  },
  {
   "cell_type": "code",
   "execution_count": 117,
   "metadata": {},
   "outputs": [],
   "source": [
    "date_search = re.search('(COVID-19-Lageberichtvom)(\\d{2}\\.\\d{2}\\.\\d{4})', text)\n",
    "\n",
    "if date_search:\n",
    "    date = date_search.group(2)"
   ]
  },
  {
   "cell_type": "code",
   "execution_count": 118,
   "metadata": {},
   "outputs": [],
   "source": [
    "date = date[:5]"
   ]
  },
  {
   "cell_type": "code",
   "execution_count": 119,
   "metadata": {},
   "outputs": [],
   "source": [
    "my_dict = {'Datum': date, \n",
    "           '7-Tage-oben': matches[5], '7-Tage-Mitte': matches[1], '7-Tage-unten': matches[4], \n",
    "           '4-Tage-oben': matches[3], '4-Tage-Mitte': matches[0], '4-Tage-unten': matches[2]}"
   ]
  },
  {
   "cell_type": "code",
   "execution_count": 120,
   "metadata": {},
   "outputs": [
    {
     "data": {
      "text/plain": [
       "{'Datum': '22.09',\n",
       " '7-Tage-oben': '1,10',\n",
       " '7-Tage-Mitte': '0,99',\n",
       " '7-Tage-unten': '0,89',\n",
       " '4-Tage-oben': '1,12',\n",
       " '4-Tage-Mitte': '0,92',\n",
       " '4-Tage-unten': '0,73'}"
      ]
     },
     "execution_count": 120,
     "metadata": {},
     "output_type": "execute_result"
    }
   ],
   "source": [
    "my_dict"
   ]
  },
  {
   "cell_type": "code",
   "execution_count": 121,
   "metadata": {},
   "outputs": [],
   "source": [
    "df = pd.DataFrame(my_dict, index=[0] )"
   ]
  },
  {
   "cell_type": "code",
   "execution_count": 122,
   "metadata": {},
   "outputs": [
    {
     "data": {
      "text/html": [
       "<div>\n",
       "<style scoped>\n",
       "    .dataframe tbody tr th:only-of-type {\n",
       "        vertical-align: middle;\n",
       "    }\n",
       "\n",
       "    .dataframe tbody tr th {\n",
       "        vertical-align: top;\n",
       "    }\n",
       "\n",
       "    .dataframe thead th {\n",
       "        text-align: right;\n",
       "    }\n",
       "</style>\n",
       "<table border=\"1\" class=\"dataframe\">\n",
       "  <thead>\n",
       "    <tr style=\"text-align: right;\">\n",
       "      <th></th>\n",
       "      <th>Datum</th>\n",
       "      <th>7-Tage-oben</th>\n",
       "      <th>7-Tage-Mitte</th>\n",
       "      <th>7-Tage-unten</th>\n",
       "      <th>4-Tage-oben</th>\n",
       "      <th>4-Tage-Mitte</th>\n",
       "      <th>4-Tage-unten</th>\n",
       "    </tr>\n",
       "  </thead>\n",
       "  <tbody>\n",
       "    <tr>\n",
       "      <th>0</th>\n",
       "      <td>22.09</td>\n",
       "      <td>1,10</td>\n",
       "      <td>0,99</td>\n",
       "      <td>0,89</td>\n",
       "      <td>1,12</td>\n",
       "      <td>0,92</td>\n",
       "      <td>0,73</td>\n",
       "    </tr>\n",
       "  </tbody>\n",
       "</table>\n",
       "</div>"
      ],
      "text/plain": [
       "   Datum 7-Tage-oben 7-Tage-Mitte 7-Tage-unten 4-Tage-oben 4-Tage-Mitte  \\\n",
       "0  22.09        1,10         0,99         0,89        1,12         0,92   \n",
       "\n",
       "  4-Tage-unten  \n",
       "0         0,73  "
      ]
     },
     "execution_count": 122,
     "metadata": {},
     "output_type": "execute_result"
    }
   ],
   "source": [
    "df"
   ]
  },
  {
   "cell_type": "code",
   "execution_count": null,
   "metadata": {},
   "outputs": [],
   "source": []
  }
 ],
 "metadata": {
  "kernelspec": {
   "display_name": "Python 3",
   "language": "python",
   "name": "python3"
  },
  "language_info": {
   "codemirror_mode": {
    "name": "ipython",
    "version": 3
   },
   "file_extension": ".py",
   "mimetype": "text/x-python",
   "name": "python",
   "nbconvert_exporter": "python",
   "pygments_lexer": "ipython3",
   "version": "3.6.9"
  }
 },
 "nbformat": 4,
 "nbformat_minor": 4
}
