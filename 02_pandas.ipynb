{
 "cells": [
  {
   "cell_type": "markdown",
   "metadata": {},
   "source": [
    "# Pandas\n",
    "\n",
    "![Pandas](./img/pandas.jpg)"
   ]
  },
  {
   "cell_type": "markdown",
   "metadata": {},
   "source": [
    "Pandas ist ein sehr hilfreiches Python-Paket für die Datenanalyse. Mit ihm kannst du Daten in Python in Tabellen-Form verwenden. \n",
    "Pandas bringt zwei neue Datentypen für Python mit:\n",
    "\n",
    "- Series \n",
    "- DataFrame"
   ]
  },
  {
   "cell_type": "markdown",
   "metadata": {},
   "source": [
    "Um ein Paket zu benutzen, musst du es zuerst importieren:"
   ]
  },
  {
   "cell_type": "code",
   "execution_count": null,
   "metadata": {},
   "outputs": [],
   "source": [
    "import pandas as pd # 'as pd' sorgt dafür, dass tu später pd.tue_etwas() schreiben kannst, statt 'pandas.tue_etwas()'   "
   ]
  },
  {
   "cell_type": "markdown",
   "metadata": {},
   "source": [
    "## Series"
   ]
  },
  {
   "cell_type": "markdown",
   "metadata": {},
   "source": [
    "Eine Series ist eine Tabelle mit einem Index (i) und nur einer Spalte (column)."
   ]
  },
  {
   "cell_type": "code",
   "execution_count": null,
   "metadata": {},
   "outputs": [],
   "source": [
    "# Turn a list into a series \n",
    "column = [2, 5, 7, 3]\n",
    "i = ['a', 'b', 'c', 'd']\n",
    "\n",
    "series_1 = pd.Series(column, index=i)\n",
    "series_1"
   ]
  },
  {
   "cell_type": "markdown",
   "metadata": {},
   "source": [
    "Series können auch aus Dictionarys gebildet werden und du kannst verschiedene Datentypen in den Werten speichern. "
   ]
  },
  {
   "cell_type": "code",
   "execution_count": null,
   "metadata": {},
   "outputs": [],
   "source": [
    "other_column = {'a': 9, 'b': 'eight', 'c': 7.5, 'd': 6}\n",
    "\n",
    "series_2 = pd.Series(other_column)\n"
   ]
  },
  {
   "cell_type": "markdown",
   "metadata": {},
   "source": [
    "## Übung"
   ]
  },
  {
   "cell_type": "code",
   "execution_count": null,
   "metadata": {},
   "outputs": [],
   "source": [
    "# Erstelle eine Liste mit drei Obstsorten und einen Index.\n"
   ]
  },
  {
   "cell_type": "code",
   "execution_count": null,
   "metadata": {},
   "outputs": [],
   "source": [
    "# Mach daraus eine Series\n"
   ]
  },
  {
   "cell_type": "markdown",
   "metadata": {},
   "source": [
    "### Jupyter Tipp:\n",
    "\n",
    "Wie in der Kommandozeile kannst du die `TAB`-Taste benutzen, um einige Vorschläge zu erhalten. Dies kann dir eine Menge Tipparbeit ersparen.\n",
    "\n",
    "Das Jupyter-Notizbuch macht es einfacher, etwas zu printen. In reinem Python müsste man print(variable) verwenden, in Jupyter Notebooks schreibt man einfach die Variable, die man ausdrucken möchte, an das Ende der Zelle und sie wird ausgedruckt."
   ]
  },
  {
   "cell_type": "code",
   "execution_count": null,
   "metadata": {},
   "outputs": [],
   "source": [
    "series_new"
   ]
  },
  {
   "cell_type": "markdown",
   "metadata": {},
   "source": [
    "## DataFrame"
   ]
  },
  {
   "cell_type": "markdown",
   "metadata": {},
   "source": [
    "Ein DataFrame ist eine Tabelle, wie du sie kennst, mit einem Index, einer Kopfzeile und Zeilen und Spalten."
   ]
  },
  {
   "cell_type": "code",
   "execution_count": null,
   "metadata": {},
   "outputs": [],
   "source": [
    "brand_new_df = pd.DataFrame([series_1, series_2])\n",
    "brand_new_df"
   ]
  },
  {
   "cell_type": "markdown",
   "metadata": {},
   "source": [
    "## Ran an die echten Daten\n",
    "\n",
    "**[>> zum data Notebook](03_data.ipynb)**"
   ]
  }
 ],
 "metadata": {
  "kernelspec": {
   "display_name": "Python 3",
   "language": "python",
   "name": "python3"
  },
  "language_info": {
   "codemirror_mode": {
    "name": "ipython",
    "version": 3
   },
   "file_extension": ".py",
   "mimetype": "text/x-python",
   "name": "python",
   "nbconvert_exporter": "python",
   "pygments_lexer": "ipython3",
   "version": "3.6.9"
  }
 },
 "nbformat": 4,
 "nbformat_minor": 4
}
