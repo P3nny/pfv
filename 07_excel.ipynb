{
 "cells": [
  {
   "cell_type": "markdown",
   "metadata": {},
   "source": [
    "# Daten aus Excel einlesen"
   ]
  },
  {
   "cell_type": "code",
   "execution_count": null,
   "metadata": {},
   "outputs": [],
   "source": [
    "import pandas as pd\n",
    "import matplotlib.pyplot as plt\n",
    "\n",
    "pd.set_option('display.max_columns', 50)\n",
    "pd.set_option('display.max_rows', 100)"
   ]
  },
  {
   "cell_type": "markdown",
   "metadata": {},
   "source": [
    "Wenn man Daten anfragt, bekommt man neben .csv auch oft Excel-Files geschickt.\n",
    "Das einlesen der Daten ist ähnlich wie bei .csvs. \n",
    "\n",
    "Zwei Dinge sind zu beachten:\n",
    "1. Für die Arbeit mit Excel-daten benötigt pandas zusätzlich das Paket 'xlrd. Das muss ggf. noch installiert werden. (Hier ist das schon passiert.)\n",
    "2. Excel-Files enthalten meist mehrere Tabellenblätter. Beim einlesen musst du angeben, welches Blatt (sheet_name) eingeladen werden soll. "
   ]
  },
  {
   "cell_type": "code",
   "execution_count": null,
   "metadata": {},
   "outputs": [],
   "source": [
    "df_2015 = pd.read_excel(\"./data/KHV_2015.xlsx\", sheet_name = \"KHV_2015\", skiprows= 4)"
   ]
  },
  {
   "cell_type": "code",
   "execution_count": null,
   "metadata": {},
   "outputs": [],
   "source": [
    "df_2015.sample()"
   ]
  },
  {
   "cell_type": "code",
   "execution_count": null,
   "metadata": {},
   "outputs": [],
   "source": [
    "df_2015.columns"
   ]
  },
  {
   "cell_type": "code",
   "execution_count": null,
   "metadata": {},
   "outputs": [],
   "source": [
    "df_2015 = df_2015[['Land', 'Kreis', 'Gemeinde', 'Name1', 'Ort', 'Traeger', 'T_Name1', 'Art', 'Betten_Ins']]"
   ]
  },
  {
   "cell_type": "code",
   "execution_count": null,
   "metadata": {},
   "outputs": [],
   "source": [
    "df_2015['Jahr'] = '2015'"
   ]
  },
  {
   "cell_type": "code",
   "execution_count": null,
   "metadata": {},
   "outputs": [],
   "source": [
    "df_2015.sample(3)"
   ]
  },
  {
   "cell_type": "markdown",
   "metadata": {},
   "source": [
    "### Übung"
   ]
  },
  {
   "cell_type": "markdown",
   "metadata": {},
   "source": [
    "### Welche journalistischen Fragen habt ihr an den Datensatz?\n",
    "\n",
    "Manchmal hilft es, einen Datensatz zu befragen, wie man eine Interview-Partner*in befragt\n",
    "\n",
    "Welche Fragen habt ihr an den Krankenhäuser-Datensatz? "
   ]
  },
  {
   "cell_type": "markdown",
   "metadata": {},
   "source": [
    "#### Fragen gesamt und NRW:\n",
    "\n",
    "- wieviele Kliniken je Träger gibt es?\n",
    "- wer sind die größten Klinikbetreiber?\n",
    "- wieviele Unikliniken sind Privat?\n",
    "- wieviele Betten privat und öffentlich?\n",
    "\n",
    "#### Ländervergleich:\n",
    "\n",
    "- meiste private Träger? \n",
    "- Karte: Cluster mit privaten?\n",
    "- Betten/Einwohner\n",
    "- Ost/West Vergleich"
   ]
  },
  {
   "cell_type": "markdown",
   "metadata": {},
   "source": [
    "## Richtig spannend ist der Zeitverlauf"
   ]
  },
  {
   "cell_type": "markdown",
   "metadata": {},
   "source": [
    "Um einen großen Datensatz zu erzeugen, der Veränderungen über die Jahre preisgibt, müssen wir mehrere Jahre einlesen. \n",
    "Problem oft: Je älter die Daten werden, desto größer die Wahrscheinlichkeit, dass sich die Datensätze über die Jahre verändert haben.\n"
   ]
  },
  {
   "cell_type": "markdown",
   "metadata": {},
   "source": [
    "Wenn alle .xls-Dateien gleich aufgebaut wären, könnten wir eine Funktion schreiben, die alle Datensätze einliest und miteinander verknüpft."
   ]
  },
  {
   "cell_type": "markdown",
   "metadata": {},
   "source": [
    "Schau dir unter ./data mal die 'KHV_' - Dateien an:\n",
    "\n",
    "- alle beginnen mit 'KHV_', gefolgt vom Jahr\n",
    "- es gibt drei verschiedene Formate .xls, .XLS, .xlsx\n",
    "- 1992 heißt das Datenblatt nach dem wir suchen 'KHV'\n",
    "- 1995 heißt es KH\n",
    "- 2003 bis 2005 gibt es ein Datenblatt 'KHV', immer als 5. Blatt im Dokument\n",
    "- 2015 heißt das Datenblatt 'KHV_2015' und ist ebenfalls das 5. Blatt im Dokument"
   ]
  },
  {
   "cell_type": "markdown",
   "metadata": {},
   "source": [
    "### Die Rohdaten sind lava!\n",
    "Die Versuchung ist groß, mal eben die Ungleichheiten händisch in den Excel-Files zu bereinigen.\n",
    "Diese Änderungen würden aber unsere Datenquelle verändern und wären nicht dokumentiert, also schwer wiederholbar für die Abnahme oder auch für die Leser*innen."
   ]
  },
  {
   "cell_type": "markdown",
   "metadata": {},
   "source": [
    "Entsprechend wählen wir einen halbautomatisierten, dokumentierten Weg im Jupyter Notebook:"
   ]
  },
  {
   "cell_type": "markdown",
   "metadata": {},
   "source": [
    "### Nice to know"
   ]
  },
  {
   "cell_type": "markdown",
   "metadata": {},
   "source": [
    "Um auf das Dinge im Betriebssystem zuzugreifen, gibt es das Python Modul `os`"
   ]
  },
  {
   "cell_type": "code",
   "execution_count": null,
   "metadata": {},
   "outputs": [],
   "source": [
    "import os"
   ]
  },
  {
   "cell_type": "code",
   "execution_count": null,
   "metadata": {},
   "outputs": [],
   "source": [
    "# Alle Dateien anzeigen, die im Ordner 'data' liegen\n",
    "path = './data'\n",
    "files = os.listdir(path)\n",
    "files"
   ]
  },
  {
   "cell_type": "markdown",
   "metadata": {},
   "source": [
    "Um Dateien nach Mustern zu durchsuchen, gibt es das Python Modul `glob`"
   ]
  },
  {
   "cell_type": "code",
   "execution_count": null,
   "metadata": {},
   "outputs": [],
   "source": [
    "from glob import glob"
   ]
  },
  {
   "cell_type": "code",
   "execution_count": null,
   "metadata": {},
   "outputs": [],
   "source": [
    "# Die Dateien in einer Liste speichern, die mit 'KHV_' anfangen, das Sternchen ersetzt beliebige Zeichen\n",
    "files_xls = glob('./data/KHV_*')\n",
    "files_xls.sort()\n",
    "files_xls"
   ]
  },
  {
   "cell_type": "markdown",
   "metadata": {},
   "source": [
    " Mithilfe dieser Dateiliste könnten wir jetzt unsere Funktion schreiben, die jede Datei durchläuft und die entsprechend bereinigten dataframes anlegt. Da die Dateien aber kleine Unterschiede aufweisen, gehen wir jahrweise vor:"
   ]
  },
  {
   "cell_type": "markdown",
   "metadata": {},
   "source": [
    "#### 1992"
   ]
  },
  {
   "cell_type": "code",
   "execution_count": null,
   "metadata": {},
   "outputs": [],
   "source": [
    "df_1992 = pd.read_excel('./data/KHV_1992.xls', dtype='object')"
   ]
  },
  {
   "cell_type": "code",
   "execution_count": null,
   "metadata": {},
   "outputs": [],
   "source": [
    "df_1992.sample()"
   ]
  },
  {
   "cell_type": "code",
   "execution_count": null,
   "metadata": {},
   "outputs": [],
   "source": [
    "df_1992.columns"
   ]
  },
  {
   "cell_type": "code",
   "execution_count": null,
   "metadata": {},
   "outputs": [],
   "source": [
    "# Spalten so umbenennen, das sie dem Standard der späteren Jahre entsprechen\n",
    "df_1992 = df_1992.rename(columns={'LAND': 'Land', 'KREIS': 'Kreis', 'GEMEINDE': 'Gemeinde', 'NAME1': 'Name1', 'ORT': 'Ort', 'TRAEGER': 'Traeger', 'NAMET1': 'T_Name1', 'ART':'Art', 'BETTEN_I': 'Betten_Ins'})"
   ]
  },
  {
   "cell_type": "code",
   "execution_count": null,
   "metadata": {},
   "outputs": [],
   "source": [
    "# Benötigte Spalten auswählen\n",
    "df_1992 = df_1992[['Land', 'Kreis', 'Gemeinde', 'Name1', 'Ort', 'Traeger', 'T_Name1', 'Art', 'Betten_Ins']]"
   ]
  },
  {
   "cell_type": "markdown",
   "metadata": {},
   "source": [
    "Es fehlt noch eine Spalte 'Jahr', in der das jeweilige Jahr aus dem Dateinamen eingetragen wird."
   ]
  },
  {
   "cell_type": "markdown",
   "metadata": {},
   "source": [
    "### Muster erkennen mit regulären Ausdrücken"
   ]
  },
  {
   "cell_type": "markdown",
   "metadata": {},
   "source": [
    "Die Jahre können wir automatisch aus den Zahlen in den Dateinamen auslesen. "
   ]
  },
  {
   "cell_type": "markdown",
   "metadata": {},
   "source": [
    "Das Modul `re` ermöglicht nach regulären Ausdrücken zu suchen: Zum Beispiel alle Zahlen in einem String zu finden. "
   ]
  },
  {
   "cell_type": "code",
   "execution_count": null,
   "metadata": {},
   "outputs": [],
   "source": [
    "import re"
   ]
  },
  {
   "cell_type": "markdown",
   "metadata": {},
   "source": [
    "Beispiele für reguläre Ausdrücke (RegEx):\n",
    "\n",
    "**Regular Expression Character Classes**\n",
    "\n",
    "| Expression | Explanation |\n",
    "| --- | --- |\n",
    "| [ab-d] | One character of: a, b, c, d |\n",
    "| [^ab-d] | One character except: a, b, c, d |\n",
    "| [\\b] | Backspace character |\n",
    "| \\d | One digit |\n",
    "| \\D | One non-digit |\n",
    "| \\s | One whitespace |\n",
    "| \\S | One non-whitespace |\n",
    "| \\w | One word character |\n",
    "| \\W | One non-word character |\n",
    "\n",
    "**Regular Expression Quantifiers**\n",
    "\n",
    "| Expression | Explanation |\n",
    "| --- | --- |\n",
    "| \\* | 0 or more |\n",
    "| \\+ | 1 or more |\n",
    "| ? | 0 or 1 |\n",
    "| {2} | Exactly 2 |\n",
    "| {2, 5} | Between 2 and 5 |\n",
    "| {2,} | 2 or more |\n",
    "| (,5} | Up to 5 |"
   ]
  },
  {
   "cell_type": "code",
   "execution_count": null,
   "metadata": {},
   "outputs": [],
   "source": [
    "teststring = 'KHV_1992.xls'"
   ]
  },
  {
   "cell_type": "code",
   "execution_count": null,
   "metadata": {},
   "outputs": [],
   "source": [
    "# Mit (\\d) findest Du Zahlen in deinem Teststring, das + gibt an, dass wir mehr als eine Zahl suchen.\n",
    "re.search(r'\\d+', teststring).group()"
   ]
  },
  {
   "cell_type": "code",
   "execution_count": null,
   "metadata": {},
   "outputs": [],
   "source": [
    "# Damit wir nochher mehrere Excel-Dateien auf einmal verarbeiten können, schreiben wir eine Funktion, die jeweils das Jahr zurückgibt:\n",
    "def get_numbers_from_filename(filename):\n",
    "    return re.search(r'\\d+', filename).group()"
   ]
  },
  {
   "cell_type": "code",
   "execution_count": null,
   "metadata": {},
   "outputs": [],
   "source": [
    "# Funktion testweise ausführen\n",
    "get_numbers_from_filename(\"KHV_1992.xls\")"
   ]
  },
  {
   "cell_type": "code",
   "execution_count": null,
   "metadata": {},
   "outputs": [],
   "source": [
    "# Spalte 'Jahr' setzen\n",
    "df_1992[\"Jahr\"] = get_numbers_from_filename(\"KHV_1992.xls\")"
   ]
  },
  {
   "cell_type": "code",
   "execution_count": null,
   "metadata": {},
   "outputs": [],
   "source": [
    "df_1992.sample()"
   ]
  },
  {
   "cell_type": "markdown",
   "metadata": {},
   "source": [
    "### 1995"
   ]
  },
  {
   "cell_type": "markdown",
   "metadata": {},
   "source": [
    "Für 1995 müssen wir ähnliche, aber leider nicht exakt dieselben Schritte ausführen:"
   ]
  },
  {
   "cell_type": "code",
   "execution_count": null,
   "metadata": {},
   "outputs": [],
   "source": [
    "# Einlesen, diesmal mit sheet_name, da das Blatt, welches wir haben wollen, nicht das erste ist. \n",
    "df_1995 = pd.read_excel('./data/KHV_1995.XLS', sheet_name='KH', dtype='object')"
   ]
  },
  {
   "cell_type": "code",
   "execution_count": null,
   "metadata": {},
   "outputs": [],
   "source": [
    "# Spalten so umbenennen, das sie dem Standard der späteren Jahre entsprechen\n",
    "df_1995 = df_1995.rename(columns={'LAND': 'Land', 'KREIS': 'Kreis', 'GEMEINDE': 'Gemeinde', 'NAME1': 'Name1', 'ORT': 'Ort', 'TRAEGER': 'Traeger', 'NAMET1': 'T_Name1', 'ART':'Art', 'BETTEN_I': 'Betten_Ins'})"
   ]
  },
  {
   "cell_type": "code",
   "execution_count": null,
   "metadata": {},
   "outputs": [],
   "source": [
    "# Benötigte Spalten auswählen\n",
    "df_1995 = df_1995[['Land', 'Kreis', 'Gemeinde', 'Name1', 'Ort', 'Traeger', 'T_Name1', 'Art', 'Betten_Ins']]"
   ]
  },
  {
   "cell_type": "code",
   "execution_count": null,
   "metadata": {},
   "outputs": [],
   "source": [
    "# Jahr\n",
    "df_1995[\"Jahr\"] = get_numbers_from_filename(\"KHV_1995.XLS\")"
   ]
  },
  {
   "cell_type": "code",
   "execution_count": null,
   "metadata": {},
   "outputs": [],
   "source": [
    "df_1995.sample()"
   ]
  },
  {
   "cell_type": "markdown",
   "metadata": {},
   "source": [
    "### 2003 - 2005"
   ]
  },
  {
   "cell_type": "markdown",
   "metadata": {},
   "source": [
    "2003 bis 2005 können wir in einem einlesen "
   ]
  },
  {
   "cell_type": "code",
   "execution_count": null,
   "metadata": {},
   "outputs": [],
   "source": [
    "filenames = [\n",
    " './data/KHV_2003.xls',\n",
    " './data/KHV_2004.xls',\n",
    " './data/KHV_2005.xls',]"
   ]
  },
  {
   "cell_type": "code",
   "execution_count": null,
   "metadata": {},
   "outputs": [],
   "source": [
    "df_from_each_file = []\n",
    "\n",
    "for file in filenames:\n",
    "    data = pd.read_excel(file, sheet_name=4, dtype='object')\n",
    "    data[\"Jahr\"] = get_numbers_from_filename(file)\n",
    "    data = data[['Land', 'Kreis', 'Gemeinde', 'Name1', 'Ort', 'Traeger', 'T_Name1', 'Art', 'Betten_Ins', 'Jahr']]\n",
    "    df_from_each_file.append(data)"
   ]
  },
  {
   "cell_type": "markdown",
   "metadata": {},
   "source": [
    "Hast Du gemerkt, dass wir diesmal 'sheet_name=4' gesetzt haben?\n",
    "Das suchst das 5. Datenblatt heraus, denn Python fängt mit dem Zählen bei 0 an."
   ]
  },
  {
   "cell_type": "markdown",
   "metadata": {},
   "source": [
    "Um die DataFrames zu verknüpfen nutzen wir `pd.concat`. Die Funktion nimmt eine Liste von Dataframes und klebt sie untereinander. Das funktioniert aber nur dann gut, wenn die Spaltennamen übereinstimmen."
   ]
  },
  {
   "cell_type": "code",
   "execution_count": null,
   "metadata": {},
   "outputs": [],
   "source": [
    "df_2003_2005 = pd.concat(df_from_each_file, ignore_index=True)"
   ]
  },
  {
   "cell_type": "code",
   "execution_count": null,
   "metadata": {},
   "outputs": [],
   "source": [
    "df_2003_2005.sample()"
   ]
  },
  {
   "cell_type": "code",
   "execution_count": null,
   "metadata": {},
   "outputs": [],
   "source": [
    "# Immerhin 6369 Zeilen in einem eingelesen \n",
    "len(df_2003_2005)"
   ]
  },
  {
   "cell_type": "markdown",
   "metadata": {},
   "source": [
    "### Jetzt bringen wir alles zusammen"
   ]
  },
  {
   "cell_type": "code",
   "execution_count": null,
   "metadata": {},
   "outputs": [],
   "source": [
    "dfs = [df_1992, df_1995, df_2003_2005, df_2015]"
   ]
  },
  {
   "cell_type": "code",
   "execution_count": null,
   "metadata": {},
   "outputs": [],
   "source": [
    "df = pd.concat(dfs, ignore_index=True)"
   ]
  },
  {
   "cell_type": "code",
   "execution_count": null,
   "metadata": {},
   "outputs": [],
   "source": [
    "df.shape"
   ]
  },
  {
   "cell_type": "code",
   "execution_count": null,
   "metadata": {},
   "outputs": [],
   "source": [
    "df.sample()"
   ]
  },
  {
   "cell_type": "markdown",
   "metadata": {},
   "source": [
    "## Entwicklung der privaten Träger"
   ]
  },
  {
   "cell_type": "markdown",
   "metadata": {},
   "source": [
    "In den Excel-Dateien findet sich folgende Erklärung zu den Trägern:\n",
    "\n",
    "Art des Trägers und Rechtsform des Krankenhauses\n",
    "\n",
    "1 = öffentlich in öffentlich-rechtlicher Form, rechtlich unselbstständig\n",
    "\n",
    "2 = öffentlich in öffentlich-rechtlicher Form, rechtlich selbstständig\n",
    "\n",
    "3 = öffentlich in privatrechtlicher Form\n",
    "\n",
    "4 = freigemeinnützig\n",
    "\n",
    "5 = privat\n"
   ]
  },
  {
   "cell_type": "code",
   "execution_count": null,
   "metadata": {},
   "outputs": [],
   "source": [
    "# Wie oft kommt der Wert 5 in der Spalte Träger vor?\n",
    "df.Traeger.value_counts()\n",
    "# Typ 5 kommt doppelt vor, das liegt daran, dass die Werte einmal als int und einmal als str vorhanden sind."
   ]
  },
  {
   "cell_type": "code",
   "execution_count": null,
   "metadata": {},
   "outputs": [],
   "source": [
    "# Datentypen checken\n",
    "df.dtypes"
   ]
  },
  {
   "cell_type": "code",
   "execution_count": null,
   "metadata": {},
   "outputs": [],
   "source": [
    "# Datentyp für die Spalte Träger zu int ändern\n",
    "df.Traeger = df.Traeger.astype('int')"
   ]
  },
  {
   "cell_type": "code",
   "execution_count": null,
   "metadata": {},
   "outputs": [],
   "source": [
    "# Geklappt?\n",
    "df.dtypes"
   ]
  },
  {
   "cell_type": "code",
   "execution_count": null,
   "metadata": {},
   "outputs": [],
   "source": [
    "# Im Datensatz sind private Krankenhäuser mit Träger '5' angegeben. Darauf filtern wir.\n",
    "df = df[df.Traeger == 5]"
   ]
  },
  {
   "cell_type": "code",
   "execution_count": null,
   "metadata": {},
   "outputs": [],
   "source": [
    "df.shape"
   ]
  },
  {
   "cell_type": "code",
   "execution_count": null,
   "metadata": {},
   "outputs": [],
   "source": [
    "private = df.groupby(['Jahr']).count()\n",
    "private"
   ]
  },
  {
   "cell_type": "markdown",
   "metadata": {},
   "source": [
    "Im Jahr 1992 und 1995 gab es noch keine privaten Krankenhäuser."
   ]
  },
  {
   "cell_type": "code",
   "execution_count": null,
   "metadata": {},
   "outputs": [],
   "source": [
    "private.plot(y='Land', kind=\"bar\", figsize=(15,6),  legend=False, \n",
    "                                           title=\"Entwicklung private Krankenhäuser\",)"
   ]
  },
  {
   "cell_type": "markdown",
   "metadata": {},
   "source": [
    "Geschafft!\n",
    "\n",
    "Bitte lies noch das\n",
    "\n",
    "**[ >> Api Grundlagen Notebook](07_api.ipynb)**"
   ]
  }
 ],
 "metadata": {
  "kernelspec": {
   "display_name": "Python 3",
   "language": "python",
   "name": "python3"
  },
  "language_info": {
   "codemirror_mode": {
    "name": "ipython",
    "version": 3
   },
   "file_extension": ".py",
   "mimetype": "text/x-python",
   "name": "python",
   "nbconvert_exporter": "python",
   "pygments_lexer": "ipython3",
   "version": "3.6.9"
  }
 },
 "nbformat": 4,
 "nbformat_minor": 4
}
