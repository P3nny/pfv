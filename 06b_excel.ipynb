{
 "cells": [
  {
   "cell_type": "markdown",
   "metadata": {},
   "source": [
    "# Daten aus Excel einlesen"
   ]
  },
  {
   "cell_type": "code",
   "execution_count": 13,
   "metadata": {},
   "outputs": [],
   "source": [
    "import pandas as pd\n",
    "import matplotlib.pyplot as plt\n",
    "\n",
    "pd.set_option('display.max_columns', 50)\n",
    "pd.set_option('display.max_rows', 100)"
   ]
  },
  {
   "cell_type": "markdown",
   "metadata": {},
   "source": [
    "Wenn man Daten anfragt, bekommt man neben .csv auch oft Excel-Files geschickt.\n",
    "Das einlesen der Daten ist ähnlich wie bei .csvs. \n",
    "\n",
    "Zwei Dinge sind zu beachten:\n",
    "1. Für die Arbeit mit Excel-daten benötigt pandas zusätzlich das Paket 'xlrd. Das muss ggf. noch installiert werden. (Hier ist das schon passiert.)\n",
    "2. Excel-Files enthalten meist mehrere Tabellenblätter. Beim einlesen musst du angeben, welches Blatt (sheet_name) eingeladen werden soll. "
   ]
  },
  {
   "cell_type": "code",
   "execution_count": 5,
   "metadata": {},
   "outputs": [],
   "source": [
    "df_2015 = pd.read_excel(\"./data/KHV_2015.xlsx\", sheet_name = \"KHV_2015\", skiprows= 4)"
   ]
  },
  {
   "cell_type": "code",
   "execution_count": 8,
   "metadata": {},
   "outputs": [
    {
     "data": {
      "text/html": [
       "<div>\n",
       "<style scoped>\n",
       "    .dataframe tbody tr th:only-of-type {\n",
       "        vertical-align: middle;\n",
       "    }\n",
       "\n",
       "    .dataframe tbody tr th {\n",
       "        vertical-align: top;\n",
       "    }\n",
       "\n",
       "    .dataframe thead th {\n",
       "        text-align: right;\n",
       "    }\n",
       "</style>\n",
       "<table border=\"1\" class=\"dataframe\">\n",
       "  <thead>\n",
       "    <tr style=\"text-align: right;\">\n",
       "      <th></th>\n",
       "      <th>Land</th>\n",
       "      <th>Kreis</th>\n",
       "      <th>Gemeinde</th>\n",
       "      <th>Name1</th>\n",
       "      <th>Name2</th>\n",
       "      <th>Name3</th>\n",
       "      <th>Name4</th>\n",
       "      <th>Straße/Hausnr</th>\n",
       "      <th>PLZ</th>\n",
       "      <th>Ort</th>\n",
       "      <th>Telefonvorwahl/-nummer</th>\n",
       "      <th>Telefaxvorwahl/-nummer</th>\n",
       "      <th>E-Mail Adresse</th>\n",
       "      <th>Internetadresse</th>\n",
       "      <th>Traeger</th>\n",
       "      <th>T_Name1</th>\n",
       "      <th>T_Name2</th>\n",
       "      <th>T_Name3</th>\n",
       "      <th>T_Name4</th>\n",
       "      <th>Art</th>\n",
       "      <th>Betten_Ins</th>\n",
       "      <th>Augen</th>\n",
       "      <th>Chirurgie</th>\n",
       "      <th>CH_Gefäßchir</th>\n",
       "      <th>CH_Thorax</th>\n",
       "      <th>...</th>\n",
       "      <th>K_Kardiologie</th>\n",
       "      <th>K_Neonatologie</th>\n",
       "      <th>Kinderpsychiat</th>\n",
       "      <th>Mund_Kiefer</th>\n",
       "      <th>Neurochir</th>\n",
       "      <th>Neurologie</th>\n",
       "      <th>Nuklear</th>\n",
       "      <th>Ortho</th>\n",
       "      <th>O_Rheuma</th>\n",
       "      <th>Plast_Chir</th>\n",
       "      <th>Psychiat</th>\n",
       "      <th>Psychiat_Sucht</th>\n",
       "      <th>Psychotherapeut</th>\n",
       "      <th>Strahlen</th>\n",
       "      <th>Urologie</th>\n",
       "      <th>Sonst</th>\n",
       "      <th>TN_Innere</th>\n",
       "      <th>TN_I_Geriatrie</th>\n",
       "      <th>TN_Kinderpsychiat</th>\n",
       "      <th>TN_Psychiat</th>\n",
       "      <th>TN_Psychotherapeut</th>\n",
       "      <th>TN_Sonst</th>\n",
       "      <th>TN_SUM</th>\n",
       "      <th>Änd_Art</th>\n",
       "      <th>Änd_Detail</th>\n",
       "    </tr>\n",
       "  </thead>\n",
       "  <tbody>\n",
       "    <tr>\n",
       "      <th>524</th>\n",
       "      <td>5</td>\n",
       "      <td>558</td>\n",
       "      <td>12</td>\n",
       "      <td>Christophorus-Kliniken</td>\n",
       "      <td>NaN</td>\n",
       "      <td>NaN</td>\n",
       "      <td>NaN</td>\n",
       "      <td>Südring 41</td>\n",
       "      <td>48653</td>\n",
       "      <td>Coesfeld</td>\n",
       "      <td>02541 89-0</td>\n",
       "      <td>02541 89-13509</td>\n",
       "      <td>info@christophorus-kliniken.de</td>\n",
       "      <td>www.christophorus-kliniken.de</td>\n",
       "      <td>4</td>\n",
       "      <td>Christophorus-Kliniken GmbH</td>\n",
       "      <td>NaN</td>\n",
       "      <td>NaN</td>\n",
       "      <td>NaN</td>\n",
       "      <td>2</td>\n",
       "      <td>620</td>\n",
       "      <td>2</td>\n",
       "      <td>151</td>\n",
       "      <td>-</td>\n",
       "      <td>-</td>\n",
       "      <td>...</td>\n",
       "      <td>-</td>\n",
       "      <td>12</td>\n",
       "      <td>-</td>\n",
       "      <td>-</td>\n",
       "      <td>-</td>\n",
       "      <td>35</td>\n",
       "      <td>-</td>\n",
       "      <td>-</td>\n",
       "      <td>-</td>\n",
       "      <td>-</td>\n",
       "      <td>-</td>\n",
       "      <td>-</td>\n",
       "      <td>-</td>\n",
       "      <td>-</td>\n",
       "      <td>-</td>\n",
       "      <td>-</td>\n",
       "      <td>-</td>\n",
       "      <td>12</td>\n",
       "      <td>-</td>\n",
       "      <td>-</td>\n",
       "      <td>-</td>\n",
       "      <td>-</td>\n",
       "      <td>12</td>\n",
       "      <td>NaN</td>\n",
       "      <td>NaN</td>\n",
       "    </tr>\n",
       "  </tbody>\n",
       "</table>\n",
       "<p>1 rows × 71 columns</p>\n",
       "</div>"
      ],
      "text/plain": [
       "     Land  Kreis  Gemeinde                   Name1 Name2 Name3 Name4  \\\n",
       "524     5    558        12  Christophorus-Kliniken   NaN   NaN   NaN   \n",
       "\n",
       "    Straße/Hausnr    PLZ       Ort Telefonvorwahl/-nummer  \\\n",
       "524    Südring 41  48653  Coesfeld             02541 89-0   \n",
       "\n",
       "    Telefaxvorwahl/-nummer                  E-Mail Adresse  \\\n",
       "524         02541 89-13509  info@christophorus-kliniken.de   \n",
       "\n",
       "                   Internetadresse  Traeger                      T_Name1  \\\n",
       "524  www.christophorus-kliniken.de        4  Christophorus-Kliniken GmbH   \n",
       "\n",
       "    T_Name2 T_Name3 T_Name4  Art Betten_Ins Augen Chirurgie CH_Gefäßchir  \\\n",
       "524     NaN     NaN     NaN    2        620     2       151            -   \n",
       "\n",
       "    CH_Thorax  ... K_Kardiologie K_Neonatologie Kinderpsychiat Mund_Kiefer  \\\n",
       "524         -  ...             -             12              -           -   \n",
       "\n",
       "    Neurochir Neurologie Nuklear Ortho O_Rheuma Plast_Chir Psychiat  \\\n",
       "524         -         35       -     -        -          -        -   \n",
       "\n",
       "    Psychiat_Sucht Psychotherapeut Strahlen Urologie Sonst TN_Innere  \\\n",
       "524              -               -        -        -     -         -   \n",
       "\n",
       "    TN_I_Geriatrie TN_Kinderpsychiat TN_Psychiat TN_Psychotherapeut TN_Sonst  \\\n",
       "524             12                 -           -                  -        -   \n",
       "\n",
       "    TN_SUM Änd_Art Änd_Detail  \n",
       "524     12     NaN        NaN  \n",
       "\n",
       "[1 rows x 71 columns]"
      ]
     },
     "execution_count": 8,
     "metadata": {},
     "output_type": "execute_result"
    }
   ],
   "source": [
    "df_2015.sample()"
   ]
  },
  {
   "cell_type": "code",
   "execution_count": 10,
   "metadata": {},
   "outputs": [
    {
     "data": {
      "text/plain": [
       "Index(['Land', 'Kreis', 'Gemeinde', 'Name1', 'Name2', 'Name3', 'Name4',\n",
       "       'Straße/Hausnr', 'PLZ', 'Ort', 'Telefonvorwahl/-nummer',\n",
       "       'Telefaxvorwahl/-nummer', 'E-Mail Adresse', 'Internetadresse',\n",
       "       'Traeger', 'T_Name1', 'T_Name2', 'T_Name3', 'T_Name4', 'Art',\n",
       "       'Betten_Ins', 'Augen', 'Chirurgie', 'CH_Gefäßchir', 'CH_Thorax',\n",
       "       'CH_Unfall', 'CH_Viszeral', 'Frauen/Geburt', 'F-Frau', 'F_Geburt',\n",
       "       'HNO', 'Haut_Geschlecht', 'Herzchir', 'Herz_Thorax', 'Innere',\n",
       "       'I_Angio', 'I_Endo', 'I_Gastro', 'I_Haema', 'I_Kardio', 'I_Nephro',\n",
       "       'I_Pneumo', 'I_Rheuma', 'Geriatrie', 'Kinderchir', 'Kinderhk',\n",
       "       'K_Kardiologie', 'K_Neonatologie', 'Kinderpsychiat', 'Mund_Kiefer',\n",
       "       'Neurochir', 'Neurologie', 'Nuklear', 'Ortho', 'O_Rheuma', 'Plast_Chir',\n",
       "       'Psychiat', 'Psychiat_Sucht', 'Psychotherapeut', 'Strahlen', 'Urologie',\n",
       "       'Sonst', 'TN_Innere', 'TN_I_Geriatrie', 'TN_Kinderpsychiat',\n",
       "       'TN_Psychiat', 'TN_Psychotherapeut', 'TN_Sonst', 'TN_SUM', 'Änd_Art',\n",
       "       'Änd_Detail'],\n",
       "      dtype='object')"
      ]
     },
     "execution_count": 10,
     "metadata": {},
     "output_type": "execute_result"
    }
   ],
   "source": [
    "df_2015.columns"
   ]
  },
  {
   "cell_type": "code",
   "execution_count": 11,
   "metadata": {},
   "outputs": [],
   "source": [
    "df_2015 = df_2015[['Land', 'Kreis', 'Gemeinde', 'Name1', 'Ort', 'Traeger', 'T_Name1', 'Art', 'Betten_Ins']]"
   ]
  },
  {
   "cell_type": "code",
   "execution_count": 12,
   "metadata": {},
   "outputs": [],
   "source": [
    "df_2015['Jahr'] = '2015'"
   ]
  },
  {
   "cell_type": "code",
   "execution_count": 15,
   "metadata": {},
   "outputs": [
    {
     "data": {
      "text/html": [
       "<div>\n",
       "<style scoped>\n",
       "    .dataframe tbody tr th:only-of-type {\n",
       "        vertical-align: middle;\n",
       "    }\n",
       "\n",
       "    .dataframe tbody tr th {\n",
       "        vertical-align: top;\n",
       "    }\n",
       "\n",
       "    .dataframe thead th {\n",
       "        text-align: right;\n",
       "    }\n",
       "</style>\n",
       "<table border=\"1\" class=\"dataframe\">\n",
       "  <thead>\n",
       "    <tr style=\"text-align: right;\">\n",
       "      <th></th>\n",
       "      <th>Land</th>\n",
       "      <th>Kreis</th>\n",
       "      <th>Gemeinde</th>\n",
       "      <th>Name1</th>\n",
       "      <th>Ort</th>\n",
       "      <th>Traeger</th>\n",
       "      <th>T_Name1</th>\n",
       "      <th>Art</th>\n",
       "      <th>Betten_Ins</th>\n",
       "      <th>Jahr</th>\n",
       "    </tr>\n",
       "  </thead>\n",
       "  <tbody>\n",
       "    <tr>\n",
       "      <th>1477</th>\n",
       "      <td>9</td>\n",
       "      <td>772</td>\n",
       "      <td>200</td>\n",
       "      <td>gKU Wertachkliniken</td>\n",
       "      <td>Schwabmünchen</td>\n",
       "      <td>2</td>\n",
       "      <td>Gemeinsames Kommunalunternehmen</td>\n",
       "      <td>2</td>\n",
       "      <td>132</td>\n",
       "      <td>2015</td>\n",
       "    </tr>\n",
       "    <tr>\n",
       "      <th>1401</th>\n",
       "      <td>9</td>\n",
       "      <td>564</td>\n",
       "      <td>0</td>\n",
       "      <td>Wallenstein Klinik GmbH</td>\n",
       "      <td>Nürnberg</td>\n",
       "      <td>5</td>\n",
       "      <td>Wallenstein Klinik GmbH</td>\n",
       "      <td>4</td>\n",
       "      <td>6</td>\n",
       "      <td>2015</td>\n",
       "    </tr>\n",
       "    <tr>\n",
       "      <th>329</th>\n",
       "      <td>5</td>\n",
       "      <td>111</td>\n",
       "      <td>0</td>\n",
       "      <td>Medical Center Düsseldorf</td>\n",
       "      <td>Düsseldorf</td>\n",
       "      <td>5</td>\n",
       "      <td>TG Grand Arc Träger-</td>\n",
       "      <td>3</td>\n",
       "      <td>41</td>\n",
       "      <td>2015</td>\n",
       "    </tr>\n",
       "  </tbody>\n",
       "</table>\n",
       "</div>"
      ],
      "text/plain": [
       "      Land  Kreis  Gemeinde                      Name1            Ort  \\\n",
       "1477     9    772       200        gKU Wertachkliniken  Schwabmünchen   \n",
       "1401     9    564         0    Wallenstein Klinik GmbH       Nürnberg   \n",
       "329      5    111         0  Medical Center Düsseldorf     Düsseldorf   \n",
       "\n",
       "      Traeger                          T_Name1  Art Betten_Ins  Jahr  \n",
       "1477        2  Gemeinsames Kommunalunternehmen    2        132  2015  \n",
       "1401        5          Wallenstein Klinik GmbH    4          6  2015  \n",
       "329         5             TG Grand Arc Träger-    3         41  2015  "
      ]
     },
     "execution_count": 15,
     "metadata": {},
     "output_type": "execute_result"
    }
   ],
   "source": [
    "df_2015.sample(3)"
   ]
  },
  {
   "cell_type": "markdown",
   "metadata": {},
   "source": [
    "### Übung"
   ]
  },
  {
   "cell_type": "markdown",
   "metadata": {},
   "source": [
    "### Welche journalistischen Fragen habt ihr an den Datensatz?\n",
    "\n",
    "Manchmal hilft es, einen Datensatz zu befragen, wie man eine Interview-Partner*in befragt\n",
    "\n",
    "Welche Fragen habt ihr an den Krankenhäuser-Datensatz? "
   ]
  },
  {
   "cell_type": "markdown",
   "metadata": {},
   "source": [
    "#### Fragen gesamt und NRW:\n",
    "\n",
    "- wieviele Kliniken je Träger gibt es?\n",
    "- wer sind die größten Klinikbetreiber?\n",
    "- wieviele Unikliniken sind Privat?\n",
    "- wieviele Betten privat und öffentlich?\n",
    "\n",
    "#### Ländervergleich:\n",
    "\n",
    "- meiste private Träger? \n",
    "- Karte: Cluster mit privaten?\n",
    "- Betten/Einwohner\n",
    "- Ost/West Vergleich"
   ]
  },
  {
   "cell_type": "markdown",
   "metadata": {},
   "source": [
    "## Richtig spannend ist der Zeitverlauf"
   ]
  },
  {
   "cell_type": "markdown",
   "metadata": {},
   "source": [
    "Um einen großen Datensatz zu erzeugen, der Veränderungen über die Jahre preisgibt, müssen wir mehrere Jahre einlesen. \n",
    "Problem oft: Je älter die Daten werden, desto größer die Wahrscheinlichkeit, dass sich die Datensätze über die Jahre verändert haben.\n"
   ]
  },
  {
   "cell_type": "markdown",
   "metadata": {},
   "source": [
    "Wenn alle .xls-Dateien gleich aufgebaut wären, könnten wir eine Funktion schreiben, die alle Datensätze einliest und miteinander verknüpft."
   ]
  },
  {
   "cell_type": "markdown",
   "metadata": {},
   "source": [
    "Schau dir unter ./data mal die 'KHV_' - Dateien an:\n",
    "\n",
    "- alle beginnen mit 'KHV_', gefolgt vom Jahr\n",
    "- es gibt drei verschiedene Formate .xls, .XLS, .xlsx\n",
    "- 1992 heißt das Datenblatt nach dem wir suchen 'KHV'\n",
    "- 1995 heißt es KH\n",
    "- 2003 bis 2005 gibt es ein Datenblatt 'KHV', immer als 5. Blatt im Dokument\n",
    "- 2015 heißt das Datenblatt 'KHV_2015' und ist ebenfalls das 5. Blatt im Dokument"
   ]
  },
  {
   "cell_type": "markdown",
   "metadata": {},
   "source": [
    "### Die Rohdaten sind lava!\n",
    "Die Versuchung ist groß, mal eben die Ungleichheiten händisch in den Excel-Files zu bereinigen.\n",
    "Diese Änderungen würden aber unsere Datenquelle verändern und wären nicht dokumentiert, also schwer wiederholbar für die Abnahme oder auch für die Leser*innen."
   ]
  },
  {
   "cell_type": "markdown",
   "metadata": {},
   "source": [
    "Entsprechend wählen wir einen halbautomatisierten, dokumentierten Weg im Jupyter Notebook:"
   ]
  },
  {
   "cell_type": "markdown",
   "metadata": {},
   "source": [
    "### Nice to know"
   ]
  },
  {
   "cell_type": "markdown",
   "metadata": {},
   "source": [
    "Um auf das Dinge im Betriebssystem zuzugreifen, gibt es das Python Modul `os`"
   ]
  },
  {
   "cell_type": "code",
   "execution_count": 6,
   "metadata": {},
   "outputs": [],
   "source": [
    "import os"
   ]
  },
  {
   "cell_type": "code",
   "execution_count": 7,
   "metadata": {},
   "outputs": [
    {
     "data": {
      "text/plain": [
       "['12611-0001_flat.csv',\n",
       " 'KHV_2003.xls',\n",
       " 'bearb_eheschliessungen.csv',\n",
       " 'KHV_2015.xlsx',\n",
       " 'fictional_persons.json',\n",
       " 'datenguide-export-Statistik-der-Kaufwerte-für-Bauland-Nordrhein-Westfalen.json',\n",
       " '12511-0007_flat.csv',\n",
       " 'meine_habil.csv',\n",
       " 'KHV_2004.xls',\n",
       " 'nrw_data.json',\n",
       " 'durchschnittsalter_nrw_gemeinden.csv',\n",
       " 'KHV_2005.xls',\n",
       " 'datenguide-export-Statistik-der-Kaufwerte-für-Bauland-Nordrhein-Westfalen.csv',\n",
       " 'nrw_gemeinden.json',\n",
       " 'KHV_1992.xls',\n",
       " 'habil.csv',\n",
       " '.~lock.KHV_1995.XLS#',\n",
       " 'jannes.json',\n",
       " 'KHV_1995.XLS',\n",
       " '.ipynb_checkpoints',\n",
       " '21351-0002_flat.csv',\n",
       " '61511-01-03-4.csv',\n",
       " 'eheschliessungen.csv',\n",
       " 'umfrage_schulleiter.csv']"
      ]
     },
     "execution_count": 7,
     "metadata": {},
     "output_type": "execute_result"
    }
   ],
   "source": [
    "# Alle Dateien anzeigen, die im Ordner 'data' liegen\n",
    "path = './data'\n",
    "files = os.listdir(path)\n",
    "files"
   ]
  },
  {
   "cell_type": "markdown",
   "metadata": {},
   "source": [
    "Um Dateien nach Mustern zu durchsuchen, gibt es das Python Modul `glob`"
   ]
  },
  {
   "cell_type": "code",
   "execution_count": 8,
   "metadata": {},
   "outputs": [],
   "source": [
    "from glob import glob"
   ]
  },
  {
   "cell_type": "code",
   "execution_count": 10,
   "metadata": {},
   "outputs": [
    {
     "data": {
      "text/plain": [
       "['./data/KHV_1992.xls',\n",
       " './data/KHV_1995.XLS',\n",
       " './data/KHV_2003.xls',\n",
       " './data/KHV_2004.xls',\n",
       " './data/KHV_2005.xls',\n",
       " './data/KHV_2015.xlsx']"
      ]
     },
     "execution_count": 10,
     "metadata": {},
     "output_type": "execute_result"
    }
   ],
   "source": [
    "# Die Dateien in einer Liste speichern, die mit 'KHV_' anfangen, das Sternchen ersetzt beliebige Zeichen\n",
    "files_xls = glob('./data/KHV_*')\n",
    "files_xls.sort()\n",
    "files_xls"
   ]
  },
  {
   "cell_type": "markdown",
   "metadata": {},
   "source": [
    " Mithilfe dieser Dateiliste könnten wir jetzt unsere Funktion schreiben, die jede Datei durchläuft und die entsprechend bereinigten dataframes anlegt. Da die Dateien aber kleine Unterschiede aufweisen, gehen wir jahrweise vor:"
   ]
  },
  {
   "cell_type": "markdown",
   "metadata": {},
   "source": [
    "#### 1992"
   ]
  },
  {
   "cell_type": "code",
   "execution_count": 14,
   "metadata": {},
   "outputs": [],
   "source": [
    "df_1992 = pd.read_excel('./data/KHV_1992.xls', dtype='object')"
   ]
  },
  {
   "cell_type": "code",
   "execution_count": 15,
   "metadata": {},
   "outputs": [
    {
     "data": {
      "text/html": [
       "<div>\n",
       "<style scoped>\n",
       "    .dataframe tbody tr th:only-of-type {\n",
       "        vertical-align: middle;\n",
       "    }\n",
       "\n",
       "    .dataframe tbody tr th {\n",
       "        vertical-align: top;\n",
       "    }\n",
       "\n",
       "    .dataframe thead th {\n",
       "        text-align: right;\n",
       "    }\n",
       "</style>\n",
       "<table border=\"1\" class=\"dataframe\">\n",
       "  <thead>\n",
       "    <tr style=\"text-align: right;\">\n",
       "      <th></th>\n",
       "      <th>LAND</th>\n",
       "      <th>REGBEZ</th>\n",
       "      <th>KREIS</th>\n",
       "      <th>GEMEINDE</th>\n",
       "      <th>NAME1</th>\n",
       "      <th>NAME2</th>\n",
       "      <th>NAME3</th>\n",
       "      <th>NAME4</th>\n",
       "      <th>STRASSE</th>\n",
       "      <th>PLZ</th>\n",
       "      <th>ORT</th>\n",
       "      <th>TELEFON</th>\n",
       "      <th>TRAEGER</th>\n",
       "      <th>NAMET1</th>\n",
       "      <th>NAMET2</th>\n",
       "      <th>NAMET3</th>\n",
       "      <th>NAMET4</th>\n",
       "      <th>ART</th>\n",
       "      <th>BETTEN_P</th>\n",
       "      <th>BETTEN_I</th>\n",
       "      <th>AUGEN_P</th>\n",
       "      <th>AUGEN_I</th>\n",
       "      <th>CHIR_P</th>\n",
       "      <th>CHIR_I</th>\n",
       "      <th>C_GEF_P</th>\n",
       "      <th>...</th>\n",
       "      <th>NEUROL_I</th>\n",
       "      <th>NUKLEAR_</th>\n",
       "      <th>NUKLEAR3</th>\n",
       "      <th>ORTH_P</th>\n",
       "      <th>ORTH_I</th>\n",
       "      <th>O_RHEU_P</th>\n",
       "      <th>O_RHEU_I</th>\n",
       "      <th>PSYCH_P</th>\n",
       "      <th>PSYCH_I</th>\n",
       "      <th>P_SUCHT_</th>\n",
       "      <th>P_SUCHT4</th>\n",
       "      <th>PSYSOM_P</th>\n",
       "      <th>PSYSOM_I</th>\n",
       "      <th>STRAHL_P</th>\n",
       "      <th>STRAHL_I</th>\n",
       "      <th>UROL_P</th>\n",
       "      <th>UROL_I</th>\n",
       "      <th>SONST_P</th>\n",
       "      <th>SONST_I</th>\n",
       "      <th>TN_GER</th>\n",
       "      <th>TN_KJPSY</th>\n",
       "      <th>TN_PSYCH</th>\n",
       "      <th>TN_PSYSO</th>\n",
       "      <th>TN_SONST</th>\n",
       "      <th>TN_SUM</th>\n",
       "    </tr>\n",
       "  </thead>\n",
       "  <tbody>\n",
       "    <tr>\n",
       "      <th>1227</th>\n",
       "      <td>08</td>\n",
       "      <td>1</td>\n",
       "      <td>21</td>\n",
       "      <td>000</td>\n",
       "      <td>St„dtisches Krankenhaus</td>\n",
       "      <td>Heilbronn</td>\n",
       "      <td>NaN</td>\n",
       "      <td>NaN</td>\n",
       "      <td>Am Gesundbrunnen 20</td>\n",
       "      <td>74078</td>\n",
       "      <td>Heilbronn</td>\n",
       "      <td>(07131)-490</td>\n",
       "      <td>1</td>\n",
       "      <td>Stadt Heilbronn</td>\n",
       "      <td>NaN</td>\n",
       "      <td>NaN</td>\n",
       "      <td>NaN</td>\n",
       "      <td>2</td>\n",
       "      <td>799</td>\n",
       "      <td>796</td>\n",
       "      <td>35</td>\n",
       "      <td>35</td>\n",
       "      <td>180</td>\n",
       "      <td>176</td>\n",
       "      <td>0</td>\n",
       "      <td>...</td>\n",
       "      <td>0</td>\n",
       "      <td>15</td>\n",
       "      <td>16</td>\n",
       "      <td>0</td>\n",
       "      <td>0</td>\n",
       "      <td>0</td>\n",
       "      <td>0</td>\n",
       "      <td>0</td>\n",
       "      <td>0</td>\n",
       "      <td>0</td>\n",
       "      <td>0</td>\n",
       "      <td>0</td>\n",
       "      <td>0</td>\n",
       "      <td>0</td>\n",
       "      <td>0</td>\n",
       "      <td>40</td>\n",
       "      <td>40</td>\n",
       "      <td>0</td>\n",
       "      <td>0</td>\n",
       "      <td>0</td>\n",
       "      <td>0</td>\n",
       "      <td>0</td>\n",
       "      <td>0</td>\n",
       "      <td>0</td>\n",
       "      <td>0</td>\n",
       "    </tr>\n",
       "  </tbody>\n",
       "</table>\n",
       "<p>1 rows × 96 columns</p>\n",
       "</div>"
      ],
      "text/plain": [
       "     LAND REGBEZ KREIS GEMEINDE                    NAME1      NAME2 NAME3  \\\n",
       "1227   08      1    21      000  St„dtisches Krankenhaus  Heilbronn   NaN   \n",
       "\n",
       "     NAME4              STRASSE    PLZ        ORT      TELEFON TRAEGER  \\\n",
       "1227   NaN  Am Gesundbrunnen 20  74078  Heilbronn  (07131)-490       1   \n",
       "\n",
       "               NAMET1 NAMET2 NAMET3 NAMET4 ART BETTEN_P BETTEN_I AUGEN_P  \\\n",
       "1227  Stadt Heilbronn    NaN    NaN    NaN   2      799      796      35   \n",
       "\n",
       "     AUGEN_I CHIR_P CHIR_I C_GEF_P  ... NEUROL_I NUKLEAR_ NUKLEAR3 ORTH_P  \\\n",
       "1227      35    180    176       0  ...        0       15       16      0   \n",
       "\n",
       "     ORTH_I O_RHEU_P O_RHEU_I PSYCH_P PSYCH_I P_SUCHT_ P_SUCHT4 PSYSOM_P  \\\n",
       "1227      0        0        0       0       0        0        0        0   \n",
       "\n",
       "     PSYSOM_I STRAHL_P STRAHL_I UROL_P UROL_I SONST_P SONST_I TN_GER TN_KJPSY  \\\n",
       "1227        0        0        0     40     40       0       0      0        0   \n",
       "\n",
       "     TN_PSYCH TN_PSYSO TN_SONST TN_SUM  \n",
       "1227        0        0        0      0  \n",
       "\n",
       "[1 rows x 96 columns]"
      ]
     },
     "execution_count": 15,
     "metadata": {},
     "output_type": "execute_result"
    }
   ],
   "source": [
    "df_1992.sample()"
   ]
  },
  {
   "cell_type": "code",
   "execution_count": 16,
   "metadata": {},
   "outputs": [
    {
     "data": {
      "text/plain": [
       "Index(['LAND', 'REGBEZ', 'KREIS', 'GEMEINDE', 'NAME1', 'NAME2', 'NAME3',\n",
       "       'NAME4', 'STRASSE', 'PLZ', 'ORT', 'TELEFON', 'TRAEGER', 'NAMET1',\n",
       "       'NAMET2', 'NAMET3', 'NAMET4', 'ART', 'BETTEN_P', 'BETTEN_I', 'AUGEN_P',\n",
       "       'AUGEN_I', 'CHIR_P', 'CHIR_I', 'C_GEF_P', 'C_GEF_I', 'C_KIN_P',\n",
       "       'C_KIN_I', 'C_PLA_P', 'C_PLA_I', 'C_THOR_P', 'C_THOR_I', 'C_UNF_P',\n",
       "       'C_UNF_I', 'FRAUEN_P', 'FRAUEN_I', 'F_FRAU_P', 'F_FRAU_I', 'F_GEBURT',\n",
       "       'F_GEBUR0', 'HNO_P', 'HNO_I', 'HUG_P', 'HUG_I', 'INNERE_P', 'INNERE_I',\n",
       "       'I_ENDO_P', 'I_ENDO_I', 'I_GAST_P', 'I_GAST_I', 'I_HAEM_P', 'I_HAEM_I',\n",
       "       'I_KARD_P', 'I_KARD_I', 'I_LUB_P', 'I_LUB_I', 'I_NEPH_P', 'I_NEPH_I',\n",
       "       'I_RHEUM_', 'I_RHEUM1', 'I_GER_P', 'I_GER_I', 'KINDER_P', 'KINDER_I',\n",
       "       'KJPSYCH_', 'KJPSYCH2', 'MKG_P', 'MKG_I', 'NEURCH_P', 'NEURCH_I',\n",
       "       'NEUROL_P', 'NEUROL_I', 'NUKLEAR_', 'NUKLEAR3', 'ORTH_P', 'ORTH_I',\n",
       "       'O_RHEU_P', 'O_RHEU_I', 'PSYCH_P', 'PSYCH_I', 'P_SUCHT_', 'P_SUCHT4',\n",
       "       'PSYSOM_P', 'PSYSOM_I', 'STRAHL_P', 'STRAHL_I', 'UROL_P', 'UROL_I',\n",
       "       'SONST_P', 'SONST_I', 'TN_GER', 'TN_KJPSY', 'TN_PSYCH', 'TN_PSYSO',\n",
       "       'TN_SONST', 'TN_SUM'],\n",
       "      dtype='object')"
      ]
     },
     "execution_count": 16,
     "metadata": {},
     "output_type": "execute_result"
    }
   ],
   "source": [
    "df_1992.columns"
   ]
  },
  {
   "cell_type": "code",
   "execution_count": 17,
   "metadata": {},
   "outputs": [],
   "source": [
    "# Spalten so umbenennen, das sie dem Standard der späteren Jahre entsprechen\n",
    "df_1992 = df_1992.rename(columns={'LAND': 'Land', 'KREIS': 'Kreis', 'GEMEINDE': 'Gemeinde', 'NAME1': 'Name1', 'ORT': 'Ort', 'TRAEGER': 'Traeger', 'NAMET1': 'T_Name1', 'ART':'Art', 'BETTEN_I': 'Betten_Ins'})"
   ]
  },
  {
   "cell_type": "code",
   "execution_count": 18,
   "metadata": {},
   "outputs": [],
   "source": [
    "# Benötigte Spalten auswählen\n",
    "df_1992 = df_1992[['Land', 'Kreis', 'Gemeinde', 'Name1', 'Ort', 'Traeger', 'T_Name1', 'Art', 'Betten_Ins']]"
   ]
  },
  {
   "cell_type": "markdown",
   "metadata": {},
   "source": [
    "Es fehlt noch eine Spalte 'Jahr', in der das jeweilige Jahr aus dem Dateinamen eingetragen wird."
   ]
  },
  {
   "cell_type": "markdown",
   "metadata": {},
   "source": [
    "### Muster erkennen mit regulären Ausdrücken"
   ]
  },
  {
   "cell_type": "markdown",
   "metadata": {},
   "source": [
    "Die Jahre können wir automatisch aus den Zahlen in den Dateinamen auslesen. "
   ]
  },
  {
   "cell_type": "markdown",
   "metadata": {},
   "source": [
    "Das Modul `re` ermöglicht nach regulären Ausdrücken zu suchen: Zum Beispiel alle Zahlen in einem String zu finden. "
   ]
  },
  {
   "cell_type": "code",
   "execution_count": 22,
   "metadata": {},
   "outputs": [],
   "source": [
    "import re"
   ]
  },
  {
   "cell_type": "markdown",
   "metadata": {},
   "source": [
    "Beispiele für reguläre Ausdrücke (RegEx):\n",
    "\n",
    "**Regular Expression Character Classes**\n",
    "\n",
    "| Expression | Explanation |\n",
    "| --- | --- |\n",
    "| [ab-d] | One character of: a, b, c, d |\n",
    "| [^ab-d] | One character except: a, b, c, d |\n",
    "| [\\b] | Backspace character |\n",
    "| \\d | One digit |\n",
    "| \\D | One non-digit |\n",
    "| \\s | One whitespace |\n",
    "| \\S | One non-whitespace |\n",
    "| \\w | One word character |\n",
    "| \\W | One non-word character |\n",
    "\n",
    "**Regular Expression Quantifiers**\n",
    "\n",
    "| Expression | Explanation |\n",
    "| --- | --- |\n",
    "| \\* | 0 or more |\n",
    "| \\+ | 1 or more |\n",
    "| ? | 0 or 1 |\n",
    "| {2} | Exactly 2 |\n",
    "| {2, 5} | Between 2 and 5 |\n",
    "| {2,} | 2 or more |\n",
    "| (,5} | Up to 5 |"
   ]
  },
  {
   "cell_type": "code",
   "execution_count": 23,
   "metadata": {},
   "outputs": [],
   "source": [
    "teststring = 'KHV_1992.xls'"
   ]
  },
  {
   "cell_type": "code",
   "execution_count": 29,
   "metadata": {},
   "outputs": [
    {
     "data": {
      "text/plain": [
       "'1992'"
      ]
     },
     "execution_count": 29,
     "metadata": {},
     "output_type": "execute_result"
    }
   ],
   "source": [
    "# Mit (\\d) findest Du Zahlen in deinem Teststring, das + gibt an, dass wir mehr als eine Zahl suchen.\n",
    "re.search(r'\\d+', teststring).group()"
   ]
  },
  {
   "cell_type": "code",
   "execution_count": 30,
   "metadata": {},
   "outputs": [],
   "source": [
    "# Damit wir nochher mehrere Excel-Dateien auf einmal verarbeiten können, schreiben wir eine Funktion, die jeweils das Jahr zurückgibt:\n",
    "def get_numbers_from_filename(filename):\n",
    "    return re.search(r'\\d+', filename).group()"
   ]
  },
  {
   "cell_type": "code",
   "execution_count": 31,
   "metadata": {},
   "outputs": [
    {
     "data": {
      "text/plain": [
       "'1992'"
      ]
     },
     "execution_count": 31,
     "metadata": {},
     "output_type": "execute_result"
    }
   ],
   "source": [
    "# Funktion testweise ausführen\n",
    "get_numbers_from_filename(\"KHV_1992.xls\")"
   ]
  },
  {
   "cell_type": "code",
   "execution_count": 32,
   "metadata": {},
   "outputs": [],
   "source": [
    "# Spalte 'Jahr' setzen\n",
    "df_1992[\"Jahr\"] = get_numbers_from_filename(\"KHV_1992.xls\")"
   ]
  },
  {
   "cell_type": "code",
   "execution_count": 33,
   "metadata": {},
   "outputs": [
    {
     "data": {
      "text/html": [
       "<div>\n",
       "<style scoped>\n",
       "    .dataframe tbody tr th:only-of-type {\n",
       "        vertical-align: middle;\n",
       "    }\n",
       "\n",
       "    .dataframe tbody tr th {\n",
       "        vertical-align: top;\n",
       "    }\n",
       "\n",
       "    .dataframe thead th {\n",
       "        text-align: right;\n",
       "    }\n",
       "</style>\n",
       "<table border=\"1\" class=\"dataframe\">\n",
       "  <thead>\n",
       "    <tr style=\"text-align: right;\">\n",
       "      <th></th>\n",
       "      <th>Land</th>\n",
       "      <th>Kreis</th>\n",
       "      <th>Gemeinde</th>\n",
       "      <th>Name1</th>\n",
       "      <th>Ort</th>\n",
       "      <th>Traeger</th>\n",
       "      <th>T_Name1</th>\n",
       "      <th>Art</th>\n",
       "      <th>Betten_Ins</th>\n",
       "      <th>Jahr</th>\n",
       "    </tr>\n",
       "  </thead>\n",
       "  <tbody>\n",
       "    <tr>\n",
       "      <th>1792</th>\n",
       "      <td>09</td>\n",
       "      <td>77</td>\n",
       "      <td>177</td>\n",
       "      <td>Kreiskrankenhaus</td>\n",
       "      <td>Weiáenburg</td>\n",
       "      <td>1</td>\n",
       "      <td>Landkreis</td>\n",
       "      <td>2</td>\n",
       "      <td>205</td>\n",
       "      <td>1992</td>\n",
       "    </tr>\n",
       "  </tbody>\n",
       "</table>\n",
       "</div>"
      ],
      "text/plain": [
       "     Land Kreis Gemeinde             Name1         Ort Traeger    T_Name1 Art  \\\n",
       "1792   09    77      177  Kreiskrankenhaus  Weiáenburg       1  Landkreis   2   \n",
       "\n",
       "     Betten_Ins  Jahr  \n",
       "1792        205  1992  "
      ]
     },
     "execution_count": 33,
     "metadata": {},
     "output_type": "execute_result"
    }
   ],
   "source": [
    "df_1992.sample()"
   ]
  },
  {
   "cell_type": "markdown",
   "metadata": {},
   "source": [
    "### 1995"
   ]
  },
  {
   "cell_type": "markdown",
   "metadata": {},
   "source": [
    "Für 1995 müssen wir ähnliche, aber leider nicht exakt dieselben Schritte ausführen:"
   ]
  },
  {
   "cell_type": "code",
   "execution_count": 49,
   "metadata": {},
   "outputs": [],
   "source": [
    "# Einlesen, diesmal mit sheet_name, da das Blatt, welches wir haben wollen, nicht das erste ist. \n",
    "df_1995 = pd.read_excel('./data/KHV_1995.XLS', sheet_name='KH', dtype='object')"
   ]
  },
  {
   "cell_type": "code",
   "execution_count": 34,
   "metadata": {},
   "outputs": [],
   "source": [
    "# Spalten so umbenennen, das sie dem Standard der späteren Jahre entsprechen\n",
    "df_1995 = df_1995.rename(columns={'LAND': 'Land', 'KREIS': 'Kreis', 'GEMEINDE': 'Gemeinde', 'NAME1': 'Name1', 'ORT': 'Ort', 'TRAEGER': 'Traeger', 'NAMET1': 'T_Name1', 'ART':'Art', 'BETTEN_I': 'Betten_Ins'})"
   ]
  },
  {
   "cell_type": "code",
   "execution_count": 35,
   "metadata": {},
   "outputs": [],
   "source": [
    "# Benötigte Spalten auswählen\n",
    "df_1995 = df_1995[['Land', 'Kreis', 'Gemeinde', 'Name1', 'Ort', 'Traeger', 'T_Name1', 'Art', 'Betten_Ins']]"
   ]
  },
  {
   "cell_type": "code",
   "execution_count": 36,
   "metadata": {},
   "outputs": [],
   "source": [
    "# Jahr\n",
    "df_1995[\"Jahr\"] = get_numbers_from_filename(\"KHV_1995.XLS\")"
   ]
  },
  {
   "cell_type": "code",
   "execution_count": 37,
   "metadata": {},
   "outputs": [
    {
     "data": {
      "text/html": [
       "<div>\n",
       "<style scoped>\n",
       "    .dataframe tbody tr th:only-of-type {\n",
       "        vertical-align: middle;\n",
       "    }\n",
       "\n",
       "    .dataframe tbody tr th {\n",
       "        vertical-align: top;\n",
       "    }\n",
       "\n",
       "    .dataframe thead th {\n",
       "        text-align: right;\n",
       "    }\n",
       "</style>\n",
       "<table border=\"1\" class=\"dataframe\">\n",
       "  <thead>\n",
       "    <tr style=\"text-align: right;\">\n",
       "      <th></th>\n",
       "      <th>Land</th>\n",
       "      <th>Kreis</th>\n",
       "      <th>Gemeinde</th>\n",
       "      <th>Name1</th>\n",
       "      <th>Ort</th>\n",
       "      <th>Traeger</th>\n",
       "      <th>T_Name1</th>\n",
       "      <th>Art</th>\n",
       "      <th>Betten_Ins</th>\n",
       "      <th>Jahr</th>\n",
       "    </tr>\n",
       "  </thead>\n",
       "  <tbody>\n",
       "    <tr>\n",
       "      <th>1367</th>\n",
       "      <td>08</td>\n",
       "      <td>27</td>\n",
       "      <td>046</td>\n",
       "      <td>Kreiskrankenhaus Spaichingen</td>\n",
       "      <td>Spaichingen</td>\n",
       "      <td>1</td>\n",
       "      <td>Landkreis Tuttlingen</td>\n",
       "      <td>2</td>\n",
       "      <td>139</td>\n",
       "      <td>1995</td>\n",
       "    </tr>\n",
       "  </tbody>\n",
       "</table>\n",
       "</div>"
      ],
      "text/plain": [
       "     Land Kreis Gemeinde                         Name1          Ort Traeger  \\\n",
       "1367   08    27      046  Kreiskrankenhaus Spaichingen  Spaichingen       1   \n",
       "\n",
       "                   T_Name1 Art Betten_Ins  Jahr  \n",
       "1367  Landkreis Tuttlingen   2        139  1995  "
      ]
     },
     "execution_count": 37,
     "metadata": {},
     "output_type": "execute_result"
    }
   ],
   "source": [
    "df_1995.sample()"
   ]
  },
  {
   "cell_type": "markdown",
   "metadata": {},
   "source": [
    "### 2003 - 2005"
   ]
  },
  {
   "cell_type": "markdown",
   "metadata": {},
   "source": [
    "2003 bis 2005 können wir in einem einlesen "
   ]
  },
  {
   "cell_type": "code",
   "execution_count": 37,
   "metadata": {},
   "outputs": [],
   "source": [
    "filenames = [\n",
    " './data/KHV_2003.xls',\n",
    " './data/KHV_2004.xls',\n",
    " './data/KHV_2005.xls',]"
   ]
  },
  {
   "cell_type": "code",
   "execution_count": 38,
   "metadata": {},
   "outputs": [],
   "source": [
    "df_from_each_file = []\n",
    "\n",
    "for file in filenames:\n",
    "    data = pd.read_excel(file, sheet_name=4, dtype='object')\n",
    "    data[\"Jahr\"] = get_numbers_from_filename(file)\n",
    "    data = data[['Land', 'Kreis', 'Gemeinde', 'Name1', 'Ort', 'Traeger', 'T_Name1', 'Art', 'Betten_Ins', 'Jahr']]\n",
    "    df_from_each_file.append(data)"
   ]
  },
  {
   "cell_type": "markdown",
   "metadata": {},
   "source": [
    "Hast Du gemerkt, dass wir diesmal 'sheet_name=4' gesetzt haben?\n",
    "Das suchst das 5. Datenblatt heraus, denn Python fängt mit dem Zählen bei 0 an."
   ]
  },
  {
   "cell_type": "markdown",
   "metadata": {},
   "source": [
    "Um die DataFrames zu verknüpfen nutzen wir `pd.concat`. Die Funktion nimmt eine Liste von Dataframes und klebt sie untereinander. Das funktioniert aber nur dann gut, wenn die Spaltennamen übereinstimmen."
   ]
  },
  {
   "cell_type": "code",
   "execution_count": 39,
   "metadata": {},
   "outputs": [],
   "source": [
    "df_2003_2005 = pd.concat(df_from_each_file, ignore_index=True)"
   ]
  },
  {
   "cell_type": "code",
   "execution_count": 40,
   "metadata": {},
   "outputs": [
    {
     "data": {
      "text/html": [
       "<div>\n",
       "<style scoped>\n",
       "    .dataframe tbody tr th:only-of-type {\n",
       "        vertical-align: middle;\n",
       "    }\n",
       "\n",
       "    .dataframe tbody tr th {\n",
       "        vertical-align: top;\n",
       "    }\n",
       "\n",
       "    .dataframe thead th {\n",
       "        text-align: right;\n",
       "    }\n",
       "</style>\n",
       "<table border=\"1\" class=\"dataframe\">\n",
       "  <thead>\n",
       "    <tr style=\"text-align: right;\">\n",
       "      <th></th>\n",
       "      <th>Land</th>\n",
       "      <th>Kreis</th>\n",
       "      <th>Gemeinde</th>\n",
       "      <th>Name1</th>\n",
       "      <th>Ort</th>\n",
       "      <th>Traeger</th>\n",
       "      <th>T_Name1</th>\n",
       "      <th>Art</th>\n",
       "      <th>Betten_Ins</th>\n",
       "      <th>Jahr</th>\n",
       "    </tr>\n",
       "  </thead>\n",
       "  <tbody>\n",
       "    <tr>\n",
       "      <th>45</th>\n",
       "      <td>01</td>\n",
       "      <td>055</td>\n",
       "      <td>012</td>\n",
       "      <td>Ostholstein Klinik Eutin</td>\n",
       "      <td>Eutin</td>\n",
       "      <td>3</td>\n",
       "      <td>Ostholstein Kliniken GmbH</td>\n",
       "      <td>2</td>\n",
       "      <td>235</td>\n",
       "      <td>2003</td>\n",
       "    </tr>\n",
       "  </tbody>\n",
       "</table>\n",
       "</div>"
      ],
      "text/plain": [
       "   Land Kreis Gemeinde                     Name1    Ort Traeger  \\\n",
       "45   01   055      012  Ostholstein Klinik Eutin  Eutin       3   \n",
       "\n",
       "                      T_Name1 Art Betten_Ins  Jahr  \n",
       "45  Ostholstein Kliniken GmbH   2        235  2003  "
      ]
     },
     "execution_count": 40,
     "metadata": {},
     "output_type": "execute_result"
    }
   ],
   "source": [
    "df_2003_2005.sample()"
   ]
  },
  {
   "cell_type": "code",
   "execution_count": 41,
   "metadata": {},
   "outputs": [
    {
     "data": {
      "text/plain": [
       "6369"
      ]
     },
     "execution_count": 41,
     "metadata": {},
     "output_type": "execute_result"
    }
   ],
   "source": [
    "# Immerhin 6369 Zeilen in einem eingelesen \n",
    "len(df_2003_2005)"
   ]
  },
  {
   "cell_type": "markdown",
   "metadata": {},
   "source": [
    "### Jetzt bringen wir alles zusammen"
   ]
  },
  {
   "cell_type": "code",
   "execution_count": 42,
   "metadata": {},
   "outputs": [
    {
     "ename": "NameError",
     "evalue": "name 'df_1995' is not defined",
     "output_type": "error",
     "traceback": [
      "\u001b[0;31m---------------------------------------------------------------------------\u001b[0m",
      "\u001b[0;31mNameError\u001b[0m                                 Traceback (most recent call last)",
      "\u001b[0;32m<ipython-input-42-28b38c91102a>\u001b[0m in \u001b[0;36m<module>\u001b[0;34m\u001b[0m\n\u001b[0;32m----> 1\u001b[0;31m \u001b[0mdfs\u001b[0m \u001b[0;34m=\u001b[0m \u001b[0;34m[\u001b[0m\u001b[0mdf_1992\u001b[0m\u001b[0;34m,\u001b[0m \u001b[0mdf_1995\u001b[0m\u001b[0;34m,\u001b[0m \u001b[0mdf_2003_2005\u001b[0m\u001b[0;34m,\u001b[0m \u001b[0mdf_2015\u001b[0m\u001b[0;34m]\u001b[0m\u001b[0;34m\u001b[0m\u001b[0;34m\u001b[0m\u001b[0m\n\u001b[0m",
      "\u001b[0;31mNameError\u001b[0m: name 'df_1995' is not defined"
     ]
    }
   ],
   "source": [
    "dfs = [df_1992, df_1995, df_2003_2005, df_2015]"
   ]
  },
  {
   "cell_type": "code",
   "execution_count": 43,
   "metadata": {},
   "outputs": [
    {
     "ename": "NameError",
     "evalue": "name 'dfs' is not defined",
     "output_type": "error",
     "traceback": [
      "\u001b[0;31m---------------------------------------------------------------------------\u001b[0m",
      "\u001b[0;31mNameError\u001b[0m                                 Traceback (most recent call last)",
      "\u001b[0;32m<ipython-input-43-4546150cbd5c>\u001b[0m in \u001b[0;36m<module>\u001b[0;34m\u001b[0m\n\u001b[0;32m----> 1\u001b[0;31m \u001b[0mdf\u001b[0m \u001b[0;34m=\u001b[0m \u001b[0mpd\u001b[0m\u001b[0;34m.\u001b[0m\u001b[0mconcat\u001b[0m\u001b[0;34m(\u001b[0m\u001b[0mdfs\u001b[0m\u001b[0;34m,\u001b[0m \u001b[0mignore_index\u001b[0m\u001b[0;34m=\u001b[0m\u001b[0;32mTrue\u001b[0m\u001b[0;34m)\u001b[0m\u001b[0;34m\u001b[0m\u001b[0;34m\u001b[0m\u001b[0m\n\u001b[0m",
      "\u001b[0;31mNameError\u001b[0m: name 'dfs' is not defined"
     ]
    }
   ],
   "source": [
    "df = pd.concat(dfs, ignore_index=True)"
   ]
  },
  {
   "cell_type": "code",
   "execution_count": 44,
   "metadata": {},
   "outputs": [
    {
     "ename": "NameError",
     "evalue": "name 'df' is not defined",
     "output_type": "error",
     "traceback": [
      "\u001b[0;31m---------------------------------------------------------------------------\u001b[0m",
      "\u001b[0;31mNameError\u001b[0m                                 Traceback (most recent call last)",
      "\u001b[0;32m<ipython-input-44-633337079cd0>\u001b[0m in \u001b[0;36m<module>\u001b[0;34m\u001b[0m\n\u001b[0;32m----> 1\u001b[0;31m \u001b[0mdf\u001b[0m\u001b[0;34m.\u001b[0m\u001b[0mshape\u001b[0m\u001b[0;34m\u001b[0m\u001b[0;34m\u001b[0m\u001b[0m\n\u001b[0m",
      "\u001b[0;31mNameError\u001b[0m: name 'df' is not defined"
     ]
    }
   ],
   "source": [
    "df.shape"
   ]
  },
  {
   "cell_type": "code",
   "execution_count": 45,
   "metadata": {},
   "outputs": [
    {
     "ename": "NameError",
     "evalue": "name 'df' is not defined",
     "output_type": "error",
     "traceback": [
      "\u001b[0;31m---------------------------------------------------------------------------\u001b[0m",
      "\u001b[0;31mNameError\u001b[0m                                 Traceback (most recent call last)",
      "\u001b[0;32m<ipython-input-45-38b0ab1240ac>\u001b[0m in \u001b[0;36m<module>\u001b[0;34m\u001b[0m\n\u001b[0;32m----> 1\u001b[0;31m \u001b[0mdf\u001b[0m\u001b[0;34m.\u001b[0m\u001b[0msample\u001b[0m\u001b[0;34m(\u001b[0m\u001b[0;34m)\u001b[0m\u001b[0;34m\u001b[0m\u001b[0;34m\u001b[0m\u001b[0m\n\u001b[0m",
      "\u001b[0;31mNameError\u001b[0m: name 'df' is not defined"
     ]
    }
   ],
   "source": [
    "df.sample()"
   ]
  },
  {
   "cell_type": "code",
   "execution_count": null,
   "metadata": {},
   "outputs": [],
   "source": []
  }
 ],
 "metadata": {
  "kernelspec": {
   "display_name": "Python 3",
   "language": "python",
   "name": "python3"
  },
  "language_info": {
   "codemirror_mode": {
    "name": "ipython",
    "version": 3
   },
   "file_extension": ".py",
   "mimetype": "text/x-python",
   "name": "python",
   "nbconvert_exporter": "python",
   "pygments_lexer": "ipython3",
   "version": "3.6.9"
  }
 },
 "nbformat": 4,
 "nbformat_minor": 4
}
