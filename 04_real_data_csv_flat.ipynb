{
 "cells": [
  {
   "cell_type": "markdown",
   "metadata": {},
   "source": [
    "## Real data"
   ]
  },
  {
   "cell_type": "markdown",
   "metadata": {},
   "source": [
    "Die Daten im Notebook 03_data.ipynb habe ich für euch vorbereitet. \n",
    "Leider begegnen uns Daten in den meisten Fällen nicht so schön maschinenlesbar. \n",
    "Die Wahrheit ist: Da draußen ist der Daten-Dschungel und es ist gar nicht so einfach das, was wir brauchen, da rauszuziehen. \n",
    "\n",
    "**So findest du die bittere Wahrheit heraus** \n",
    "- Gehe auf [https://www-genesis.destatis.de/] \n",
    "- suche nach 'Durchschnittsalter der habilitierten Personen'. \n",
    "- Dann auf 'Werteabruf' und die Tabelle bitte als 'Flat' in ./data abspeichern."
   ]
  },
  {
   "cell_type": "code",
   "execution_count": null,
   "metadata": {},
   "outputs": [],
   "source": [
    "import pandas as pd\n",
    "import matplotlib.pyplot as plt\n",
    "\n",
    "pd.options.display.max_rows = 999"
   ]
  },
  {
   "cell_type": "code",
   "execution_count": null,
   "metadata": {},
   "outputs": [],
   "source": [
    "df = pd.read_csv('./data/21351-0002_flat.csv')"
   ]
  },
  {
   "cell_type": "markdown",
   "metadata": {},
   "source": [
    "### Huppla - was ist passiert?\n",
    "\n",
    "Schau dir die Tabelle in einem Tabellenprogramm an.\n",
    "Was fällt dir auf?"
   ]
  },
  {
   "cell_type": "markdown",
   "metadata": {},
   "source": [
    "- In deutschen Tabellen wird ';' statt ',' als Trenner für .csvs verwendet\n",
    "- Dafür schreiben wir in Deutschland '42,3' statt '42.3'\n",
    "- In der Tabelle gibt es fehlende Werte, die mit '-'\n",
    "- Oft wird auch nicht das weltweit gebräuchliche 'uft-8' als Zeichenformat verwendet, sondern 'latin-1' oder 'iso-8859-1'"
   ]
  },
  {
   "cell_type": "code",
   "execution_count": null,
   "metadata": {},
   "outputs": [],
   "source": [
    "df = pd.read_csv('./data/21351-0002_flat.csv', sep=';', decimal=',', encoding='latin-1')\n",
    "# sep steht für seperator, also Trennzeichen\n",
    "# decimal soll '42,3' automatisch in '42.3' umwandeln\n",
    "# encoding gibt das Zeichenformat an"
   ]
  },
  {
   "cell_type": "code",
   "execution_count": null,
   "metadata": {},
   "outputs": [],
   "source": [
    "df.head(20)"
   ]
  },
  {
   "cell_type": "markdown",
   "metadata": {},
   "source": [
    "### Puh, das sind viele Spalten!"
   ]
  },
  {
   "cell_type": "code",
   "execution_count": null,
   "metadata": {},
   "outputs": [],
   "source": [
    "# Zeige alle Spalten an \n",
    "df.columns"
   ]
  },
  {
   "cell_type": "code",
   "execution_count": null,
   "metadata": {},
   "outputs": [],
   "source": [
    "# So wählst du aus, welche Spalten du behalten willst\n",
    "df = df[['Statistik_Label', \n",
    "         'Zeit', \n",
    "         '2_Auspraegung_Label',\n",
    "         '3_Auspraegung_Label',\n",
    "         'BIL051__Durchschnittsalter_der_habilitierten_Personen__Jahre']]"
   ]
  },
  {
   "cell_type": "code",
   "execution_count": null,
   "metadata": {},
   "outputs": [],
   "source": [
    "df.head()"
   ]
  },
  {
   "cell_type": "code",
   "execution_count": null,
   "metadata": {},
   "outputs": [],
   "source": [
    "# So kannst du ausgewählte Spalten weglassen \n",
    "df.drop(['Statistik_Label'], axis='columns', inplace=True)"
   ]
  },
  {
   "cell_type": "code",
   "execution_count": null,
   "metadata": {},
   "outputs": [],
   "source": [
    "# So sieht die Tabelle schon übersichtlicher aus\n",
    "df.sample(5)"
   ]
  },
  {
   "cell_type": "markdown",
   "metadata": {},
   "source": [
    "## Daten filtern"
   ]
  },
  {
   "cell_type": "markdown",
   "metadata": {},
   "source": [
    "Wir müssen auswählen, was wir als in der Grafik darstellen wollen. Sagen wir mal uns interessiert besonders, wie sich das Alter bei der Habilitation im Bereich Kunst- und Kunstgeschichte Insgesamt verändert hat:"
   ]
  },
  {
   "cell_type": "code",
   "execution_count": null,
   "metadata": {},
   "outputs": [],
   "source": [
    "# So wählst du den DataFrame aus, wo die Spalte \"2_Ausprägung_Label\" den Wert 'Kunst, Kunstgeschichte' enthält \n",
    "df[(df[\"2_Auspraegung_Label\"] == 'Kunst, Kunstwissenschaft')]"
   ]
  },
  {
   "cell_type": "code",
   "execution_count": null,
   "metadata": {},
   "outputs": [],
   "source": [
    "# Wenn du nur die Daten für 'Insgesamt' auswählen willst\n",
    "df[(df[\"2_Auspraegung_Label\"] == 'Kunst, Kunstwissenschaft') & (df[\"3_Auspraegung_Label\"] == 'Insgesamt')]"
   ]
  },
  {
   "cell_type": "code",
   "execution_count": null,
   "metadata": {},
   "outputs": [],
   "source": [
    "# Wenn du für Kunstgeschichte die Daten für 'männlich' oder 'weiblich' auswählen willst\n",
    "df[(df[\"2_Auspraegung_Label\"] == 'Kunst, Kunstwissenschaft') & ((df[\"3_Auspraegung_Label\"] == 'weiblich') | (df[\"3_Auspraegung_Label\"] =='männlich')) ]"
   ]
  },
  {
   "cell_type": "code",
   "execution_count": null,
   "metadata": {},
   "outputs": [],
   "source": [
    "# Wenn du dir sicher bist, dass das richtige gefiltert wird,kannst du einen neuen DataFrame erzeugen. So bleiben die Ursprungsdaten erhalten.\n",
    "kunst = df[(df[\"2_Auspraegung_Label\"] == 'Kunst, Kunstwissenschaft') & ((df[\"3_Auspraegung_Label\"] == 'weiblich') | (df[\"3_Auspraegung_Label\"] =='männlich')) ]"
   ]
  },
  {
   "cell_type": "code",
   "execution_count": null,
   "metadata": {},
   "outputs": [],
   "source": [
    "kunst"
   ]
  },
  {
   "cell_type": "markdown",
   "metadata": {},
   "source": [
    "## Visualisierung"
   ]
  },
  {
   "cell_type": "code",
   "execution_count": null,
   "metadata": {},
   "outputs": [],
   "source": [
    "kunst"
   ]
  },
  {
   "cell_type": "code",
   "execution_count": null,
   "metadata": {},
   "outputs": [],
   "source": [
    "kunst = kunst.pivot(index='Zeit', columns='3_Auspraegung_Label', values='BIL051__Durchschnittsalter_der_habilitierten_Personen__Jahre')"
   ]
  },
  {
   "cell_type": "code",
   "execution_count": null,
   "metadata": {},
   "outputs": [],
   "source": [
    "kunst"
   ]
  },
  {
   "cell_type": "code",
   "execution_count": null,
   "metadata": {},
   "outputs": [],
   "source": [
    "kunst.plot()"
   ]
  },
  {
   "cell_type": "markdown",
   "metadata": {},
   "source": [
    "### Hm, das mit dem Zahlenformat hat nicht geklappt"
   ]
  },
  {
   "cell_type": "code",
   "execution_count": null,
   "metadata": {},
   "outputs": [],
   "source": [
    "# In der Spalte mit dem Durchschnittsalter ist das Komma leider nicht korrekt ersetzt worden. Shit happens.\n",
    "# Eine einzelne Spalte kann mit df.Name_der_Spalte aufgerufen werden. (Falls der Name der Spalte Leerzeichen oder Sonderzeichen enthält mit df['Name der Spalte'])\n",
    "kunst.männlich"
   ]
  },
  {
   "cell_type": "code",
   "execution_count": null,
   "metadata": {},
   "outputs": [],
   "source": [
    "# Dass das nicht geklappt hat, liegt daran, dass es ürsprünglich mal fehlende Werte gab, die das Zeichen '-' enthalten haben (Bei 'Veterinärmedizin' gibt es in der .csv von destatis keine Daten ab 2015)\n",
    "# Durch das Filtern sind wir diese seltsamen Werte losgeworden. Leider enthalten unsere Werte immer noch ',' statt '.'.\n",
    "# Um zu sehen, welche Werte vorhanden sind, kannst du zum Beispiel zählen lassen, wie welche Werte wie oft vorkommen.   \n",
    "kunst.weiblich.value_counts()"
   ]
  },
  {
   "cell_type": "code",
   "execution_count": null,
   "metadata": {},
   "outputs": [],
   "source": [
    "# Also bereinigen wir die Spalte selbst. Pandas ist gut darin, Strings zu verändern. In diesem Fall wollen wir in unserer Spalte ',' durch '.' ersetzen\n",
    "kunst.männlich = kunst.männlich.str.replace(',', '.')\n",
    "kunst.weiblich = kunst.weiblich.str.replace(',', '.')"
   ]
  },
  {
   "cell_type": "code",
   "execution_count": null,
   "metadata": {},
   "outputs": [],
   "source": [
    "kunst.head()"
   ]
  },
  {
   "cell_type": "code",
   "execution_count": null,
   "metadata": {},
   "outputs": [],
   "source": [
    "# Die ',' wurden zwar durch '.' ersetzt, aber der Datentyp ist immer noch 'Object'. Wir brauchen aber numerische Daten (int, float) zum plotten. \n",
    "kunst.dtypes"
   ]
  },
  {
   "cell_type": "code",
   "execution_count": null,
   "metadata": {},
   "outputs": [],
   "source": [
    "kunst.plot()"
   ]
  },
  {
   "cell_type": "code",
   "execution_count": null,
   "metadata": {},
   "outputs": [],
   "source": [
    "# So änderst du den Datentyp auf float\n",
    "kunst.männlich = kunst.männlich.astype('float')\n",
    "kunst.weiblich = kunst.weiblich.astype('float')"
   ]
  },
  {
   "cell_type": "code",
   "execution_count": null,
   "metadata": {},
   "outputs": [],
   "source": [
    "kunst"
   ]
  },
  {
   "cell_type": "code",
   "execution_count": null,
   "metadata": {},
   "outputs": [],
   "source": [
    "kunst.plot()"
   ]
  },
  {
   "cell_type": "code",
   "execution_count": null,
   "metadata": {},
   "outputs": [],
   "source": [
    "kunst.plot(kind=\"bar\", figsize=(15,6))"
   ]
  },
  {
   "cell_type": "markdown",
   "metadata": {},
   "source": [
    "## Übung"
   ]
  },
  {
   "cell_type": "code",
   "execution_count": null,
   "metadata": {},
   "outputs": [],
   "source": [
    "# Zeige, wie sich das Durchschnittsalter der habilitierten Personen in Deutschland insgesamt verändert hat\n"
   ]
  },
  {
   "cell_type": "code",
   "execution_count": null,
   "metadata": {},
   "outputs": [],
   "source": []
  },
  {
   "cell_type": "code",
   "execution_count": null,
   "metadata": {},
   "outputs": [],
   "source": []
  },
  {
   "cell_type": "code",
   "execution_count": null,
   "metadata": {},
   "outputs": [],
   "source": []
  },
  {
   "cell_type": "code",
   "execution_count": null,
   "metadata": {},
   "outputs": [],
   "source": [
    "# Stelle die Veränderung in einem Linechart dar\n"
   ]
  },
  {
   "cell_type": "markdown",
   "metadata": {},
   "source": [
    "## Gruppieren"
   ]
  },
  {
   "cell_type": "markdown",
   "metadata": {},
   "source": [
    "### In welchem Bereich ist das Habilitationsalter am höchsten?"
   ]
  },
  {
   "cell_type": "markdown",
   "metadata": {},
   "source": [
    "Um Durchschnitte berechnen zu können, muss die Werte Spalte den Datentyp 'float' haben, also ausschließlich Nummern enthalten."
   ]
  },
  {
   "cell_type": "code",
   "execution_count": null,
   "metadata": {},
   "outputs": [],
   "source": [
    "df.dtypes"
   ]
  },
  {
   "cell_type": "markdown",
   "metadata": {},
   "source": [
    "Um die Spalte zu bereinigen:\n",
    "\n",
    "- müssen wir den kompletten Datensatz von fehlendenden Werten befreien\n",
    "- müssen wir die Spalte in numerische Werte umwandeln "
   ]
  },
  {
   "cell_type": "code",
   "execution_count": null,
   "metadata": {},
   "outputs": [],
   "source": [
    "# Durch value_counts sehen wir, dass häufig '-' bei fehlenden Daten auftaucht.\n",
    "df['BIL051__Durchschnittsalter_der_habilitierten_Personen__Jahre'].value_counts().head()"
   ]
  },
  {
   "cell_type": "code",
   "execution_count": null,
   "metadata": {},
   "outputs": [],
   "source": [
    "# Anzeigen, in welchen Fällen das so ist:\n",
    "df[df.BIL051__Durchschnittsalter_der_habilitierten_Personen__Jahre == '-']"
   ]
  },
  {
   "cell_type": "code",
   "execution_count": null,
   "metadata": {},
   "outputs": [],
   "source": [
    "# Die entsprechenden Fachrichtungen aussortieren\n",
    "df = df[(df['2_Auspraegung_Label'] != 'Veterinärmedizin') & \n",
    "        (df['2_Auspraegung_Label'] != 'Agrar-, Forst- und Ernährungswissenschaften') & \n",
    "        (df['2_Auspraegung_Label'] != 'Agrar-, Forst- u.Ernährungswiss., Veterinärmedizin') &\n",
    "        (df['2_Auspraegung_Label'] != 'Sport')\n",
    "       ]"
   ]
  },
  {
   "cell_type": "code",
   "execution_count": null,
   "metadata": {},
   "outputs": [],
   "source": [
    "# ',' Werte durch '.' ersetzen\n",
    "df.BIL051__Durchschnittsalter_der_habilitierten_Personen__Jahre = df.BIL051__Durchschnittsalter_der_habilitierten_Personen__Jahre.str.replace(',', '.')"
   ]
  },
  {
   "cell_type": "code",
   "execution_count": null,
   "metadata": {},
   "outputs": [],
   "source": [
    "# Datentyp auf float ändern\n",
    "df.BIL051__Durchschnittsalter_der_habilitierten_Personen__Jahre = df.BIL051__Durchschnittsalter_der_habilitierten_Personen__Jahre.astype('float')"
   ]
  },
  {
   "cell_type": "code",
   "execution_count": null,
   "metadata": {},
   "outputs": [],
   "source": [
    "# So wird der Durchschnitt der Jahre gebildet\n",
    "alter_im_schnitt = df.groupby('2_Auspraegung_Label').mean().round(2).sort_values('BIL051__Durchschnittsalter_der_habilitierten_Personen__Jahre', ascending=False)\n",
    "alter_im_schnitt"
   ]
  },
  {
   "cell_type": "markdown",
   "metadata": {},
   "source": [
    "Hier noch mal Schritt für Schitt erklärt:\n",
    "\n",
    "Um das Alter im Schnitt zu berechnen\n",
    "- gruppieren wir nach '2_Ausprägung_Label': .groupby('2_Auspraegung_Label')\n",
    "- nehmen jeweils den Durchschnitt: .mean()\n",
    "- runden das Ergebnis auf 2 Stellen: .round(2)\n",
    "- sortieren die Werte absteigend: .sort_values('BIL051__Durchschnittsalter_der_habilitierten_Personen__Jahre', ascending=False)"
   ]
  },
  {
   "cell_type": "code",
   "execution_count": null,
   "metadata": {},
   "outputs": [],
   "source": [
    "# Daten plotten\n",
    "alter_im_schnitt.plot.barh(y='BIL051__Durchschnittsalter_der_habilitierten_Personen__Jahre', \n",
    "                                           legend=False, \n",
    "                                           title=\"Durchschnittsalter der habilitierten Personen\",\n",
    "                                          figsize=(12,10))"
   ]
  },
  {
   "cell_type": "markdown",
   "metadata": {},
   "source": [
    "## Übung\n",
    "\n",
    "Aus welchem Gebiet stammen im Schnitt die jüngsten männlichen Eingebürgerten?"
   ]
  },
  {
   "cell_type": "markdown",
   "metadata": {},
   "source": [
    "- Suche auf [https://www-genesis.destatis.de/genesis/online] nach 'Durchschnittsalter der Eingebürgerten: Deutschland, Jahre, Ländergruppierungen/Staatsangehörigkeit, Geschlecht,Familienstand\n",
    "- Lade den Datensatz als Flat.csv herunter\n",
    "- Lesen ihn als DataFrame ein\n",
    "- Wähle folgende Spalten aus: '2_Auspraegung_Label', '3_Auspraegung_Label', '4_Auspraegung_Label', 'BEV064__Durchschnittsalter_der_Eingebuergerten__Jahre'\n",
    "- Filtere auf 'männlich' und 'ledig\n",
    "- Sortiere den Datensatz nach dem Durchschnittsalter "
   ]
  },
  {
   "cell_type": "code",
   "execution_count": null,
   "metadata": {},
   "outputs": [],
   "source": []
  },
  {
   "cell_type": "code",
   "execution_count": null,
   "metadata": {},
   "outputs": [],
   "source": []
  },
  {
   "cell_type": "code",
   "execution_count": null,
   "metadata": {},
   "outputs": [],
   "source": []
  },
  {
   "cell_type": "code",
   "execution_count": null,
   "metadata": {},
   "outputs": [],
   "source": []
  },
  {
   "cell_type": "code",
   "execution_count": null,
   "metadata": {},
   "outputs": [],
   "source": []
  },
  {
   "cell_type": "code",
   "execution_count": null,
   "metadata": {},
   "outputs": [],
   "source": []
  },
  {
   "cell_type": "code",
   "execution_count": null,
   "metadata": {},
   "outputs": [],
   "source": []
  },
  {
   "cell_type": "markdown",
   "metadata": {},
   "source": [
    "## Übung"
   ]
  },
  {
   "cell_type": "markdown",
   "metadata": {},
   "source": [
    "- Such dir einen Datensatz in [https://www-genesis.destatis.de/]\n",
    "- Lade den Datensatz als Flat-Table herunter\n",
    "- Lese ihn als DataFrame ein\n",
    "- Stelle dir eine Frage zu diesem Datensatz, die du beantworten willst \n",
    "- Wähle die Spalten aus, die du brauchst\n",
    "- Filtere den Datensatz ggf. so, dass fehlende Daten ausgeblendet werden\n",
    "- Gruppiere oder sortiere falls nötig\n",
    "- Beantworte deine Frage"
   ]
  },
  {
   "cell_type": "code",
   "execution_count": null,
   "metadata": {},
   "outputs": [],
   "source": []
  },
  {
   "cell_type": "markdown",
   "metadata": {},
   "source": [
    "Hervorragend! \n",
    "\n",
    "Weiter geht es mit dem \n",
    "\n",
    "**[>> Datenportal Notebook](04b_real_real_data_datenportal_csv.ipynb)**"
   ]
  },
  {
   "cell_type": "code",
   "execution_count": null,
   "metadata": {},
   "outputs": [],
   "source": []
  }
 ],
 "metadata": {
  "kernelspec": {
   "display_name": "Python 3",
   "language": "python",
   "name": "python3"
  },
  "language_info": {
   "codemirror_mode": {
    "name": "ipython",
    "version": 3
   },
   "file_extension": ".py",
   "mimetype": "text/x-python",
   "name": "python",
   "nbconvert_exporter": "python",
   "pygments_lexer": "ipython3",
   "version": "3.6.9"
  }
 },
 "nbformat": 4,
 "nbformat_minor": 4
}
