{
 "cells": [
  {
   "cell_type": "code",
   "execution_count": 1,
   "metadata": {},
   "outputs": [
    {
     "ename": "ModuleNotFoundError",
     "evalue": "No module named 'geopandas'",
     "output_type": "error",
     "traceback": [
      "\u001b[0;31m---------------------------------------------------------------------------\u001b[0m",
      "\u001b[0;31mModuleNotFoundError\u001b[0m                       Traceback (most recent call last)",
      "\u001b[0;32m<ipython-input-1-f5aa23b6b7ba>\u001b[0m in \u001b[0;36m<module>\u001b[0;34m\u001b[0m\n\u001b[1;32m      1\u001b[0m \u001b[0;32mimport\u001b[0m \u001b[0mpandas\u001b[0m \u001b[0;32mas\u001b[0m \u001b[0mpd\u001b[0m\u001b[0;34m\u001b[0m\u001b[0;34m\u001b[0m\u001b[0m\n\u001b[0;32m----> 2\u001b[0;31m \u001b[0;32mimport\u001b[0m \u001b[0mgeopandas\u001b[0m \u001b[0;32mas\u001b[0m \u001b[0mgpd\u001b[0m\u001b[0;34m\u001b[0m\u001b[0;34m\u001b[0m\u001b[0m\n\u001b[0m\u001b[1;32m      3\u001b[0m \u001b[0;32mimport\u001b[0m \u001b[0mfolium\u001b[0m\u001b[0;34m\u001b[0m\u001b[0;34m\u001b[0m\u001b[0m\n\u001b[1;32m      4\u001b[0m \u001b[0;32mimport\u001b[0m \u001b[0mbranca\u001b[0m\u001b[0;34m.\u001b[0m\u001b[0mcolormap\u001b[0m \u001b[0;32mas\u001b[0m \u001b[0mcm\u001b[0m\u001b[0;34m\u001b[0m\u001b[0;34m\u001b[0m\u001b[0m\n\u001b[1;32m      5\u001b[0m \u001b[0;32mimport\u001b[0m \u001b[0mbranca\u001b[0m\u001b[0;34m\u001b[0m\u001b[0;34m\u001b[0m\u001b[0m\n",
      "\u001b[0;31mModuleNotFoundError\u001b[0m: No module named 'geopandas'"
     ]
    }
   ],
   "source": [
    "import pandas as pd\n",
    "import geopandas as gpd\n",
    "import folium\n",
    "import branca.colormap as cm\n",
    "import branca\n",
    "\n",
    "print(folium.__version__)"
   ]
  },
  {
   "cell_type": "markdown",
   "metadata": {},
   "source": [
    "# Interactive Choropleth Map using Folium and Python\n",
    "\n",
    "Cudos to:\n",
    "\n",
    "Medium: https://medium.com/@lindsayrallen1/interactive-choropleth-map-of-washington-dc-using-folium-and-python-2794708514d5\n",
    "\n",
    "Github: https://github.com/lindsallen/mapping/blob/master/dc_choropleth_wtooltip.ipynb"
   ]
  },
  {
   "cell_type": "markdown",
   "metadata": {},
   "source": [
    "### Folium.docs \n",
    "    https://python-visualization.github.io/folium/index.html"
   ]
  },
  {
   "cell_type": "markdown",
   "metadata": {},
   "source": [
    "First part taken from: \n",
    "\n",
    "### Interactive choropleth with Python and Folium (and some tips)\n",
    "\n",
    "https://vverde.github.io/blob/interactivechoropleth.html"
   ]
  },
  {
   "cell_type": "code",
   "execution_count": null,
   "metadata": {},
   "outputs": [],
   "source": [
    "# Read geodata nrw_gemeinden from data folder\n",
    "\n",
    "fname = './data/nrw_gemeinden.json'\n",
    "map = gpd.read_file(fname)\n",
    "map.head()"
   ]
  },
  {
   "cell_type": "code",
   "execution_count": null,
   "metadata": {},
   "outputs": [],
   "source": [
    "map=map[['AGS', 'GEN', 'geometry']]\n",
    "map.head()"
   ]
  },
  {
   "cell_type": "code",
   "execution_count": null,
   "metadata": {},
   "outputs": [],
   "source": [
    "map.crs = \"EPSG:4326\""
   ]
  },
  {
   "cell_type": "code",
   "execution_count": null,
   "metadata": {},
   "outputs": [],
   "source": [
    "population = pd.read_csv('./data/durchschnittsalter_nrw_gemeinden.csv', dtype={'AGS': 'str'}, decimal=',')\n",
    "population.head(5)"
   ]
  },
  {
   "cell_type": "code",
   "execution_count": null,
   "metadata": {},
   "outputs": [],
   "source": [
    "population=population[['AGS','alter']]\n",
    "population.head(5)"
   ]
  },
  {
   "cell_type": "code",
   "execution_count": null,
   "metadata": {},
   "outputs": [],
   "source": [
    "mappop=map.merge(population,on=\"AGS\")\n",
    "mappop.head()"
   ]
  },
  {
   "cell_type": "code",
   "execution_count": null,
   "metadata": {},
   "outputs": [],
   "source": [
    "mappop.columns"
   ]
  },
  {
   "cell_type": "code",
   "execution_count": null,
   "metadata": {},
   "outputs": [],
   "source": [
    "x_map=map.centroid.x.mean()\n",
    "y_map=map.centroid.y.mean()\n",
    "print(x_map,y_map)"
   ]
  },
  {
   "cell_type": "code",
   "execution_count": null,
   "metadata": {},
   "outputs": [],
   "source": [
    "m = folium.Map(location=[y_map, x_map], zoom_start=8,tiles=None)\n",
    "folium.TileLayer('CartoDB positron',name=\"Light Map\",control=False).add_to(m)\n",
    "m"
   ]
  },
  {
   "cell_type": "markdown",
   "metadata": {},
   "source": [
    "### folium.Choropleth"
   ]
  },
  {
   "cell_type": "raw",
   "metadata": {},
   "source": [
    "folium.Choropleth(\n",
    "    geo_data=mappop,\n",
    "    name='choropleth',\n",
    "    data=mappop,\n",
    "    columns=['AGS', 'alter'],\n",
    "    key_on='feature.properties.AGS',\n",
    "    fill_color='YlGn',\n",
    "    fill_opacity=0.7,\n",
    "    line_opacity=0.2,\n",
    "    legend_name='Unemployment Rate (%)'\n",
    ").add_to(m)\n",
    "\n",
    "folium.LayerControl().add_to(m)\n",
    "\n",
    "m"
   ]
  },
  {
   "cell_type": "markdown",
   "metadata": {},
   "source": [
    "### folium.GeoJSON"
   ]
  },
  {
   "cell_type": "code",
   "execution_count": null,
   "metadata": {},
   "outputs": [],
   "source": [
    "variable = 'alter'\n",
    "name = 'Durchschnittsalter'\n",
    "print(name, 'colorscale')\n",
    "\n",
    "print('Min:', mappop.alter.min())\n",
    "print('Max:', mappop.alter.max())"
   ]
  },
  {
   "cell_type": "code",
   "execution_count": null,
   "metadata": {},
   "outputs": [],
   "source": [
    "df = mappop[['GEN', variable]].sort_values(by=variable, ascending=False)\n",
    "df.reset_index(inplace=True)\n",
    "quantiles = list(df[df.index.isin([0,66, 132, 198, 264, 330])][variable])\n",
    "quantiles.append(0)\n",
    "quantiles.sort()\n",
    "quantiles"
   ]
  },
  {
   "cell_type": "code",
   "execution_count": null,
   "metadata": {},
   "outputs": [],
   "source": [
    "colorscale = branca.colormap.linear.YlOrRd_09.scale(mappop.alter.min(), mappop.alter.max())\n",
    "colorscale = colorscale.to_step(n=6, quantiles=quantiles)\n",
    "colorscale.caption = name ## adds name for legend\n",
    "colorscale"
   ]
  },
  {
   "cell_type": "code",
   "execution_count": null,
   "metadata": {},
   "outputs": [],
   "source": [
    "folium.GeoJson(mappop, ## GeoPandas dataframe\n",
    "               name=\"Durchschnittsalter\",\n",
    "                   \n",
    "               ## controls the fill of the geo regions; applying colorscale based on variable\n",
    "               style_function=lambda x: {\"weight\":1\n",
    "                                         , 'color': '#545453'\n",
    "                                         ## if variable is 0 map is a very light grey\n",
    "                                         ## else colorscale applies based on variable\n",
    "                                         , 'fillColor':'#9B9B9B' if x['properties'][variable] == 0 \n",
    "                                         else colorscale(x['properties'][variable])\n",
    "                                         ## similarly opacity is increased if value is 0\n",
    "                                         , 'fillOpacity': 0.2 if x['properties'][variable] == 0 \n",
    "                                         else 0.5},\n",
    "                   \n",
    "               ## changes styling of geo regions upon hover\n",
    "               highlight_function=lambda x: {'weight':3, 'color':'black', 'fillOpacity': 1}, \n",
    "               \n",
    "                ## tooltip can include information from any column in the GeoPandas dataframe   \n",
    "                tooltip=folium.features.GeoJsonTooltip(\n",
    "                fields=['GEN', variable],\n",
    "                aliases=['Ort:', name])\n",
    "              ).add_to(m)\n",
    "\n",
    "## add colorscale to map so that it appears as the legend\n",
    "colorscale.add_to(m)\n",
    "    \n",
    "m"
   ]
  }
 ],
 "metadata": {
  "kernelspec": {
   "display_name": "Python 3",
   "language": "python",
   "name": "python3"
  },
  "language_info": {
   "codemirror_mode": {
    "name": "ipython",
    "version": 3
   },
   "file_extension": ".py",
   "mimetype": "text/x-python",
   "name": "python",
   "nbconvert_exporter": "python",
   "pygments_lexer": "ipython3",
   "version": "3.6.9"
  },
  "vscode": {
   "interpreter": {
    "hash": "31f2aee4e71d21fbe5cf8b01ff0e069b9275f58929596ceb00d14d90e3e16cd6"
   }
  }
 },
 "nbformat": 4,
 "nbformat_minor": 4
}
